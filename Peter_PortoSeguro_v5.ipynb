{
 "cells": [
  {
   "cell_type": "markdown",
   "metadata": {},
   "source": [
    "# Porto Seguro’s Safe Driver Prediction"
   ]
  },
  {
   "cell_type": "markdown",
   "metadata": {},
   "source": [
    "I got Felipe Antunes code as a startpack: https://github.com/felipeeeantunes/udacity_live"
   ]
  },
  {
   "cell_type": "markdown",
   "metadata": {},
   "source": [
    "## Initializing"
   ]
  },
  {
   "cell_type": "code",
   "execution_count": 1,
   "metadata": {
    "collapsed": true
   },
   "outputs": [],
   "source": [
    "import pandas as pd\n",
    "import numpy as np\n",
    "import seaborn as sns\n",
    "import missingno as msno\n",
    "import gc\n",
    "from time import time\n",
    "from multiprocessing import *"
   ]
  },
  {
   "cell_type": "code",
   "execution_count": 2,
   "metadata": {
    "collapsed": true
   },
   "outputs": [],
   "source": [
    "import matplotlib.pyplot as plt\n",
    "%matplotlib inline\n",
    "\n",
    "from IPython.display import set_matplotlib_formats\n",
    "set_matplotlib_formats('pdf', 'png')\n",
    "pd.options.display.float_format = '{:.2f}'.format\n",
    "rc={'savefig.dpi': 75, 'figure.autolayout': False, 'figure.figsize': [12, 8], 'axes.labelsize': 18,\\\n",
    "   'axes.titlesize': 18, 'font.size': 18, 'lines.linewidth': 2.0, 'lines.markersize': 8, 'legend.fontsize': 16,\\\n",
    "   'xtick.labelsize': 16, 'ytick.labelsize': 16}\n",
    "\n",
    "sns.set(style='dark',rc=rc)"
   ]
  },
  {
   "cell_type": "code",
   "execution_count": 3,
   "metadata": {
    "collapsed": true
   },
   "outputs": [],
   "source": [
    "default_color = '#56B4E9'\n",
    "colormap = plt.cm.cool"
   ]
  },
  {
   "cell_type": "code",
   "execution_count": 4,
   "metadata": {
    "collapsed": true
   },
   "outputs": [],
   "source": [
    "# Setting working directory\n",
    "path = '../data/raw/'"
   ]
  },
  {
   "cell_type": "markdown",
   "metadata": {},
   "source": [
    "## Loading Files"
   ]
  },
  {
   "cell_type": "code",
   "execution_count": 5,
   "metadata": {
    "collapsed": true
   },
   "outputs": [],
   "source": [
    "train = pd.read_csv(path + 'train.csv')\n",
    "test = pd.read_csv(path + 'test.csv')"
   ]
  },
  {
   "cell_type": "code",
   "execution_count": 6,
   "metadata": {
    "collapsed": true
   },
   "outputs": [],
   "source": [
    "y = train['target']\n",
    "del train['target']"
   ]
  },
  {
   "cell_type": "code",
   "execution_count": 7,
   "metadata": {},
   "outputs": [
    {
     "data": {
      "text/plain": [
       "0    0\n",
       "1    0\n",
       "2    0\n",
       "3    0\n",
       "4    0\n",
       "Name: target, dtype: int64"
      ]
     },
     "execution_count": 7,
     "metadata": {},
     "output_type": "execute_result"
    }
   ],
   "source": [
    "y.head(5)"
   ]
  },
  {
   "cell_type": "code",
   "execution_count": 8,
   "metadata": {
    "collapsed": true
   },
   "outputs": [],
   "source": [
    "id_train = train['id'].values\n",
    "id_test = test['id'].values"
   ]
  },
  {
   "cell_type": "code",
   "execution_count": 9,
   "metadata": {
    "scrolled": false
   },
   "outputs": [
    {
     "data": {
      "text/plain": [
       "['id',\n",
       " 'ps_ind_01',\n",
       " 'ps_ind_02_cat',\n",
       " 'ps_ind_03',\n",
       " 'ps_ind_04_cat',\n",
       " 'ps_ind_05_cat',\n",
       " 'ps_ind_06_bin',\n",
       " 'ps_ind_07_bin',\n",
       " 'ps_ind_08_bin',\n",
       " 'ps_ind_09_bin',\n",
       " 'ps_ind_10_bin',\n",
       " 'ps_ind_11_bin',\n",
       " 'ps_ind_12_bin',\n",
       " 'ps_ind_13_bin',\n",
       " 'ps_ind_14',\n",
       " 'ps_ind_15',\n",
       " 'ps_ind_16_bin',\n",
       " 'ps_ind_17_bin',\n",
       " 'ps_ind_18_bin',\n",
       " 'ps_reg_01',\n",
       " 'ps_reg_02',\n",
       " 'ps_reg_03',\n",
       " 'ps_car_01_cat',\n",
       " 'ps_car_02_cat',\n",
       " 'ps_car_03_cat',\n",
       " 'ps_car_04_cat',\n",
       " 'ps_car_05_cat',\n",
       " 'ps_car_06_cat',\n",
       " 'ps_car_07_cat',\n",
       " 'ps_car_08_cat',\n",
       " 'ps_car_09_cat',\n",
       " 'ps_car_10_cat',\n",
       " 'ps_car_11_cat',\n",
       " 'ps_car_11',\n",
       " 'ps_car_12',\n",
       " 'ps_car_13',\n",
       " 'ps_car_14',\n",
       " 'ps_car_15',\n",
       " 'ps_calc_01',\n",
       " 'ps_calc_02',\n",
       " 'ps_calc_03',\n",
       " 'ps_calc_04',\n",
       " 'ps_calc_05',\n",
       " 'ps_calc_06',\n",
       " 'ps_calc_07',\n",
       " 'ps_calc_08',\n",
       " 'ps_calc_09',\n",
       " 'ps_calc_10',\n",
       " 'ps_calc_11',\n",
       " 'ps_calc_12',\n",
       " 'ps_calc_13',\n",
       " 'ps_calc_14',\n",
       " 'ps_calc_15_bin',\n",
       " 'ps_calc_16_bin',\n",
       " 'ps_calc_17_bin',\n",
       " 'ps_calc_18_bin',\n",
       " 'ps_calc_19_bin',\n",
       " 'ps_calc_20_bin']"
      ]
     },
     "execution_count": 9,
     "metadata": {},
     "output_type": "execute_result"
    }
   ],
   "source": [
    "columns_original = list(train.columns)\n",
    "columns_original"
   ]
  },
  {
   "cell_type": "code",
   "execution_count": 10,
   "metadata": {},
   "outputs": [
    {
     "data": {
      "text/html": [
       "<div>\n",
       "<style scoped>\n",
       "    .dataframe tbody tr th:only-of-type {\n",
       "        vertical-align: middle;\n",
       "    }\n",
       "\n",
       "    .dataframe tbody tr th {\n",
       "        vertical-align: top;\n",
       "    }\n",
       "\n",
       "    .dataframe thead th {\n",
       "        text-align: right;\n",
       "    }\n",
       "</style>\n",
       "<table border=\"1\" class=\"dataframe\">\n",
       "  <thead>\n",
       "    <tr style=\"text-align: right;\">\n",
       "      <th></th>\n",
       "      <th>id</th>\n",
       "      <th>ps_ind_01</th>\n",
       "      <th>ps_ind_02_cat</th>\n",
       "      <th>ps_ind_03</th>\n",
       "      <th>ps_ind_04_cat</th>\n",
       "      <th>ps_ind_05_cat</th>\n",
       "      <th>ps_ind_06_bin</th>\n",
       "      <th>ps_ind_07_bin</th>\n",
       "      <th>ps_ind_08_bin</th>\n",
       "      <th>ps_ind_09_bin</th>\n",
       "      <th>...</th>\n",
       "      <th>ps_calc_11</th>\n",
       "      <th>ps_calc_12</th>\n",
       "      <th>ps_calc_13</th>\n",
       "      <th>ps_calc_14</th>\n",
       "      <th>ps_calc_15_bin</th>\n",
       "      <th>ps_calc_16_bin</th>\n",
       "      <th>ps_calc_17_bin</th>\n",
       "      <th>ps_calc_18_bin</th>\n",
       "      <th>ps_calc_19_bin</th>\n",
       "      <th>ps_calc_20_bin</th>\n",
       "    </tr>\n",
       "  </thead>\n",
       "  <tbody>\n",
       "    <tr>\n",
       "      <th>0</th>\n",
       "      <td>7</td>\n",
       "      <td>2</td>\n",
       "      <td>2</td>\n",
       "      <td>5</td>\n",
       "      <td>1</td>\n",
       "      <td>0</td>\n",
       "      <td>0</td>\n",
       "      <td>1</td>\n",
       "      <td>0</td>\n",
       "      <td>0</td>\n",
       "      <td>...</td>\n",
       "      <td>9</td>\n",
       "      <td>1</td>\n",
       "      <td>5</td>\n",
       "      <td>8</td>\n",
       "      <td>0</td>\n",
       "      <td>1</td>\n",
       "      <td>1</td>\n",
       "      <td>0</td>\n",
       "      <td>0</td>\n",
       "      <td>1</td>\n",
       "    </tr>\n",
       "    <tr>\n",
       "      <th>1</th>\n",
       "      <td>9</td>\n",
       "      <td>1</td>\n",
       "      <td>1</td>\n",
       "      <td>7</td>\n",
       "      <td>0</td>\n",
       "      <td>0</td>\n",
       "      <td>0</td>\n",
       "      <td>0</td>\n",
       "      <td>1</td>\n",
       "      <td>0</td>\n",
       "      <td>...</td>\n",
       "      <td>3</td>\n",
       "      <td>1</td>\n",
       "      <td>1</td>\n",
       "      <td>9</td>\n",
       "      <td>0</td>\n",
       "      <td>1</td>\n",
       "      <td>1</td>\n",
       "      <td>0</td>\n",
       "      <td>1</td>\n",
       "      <td>0</td>\n",
       "    </tr>\n",
       "    <tr>\n",
       "      <th>2</th>\n",
       "      <td>13</td>\n",
       "      <td>5</td>\n",
       "      <td>4</td>\n",
       "      <td>9</td>\n",
       "      <td>1</td>\n",
       "      <td>0</td>\n",
       "      <td>0</td>\n",
       "      <td>0</td>\n",
       "      <td>1</td>\n",
       "      <td>0</td>\n",
       "      <td>...</td>\n",
       "      <td>4</td>\n",
       "      <td>2</td>\n",
       "      <td>7</td>\n",
       "      <td>7</td>\n",
       "      <td>0</td>\n",
       "      <td>1</td>\n",
       "      <td>1</td>\n",
       "      <td>0</td>\n",
       "      <td>1</td>\n",
       "      <td>0</td>\n",
       "    </tr>\n",
       "    <tr>\n",
       "      <th>3</th>\n",
       "      <td>16</td>\n",
       "      <td>0</td>\n",
       "      <td>1</td>\n",
       "      <td>2</td>\n",
       "      <td>0</td>\n",
       "      <td>0</td>\n",
       "      <td>1</td>\n",
       "      <td>0</td>\n",
       "      <td>0</td>\n",
       "      <td>0</td>\n",
       "      <td>...</td>\n",
       "      <td>2</td>\n",
       "      <td>2</td>\n",
       "      <td>4</td>\n",
       "      <td>9</td>\n",
       "      <td>0</td>\n",
       "      <td>0</td>\n",
       "      <td>0</td>\n",
       "      <td>0</td>\n",
       "      <td>0</td>\n",
       "      <td>0</td>\n",
       "    </tr>\n",
       "    <tr>\n",
       "      <th>4</th>\n",
       "      <td>17</td>\n",
       "      <td>0</td>\n",
       "      <td>2</td>\n",
       "      <td>0</td>\n",
       "      <td>1</td>\n",
       "      <td>0</td>\n",
       "      <td>1</td>\n",
       "      <td>0</td>\n",
       "      <td>0</td>\n",
       "      <td>0</td>\n",
       "      <td>...</td>\n",
       "      <td>3</td>\n",
       "      <td>1</td>\n",
       "      <td>1</td>\n",
       "      <td>3</td>\n",
       "      <td>0</td>\n",
       "      <td>0</td>\n",
       "      <td>0</td>\n",
       "      <td>1</td>\n",
       "      <td>1</td>\n",
       "      <td>0</td>\n",
       "    </tr>\n",
       "  </tbody>\n",
       "</table>\n",
       "<p>5 rows × 58 columns</p>\n",
       "</div>"
      ],
      "text/plain": [
       "   id  ps_ind_01  ps_ind_02_cat  ps_ind_03  ps_ind_04_cat  ps_ind_05_cat  \\\n",
       "0   7          2              2          5              1              0   \n",
       "1   9          1              1          7              0              0   \n",
       "2  13          5              4          9              1              0   \n",
       "3  16          0              1          2              0              0   \n",
       "4  17          0              2          0              1              0   \n",
       "\n",
       "   ps_ind_06_bin  ps_ind_07_bin  ps_ind_08_bin  ps_ind_09_bin       ...        \\\n",
       "0              0              1              0              0       ...         \n",
       "1              0              0              1              0       ...         \n",
       "2              0              0              1              0       ...         \n",
       "3              1              0              0              0       ...         \n",
       "4              1              0              0              0       ...         \n",
       "\n",
       "   ps_calc_11  ps_calc_12  ps_calc_13  ps_calc_14  ps_calc_15_bin  \\\n",
       "0           9           1           5           8               0   \n",
       "1           3           1           1           9               0   \n",
       "2           4           2           7           7               0   \n",
       "3           2           2           4           9               0   \n",
       "4           3           1           1           3               0   \n",
       "\n",
       "   ps_calc_16_bin  ps_calc_17_bin  ps_calc_18_bin  ps_calc_19_bin  \\\n",
       "0               1               1               0               0   \n",
       "1               1               1               0               1   \n",
       "2               1               1               0               1   \n",
       "3               0               0               0               0   \n",
       "4               0               0               1               1   \n",
       "\n",
       "   ps_calc_20_bin  \n",
       "0               1  \n",
       "1               0  \n",
       "2               0  \n",
       "3               0  \n",
       "4               0  \n",
       "\n",
       "[5 rows x 58 columns]"
      ]
     },
     "execution_count": 10,
     "metadata": {},
     "output_type": "execute_result"
    }
   ],
   "source": [
    "train.head(5)"
   ]
  },
  {
   "cell_type": "code",
   "execution_count": 11,
   "metadata": {},
   "outputs": [
    {
     "name": "stderr",
     "output_type": "stream",
     "text": [
      "c:\\users\\peter\\anaconda3\\envs\\tflearn-gpu\\lib\\site-packages\\sklearn\\cross_validation.py:41: DeprecationWarning: This module was deprecated in version 0.18 in favor of the model_selection module into which all the refactored classes and functions are moved. Also note that the interface of the new CV iterators are different from that of this module. This module will be removed in 0.20.\n",
      "  \"This module will be removed in 0.20.\", DeprecationWarning)\n"
     ]
    }
   ],
   "source": [
    "from sklearn.ensemble import RandomForestClassifier\n",
    "from xgboost import XGBClassifier\n",
    "from lightgbm import LGBMClassifier\n",
    "from sklearn.linear_model import LogisticRegression\n",
    "\n",
    "from sklearn.model_selection import StratifiedKFold\n",
    "from sklearn.model_selection import cross_val_score"
   ]
  },
  {
   "cell_type": "code",
   "execution_count": 12,
   "metadata": {},
   "outputs": [
    {
     "data": {
      "text/plain": [
       "(21694, 573518, 26.43671061122891)"
      ]
     },
     "execution_count": 12,
     "metadata": {},
     "output_type": "execute_result"
    }
   ],
   "source": [
    "len(y[y == 1]), len(y[y!=1]), len(y[y!=1])/len(y[y == 1])"
   ]
  },
  {
   "cell_type": "code",
   "execution_count": 13,
   "metadata": {
    "collapsed": true
   },
   "outputs": [],
   "source": [
    "positive_indices = np.array(y[y == 1].index)\n",
    "negative_indices = np.array(y[y != 1].index)"
   ]
  },
  {
   "cell_type": "code",
   "execution_count": 14,
   "metadata": {
    "collapsed": true
   },
   "outputs": [],
   "source": [
    "def cross_val_model(X, y, model, n_splits=5):\n",
    "   \n",
    "    X = np.array(X)\n",
    "    y = np.array(y)\n",
    "\n",
    "    folds = list(StratifiedKFold(n_splits=n_splits, shuffle=True, random_state=42).split(X, y))\n",
    "\n",
    "    cross_score_mean = 0.0\n",
    "\n",
    "    t0 = time()\n",
    "    \n",
    "    for j, (train_idx, test_idx) in enumerate(folds):\n",
    "        X_train = X[train_idx]\n",
    "        y_train = y[train_idx]\n",
    "        X_holdout = X[test_idx]\n",
    "        y_holdout = y[test_idx]\n",
    "\n",
    "        print (\"Fit %s fold %d\" % (str(model).split('(')[0], j+1))\n",
    "        model.fit(X_train, y_train)\n",
    "        cross_score = cross_val_score(model, X_holdout, y_holdout, cv=3, scoring='roc_auc')\n",
    "        #print(\"    cross_score: %.5f (%.5f)\" % (cross_score.mean(), cross_score.mean()*2-1)) \n",
    "        print(\"    [%10d secs elapsed]: cross_score: %.5f (%.5f)\" % (time()-t0, cross_score.mean(), cross_score.mean()*2-1)) \n",
    "        cross_score_mean += cross_score.mean()\n",
    "        \n",
    "    cross_score_mean /= n_splits\n",
    "    print(\"cross_score_mean: %.5f (%.5f)\" % (cross_score_mean, cross_score_mean*2-1))"
   ]
  },
  {
   "cell_type": "code",
   "execution_count": 15,
   "metadata": {
    "collapsed": true
   },
   "outputs": [],
   "source": [
    "def cross_val_model_undersampling(X, y, model, n_splits=30):\n",
    "   \n",
    "    positive_indices = np.array(y[y == 1].index)\n",
    "    negative_indices = np.array(y[y == 0].index)\n",
    "\n",
    "    #print(len(positive_indices))\n",
    "    #print(len(negative_indices))\n",
    "    \n",
    "    cross_score_mean = 0.0\n",
    "\n",
    "    t0 = time()\n",
    "    \n",
    "    for j in range(n_splits):\n",
    "\n",
    "        random_indices = np.random.choice(negative_indices, len(positive_indices), replace=False)\n",
    "        randX = np.array(X.loc[random_indices].append(X.loc[positive_indices]))\n",
    "        randy = np.array(y.loc[random_indices].append(y.loc[positive_indices]))\n",
    "\n",
    "        #print(randX.shape)\n",
    "        #print(randy.shape)\n",
    "        \n",
    "        #shuffle\n",
    "        aux = list(zip(randX, randy))\n",
    "        np.random.shuffle(aux)\n",
    "        randX, randy = zip(*aux)\n",
    "        \n",
    "        #select 80/20\n",
    "        indx = int(2*len(positive_indices)*.8)\n",
    "        #print(indx)\n",
    "        \n",
    "        X_train = np.array(randX[:indx])\n",
    "        y_train = np.array(randy[:indx])\n",
    "        X_holdout = np.array(randX[indx:])\n",
    "        y_holdout = np.array(randy[indx:])\n",
    "\n",
    "        #print(X_train.shape)\n",
    "        #print(y_train.shape)\n",
    "        \n",
    "        \n",
    "        print (\"Fit %s fold %d\" % (str(model).split('(')[0], j+1))\n",
    "        model.fit(X_train, y_train)\n",
    "        cross_score = cross_val_score(model, X_holdout, y_holdout, cv=3, scoring='roc_auc')\n",
    "        #print(\"    cross_score: %.5f (%.5f)\" % (cross_score.mean(), cross_score.mean()*2-1)) \n",
    "        print(\"    [%10d secs elapsed]: cross_score: %.5f (%.5f)\" % (time()-t0, cross_score.mean(), cross_score.mean()*2-1)) \n",
    "        cross_score_mean += cross_score.mean()\n",
    "        \n",
    "    cross_score_mean /= n_splits\n",
    "    print(\"cross_score_mean: %.5f (%.5f)\" % (cross_score_mean, cross_score_mean*2-1))"
   ]
  },
  {
   "cell_type": "code",
   "execution_count": 16,
   "metadata": {
    "collapsed": true
   },
   "outputs": [],
   "source": [
    "def cross_val_model_oversampling(X, y, model, n_splits=5):\n",
    "   \n",
    "    folds = list(StratifiedKFold(n_splits=n_splits, shuffle=True, random_state=42).split(X, y))\n",
    "\n",
    "    cross_score_mean = 0.0\n",
    "\n",
    "    t0 = time()\n",
    "    \n",
    "    for j, (train_idx, test_idx) in enumerate(folds):\n",
    "        auxX = X.loc[train_idx]\n",
    "        auxy = y.loc[train_idx]\n",
    "        \n",
    "        positive_indices = np.array(auxy[auxy == 1].index)\n",
    "        negative_indices = np.array(auxy[auxy == 0].index)\n",
    "        #print(len(positive_indices))\n",
    "        #print(len(negative_indices))\n",
    "        \n",
    "        \n",
    "        random_indices = np.random.choice(positive_indices, int(len(negative_indices)/3), replace=True)\n",
    "        randX = np.array(auxX.loc[random_indices].append(auxX.loc[negative_indices]))\n",
    "        randy = np.array(auxy.loc[random_indices].append(auxy.loc[negative_indices]))\n",
    "\n",
    "        #print(randX.shape)\n",
    "        #print(randy.shape)\n",
    "        \n",
    "        #shuffle\n",
    "        aux = list(zip(randX, randy))\n",
    "        np.random.shuffle(aux)\n",
    "        randX, randy = zip(*aux)\n",
    "        \n",
    "        X_train = np.array(randX)\n",
    "        y_train = np.array(randy)\n",
    "        \n",
    "        X_holdout = np.array(X.loc[test_idx])\n",
    "        y_holdout = np.array(y.loc[test_idx])\n",
    "\n",
    "        print (\"Fit %s fold %d\" % (str(model).split('(')[0], j+1))\n",
    "        model.fit(X_train, y_train)\n",
    "        cross_score = cross_val_score(model, X_holdout, y_holdout, cv=3, scoring='roc_auc')\n",
    "        #print(\"    cross_score: %.5f (%.5f)\" % (cross_score.mean(), cross_score.mean()*2-1)) \n",
    "        print(\"    [%10d secs elapsed]: cross_score: %.5f (%.5f)\" % (time()-t0, cross_score.mean(), cross_score.mean()*2-1)) \n",
    "        cross_score_mean += cross_score.mean()\n",
    "        \n",
    "    cross_score_mean /= n_splits\n",
    "    print(\"cross_score_mean: %.5f (%.5f)\" % (cross_score_mean, cross_score_mean*2-1))"
   ]
  },
  {
   "cell_type": "markdown",
   "metadata": {},
   "source": [
    "## Feature Engineering & Selection"
   ]
  },
  {
   "cell_type": "code",
   "execution_count": 17,
   "metadata": {
    "collapsed": true
   },
   "outputs": [],
   "source": [
    "# Selected features from https://www.kaggle.com/ogrellier/xgb-classifier-upsampling-lb-0-283/code\n",
    "selected_features = [\n",
    "    \"ps_car_13\",  #            : 1571.65 / shadow  609.23\n",
    "    \"ps_reg_03\",  #            : 1408.42 / shadow  511.15\n",
    "    \"ps_ind_05_cat\",  #        : 1387.87 / shadow   84.72\n",
    "    \"ps_ind_03\",  #            : 1219.47 / shadow  230.55\n",
    "    \"ps_ind_15\",  #            :  922.18 / shadow  242.00\n",
    "    \"ps_reg_02\",  #            :  920.65 / shadow  267.50\n",
    "    \"ps_car_14\",  #            :  798.48 / shadow  549.58\n",
    "    \"ps_car_12\",  #            :  731.93 / shadow  293.62\n",
    "    \"ps_car_01_cat\",  #        :  698.07 / shadow  178.72\n",
    "    \"ps_car_07_cat\",  #        :  694.53 / shadow   36.35\n",
    "    \"ps_ind_17_bin\",  #        :  620.77 / shadow   23.15\n",
    "    \"ps_car_03_cat\",  #        :  611.73 / shadow   50.67\n",
    "    \"ps_reg_01\",  #            :  598.60 / shadow  178.57\n",
    "    \"ps_car_15\",  #            :  593.35 / shadow  226.43\n",
    "    \"ps_ind_01\",  #            :  547.32 / shadow  154.58\n",
    "    \"ps_ind_16_bin\",  #        :  475.37 / shadow   34.17\n",
    "    \"ps_ind_07_bin\",  #        :  435.28 / shadow   28.92\n",
    "    \"ps_car_06_cat\",  #        :  398.02 / shadow  212.43\n",
    "    \"ps_car_04_cat\",  #        :  376.87 / shadow   76.98\n",
    "    \"ps_ind_06_bin\",  #        :  370.97 / shadow   36.13\n",
    "    \"ps_car_09_cat\",  #        :  214.12 / shadow   81.38\n",
    "    \"ps_car_02_cat\",  #        :  203.03 / shadow   26.67\n",
    "    \"ps_ind_02_cat\",  #        :  189.47 / shadow   65.68\n",
    "    \"ps_car_11\",  #            :  173.28 / shadow   76.45\n",
    "    \"ps_car_05_cat\",  #        :  172.75 / shadow   62.92\n",
    "    \"ps_calc_09\",  #           :  169.13 / shadow  129.72\n",
    "    \"ps_calc_05\",  #           :  148.83 / shadow  120.68\n",
    "    \"ps_ind_08_bin\",  #        :  140.73 / shadow   27.63\n",
    "    \"ps_car_08_cat\",  #        :  120.87 / shadow   28.82\n",
    "    \"ps_ind_09_bin\",  #        :  113.92 / shadow   27.05\n",
    "    \"ps_ind_04_cat\",  #        :  107.27 / shadow   37.43\n",
    "    \"ps_ind_18_bin\",  #        :   77.42 / shadow   25.97\n",
    "    \"ps_ind_12_bin\",  #        :   39.67 / shadow   15.52\n",
    "    \"ps_ind_14\",  #            :   37.37 / shadow   16.65\n",
    "    \"ps_car_11_cat\" # Very nice spot from Tilii : https://www.kaggle.com/tilii7\n",
    "]"
   ]
  },
  {
   "cell_type": "markdown",
   "metadata": {},
   "source": [
    "### Adding Combs"
   ]
  },
  {
   "cell_type": "code",
   "execution_count": 18,
   "metadata": {},
   "outputs": [
    {
     "data": {
      "text/html": [
       "<div>\n",
       "<style scoped>\n",
       "    .dataframe tbody tr th:only-of-type {\n",
       "        vertical-align: middle;\n",
       "    }\n",
       "\n",
       "    .dataframe tbody tr th {\n",
       "        vertical-align: top;\n",
       "    }\n",
       "\n",
       "    .dataframe thead th {\n",
       "        text-align: right;\n",
       "    }\n",
       "</style>\n",
       "<table border=\"1\" class=\"dataframe\">\n",
       "  <thead>\n",
       "    <tr style=\"text-align: right;\">\n",
       "      <th></th>\n",
       "      <th>id</th>\n",
       "      <th>ps_ind_01</th>\n",
       "      <th>ps_ind_02_cat</th>\n",
       "      <th>ps_ind_03</th>\n",
       "      <th>ps_ind_04_cat</th>\n",
       "      <th>ps_ind_05_cat</th>\n",
       "      <th>ps_ind_06_bin</th>\n",
       "      <th>ps_ind_07_bin</th>\n",
       "      <th>ps_ind_08_bin</th>\n",
       "      <th>ps_ind_09_bin</th>\n",
       "      <th>...</th>\n",
       "      <th>ps_calc_11</th>\n",
       "      <th>ps_calc_12</th>\n",
       "      <th>ps_calc_13</th>\n",
       "      <th>ps_calc_14</th>\n",
       "      <th>ps_calc_15_bin</th>\n",
       "      <th>ps_calc_16_bin</th>\n",
       "      <th>ps_calc_17_bin</th>\n",
       "      <th>ps_calc_18_bin</th>\n",
       "      <th>ps_calc_19_bin</th>\n",
       "      <th>ps_calc_20_bin</th>\n",
       "    </tr>\n",
       "  </thead>\n",
       "  <tbody>\n",
       "    <tr>\n",
       "      <th>0</th>\n",
       "      <td>7</td>\n",
       "      <td>2</td>\n",
       "      <td>2</td>\n",
       "      <td>5</td>\n",
       "      <td>1</td>\n",
       "      <td>0</td>\n",
       "      <td>0</td>\n",
       "      <td>1</td>\n",
       "      <td>0</td>\n",
       "      <td>0</td>\n",
       "      <td>...</td>\n",
       "      <td>9</td>\n",
       "      <td>1</td>\n",
       "      <td>5</td>\n",
       "      <td>8</td>\n",
       "      <td>0</td>\n",
       "      <td>1</td>\n",
       "      <td>1</td>\n",
       "      <td>0</td>\n",
       "      <td>0</td>\n",
       "      <td>1</td>\n",
       "    </tr>\n",
       "    <tr>\n",
       "      <th>1</th>\n",
       "      <td>9</td>\n",
       "      <td>1</td>\n",
       "      <td>1</td>\n",
       "      <td>7</td>\n",
       "      <td>0</td>\n",
       "      <td>0</td>\n",
       "      <td>0</td>\n",
       "      <td>0</td>\n",
       "      <td>1</td>\n",
       "      <td>0</td>\n",
       "      <td>...</td>\n",
       "      <td>3</td>\n",
       "      <td>1</td>\n",
       "      <td>1</td>\n",
       "      <td>9</td>\n",
       "      <td>0</td>\n",
       "      <td>1</td>\n",
       "      <td>1</td>\n",
       "      <td>0</td>\n",
       "      <td>1</td>\n",
       "      <td>0</td>\n",
       "    </tr>\n",
       "    <tr>\n",
       "      <th>2</th>\n",
       "      <td>13</td>\n",
       "      <td>5</td>\n",
       "      <td>4</td>\n",
       "      <td>9</td>\n",
       "      <td>1</td>\n",
       "      <td>0</td>\n",
       "      <td>0</td>\n",
       "      <td>0</td>\n",
       "      <td>1</td>\n",
       "      <td>0</td>\n",
       "      <td>...</td>\n",
       "      <td>4</td>\n",
       "      <td>2</td>\n",
       "      <td>7</td>\n",
       "      <td>7</td>\n",
       "      <td>0</td>\n",
       "      <td>1</td>\n",
       "      <td>1</td>\n",
       "      <td>0</td>\n",
       "      <td>1</td>\n",
       "      <td>0</td>\n",
       "    </tr>\n",
       "    <tr>\n",
       "      <th>3</th>\n",
       "      <td>16</td>\n",
       "      <td>0</td>\n",
       "      <td>1</td>\n",
       "      <td>2</td>\n",
       "      <td>0</td>\n",
       "      <td>0</td>\n",
       "      <td>1</td>\n",
       "      <td>0</td>\n",
       "      <td>0</td>\n",
       "      <td>0</td>\n",
       "      <td>...</td>\n",
       "      <td>2</td>\n",
       "      <td>2</td>\n",
       "      <td>4</td>\n",
       "      <td>9</td>\n",
       "      <td>0</td>\n",
       "      <td>0</td>\n",
       "      <td>0</td>\n",
       "      <td>0</td>\n",
       "      <td>0</td>\n",
       "      <td>0</td>\n",
       "    </tr>\n",
       "    <tr>\n",
       "      <th>4</th>\n",
       "      <td>17</td>\n",
       "      <td>0</td>\n",
       "      <td>2</td>\n",
       "      <td>0</td>\n",
       "      <td>1</td>\n",
       "      <td>0</td>\n",
       "      <td>1</td>\n",
       "      <td>0</td>\n",
       "      <td>0</td>\n",
       "      <td>0</td>\n",
       "      <td>...</td>\n",
       "      <td>3</td>\n",
       "      <td>1</td>\n",
       "      <td>1</td>\n",
       "      <td>3</td>\n",
       "      <td>0</td>\n",
       "      <td>0</td>\n",
       "      <td>0</td>\n",
       "      <td>1</td>\n",
       "      <td>1</td>\n",
       "      <td>0</td>\n",
       "    </tr>\n",
       "  </tbody>\n",
       "</table>\n",
       "<p>5 rows × 58 columns</p>\n",
       "</div>"
      ],
      "text/plain": [
       "   id  ps_ind_01  ps_ind_02_cat  ps_ind_03  ps_ind_04_cat  ps_ind_05_cat  \\\n",
       "0   7          2              2          5              1              0   \n",
       "1   9          1              1          7              0              0   \n",
       "2  13          5              4          9              1              0   \n",
       "3  16          0              1          2              0              0   \n",
       "4  17          0              2          0              1              0   \n",
       "\n",
       "   ps_ind_06_bin  ps_ind_07_bin  ps_ind_08_bin  ps_ind_09_bin       ...        \\\n",
       "0              0              1              0              0       ...         \n",
       "1              0              0              1              0       ...         \n",
       "2              0              0              1              0       ...         \n",
       "3              1              0              0              0       ...         \n",
       "4              1              0              0              0       ...         \n",
       "\n",
       "   ps_calc_11  ps_calc_12  ps_calc_13  ps_calc_14  ps_calc_15_bin  \\\n",
       "0           9           1           5           8               0   \n",
       "1           3           1           1           9               0   \n",
       "2           4           2           7           7               0   \n",
       "3           2           2           4           9               0   \n",
       "4           3           1           1           3               0   \n",
       "\n",
       "   ps_calc_16_bin  ps_calc_17_bin  ps_calc_18_bin  ps_calc_19_bin  \\\n",
       "0               1               1               0               0   \n",
       "1               1               1               0               1   \n",
       "2               1               1               0               1   \n",
       "3               0               0               0               0   \n",
       "4               0               0               1               1   \n",
       "\n",
       "   ps_calc_20_bin  \n",
       "0               1  \n",
       "1               0  \n",
       "2               0  \n",
       "3               0  \n",
       "4               0  \n",
       "\n",
       "[5 rows x 58 columns]"
      ]
     },
     "execution_count": 18,
     "metadata": {},
     "output_type": "execute_result"
    }
   ],
   "source": [
    "train.head(5)"
   ]
  },
  {
   "cell_type": "code",
   "execution_count": 19,
   "metadata": {
    "collapsed": true
   },
   "outputs": [],
   "source": [
    "from sklearn.preprocessing import LabelEncoder"
   ]
  },
  {
   "cell_type": "code",
   "execution_count": 20,
   "metadata": {},
   "outputs": [
    {
     "name": "stdout",
     "output_type": "stream",
     "text": [
      "current feature                                 ps_reg_01_plus_ps_car_04_cat    2 in   0.0"
     ]
    }
   ],
   "source": [
    "# add combinations from https://www.kaggle.com/ogrellier/xgb-classifier-upsampling-lb-0-283/code\n",
    "combs = [\n",
    "    ('ps_reg_01', 'ps_car_02_cat'),  \n",
    "    ('ps_reg_01', 'ps_car_04_cat'),\n",
    "]\n",
    "start = time()\n",
    "for n_c, (f1, f2) in enumerate(combs):\n",
    "    name1 = f1 + \"_plus_\" + f2\n",
    "    print('current feature %60s %4d in %5.1f' % (name1, n_c + 1, (time() - start) / 60), end='')\n",
    "    print('\\r' * 75, end='')\n",
    "    train[name1] = train[f1].apply(lambda x: str(x)) + \"_\" + train[f2].apply(lambda x: str(x))\n",
    "    test[name1] = test[f1].apply(lambda x: str(x)) + \"_\" + test[f2].apply(lambda x: str(x))\n",
    "    # Label Encode\n",
    "    lbl = LabelEncoder()\n",
    "    lbl.fit(list(train[name1].values) + list(test[name1].values))\n",
    "    train[name1] = lbl.transform(list(train[name1].values))\n",
    "    test[name1] = lbl.transform(list(test[name1].values))"
   ]
  },
  {
   "cell_type": "code",
   "execution_count": 56,
   "metadata": {},
   "outputs": [
    {
     "data": {
      "text/plain": [
       "Index(['id', 'ps_ind_01', 'ps_ind_02_cat', 'ps_ind_03', 'ps_ind_04_cat',\n",
       "       'ps_ind_05_cat', 'ps_ind_06_bin', 'ps_ind_07_bin', 'ps_ind_08_bin',\n",
       "       'ps_ind_09_bin', 'ps_ind_10_bin', 'ps_ind_11_bin', 'ps_ind_12_bin',\n",
       "       'ps_ind_13_bin', 'ps_ind_14', 'ps_ind_15', 'ps_ind_16_bin',\n",
       "       'ps_ind_17_bin', 'ps_ind_18_bin', 'ps_reg_01', 'ps_reg_02', 'ps_reg_03',\n",
       "       'ps_car_01_cat', 'ps_car_02_cat', 'ps_car_03_cat', 'ps_car_04_cat',\n",
       "       'ps_car_05_cat', 'ps_car_06_cat', 'ps_car_07_cat', 'ps_car_08_cat',\n",
       "       'ps_car_09_cat', 'ps_car_10_cat', 'ps_car_11_cat', 'ps_car_11',\n",
       "       'ps_car_12', 'ps_car_13', 'ps_car_14', 'ps_car_15', 'ps_calc_01',\n",
       "       'ps_calc_02', 'ps_calc_03', 'ps_calc_04', 'ps_calc_05', 'ps_calc_06',\n",
       "       'ps_calc_07', 'ps_calc_08', 'ps_calc_09', 'ps_calc_10', 'ps_calc_11',\n",
       "       'ps_calc_12', 'ps_calc_13', 'ps_calc_14', 'ps_calc_15_bin',\n",
       "       'ps_calc_16_bin', 'ps_calc_17_bin', 'ps_calc_18_bin', 'ps_calc_19_bin',\n",
       "       'ps_calc_20_bin', 'ps_reg_01_plus_ps_car_02_cat',\n",
       "       'ps_reg_01_plus_ps_car_04_cat', 'ps_ind_05_cat_avg',\n",
       "       'ps_car_01_cat_avg', 'ps_car_07_cat_avg', 'ps_car_03_cat_avg',\n",
       "       'ps_car_06_cat_avg', 'ps_car_04_cat_avg', 'ps_car_09_cat_avg',\n",
       "       'ps_car_02_cat_avg', 'ps_ind_02_cat_avg', 'ps_car_05_cat_avg',\n",
       "       'ps_car_08_cat_avg', 'ps_ind_04_cat_avg', 'ps_car_11_cat_avg',\n",
       "       'ps_reg_01_plus_ps_car_02_cat_avg', 'ps_reg_01_plus_ps_car_04_cat_avg'],\n",
       "      dtype='object')"
      ]
     },
     "execution_count": 56,
     "metadata": {},
     "output_type": "execute_result"
    }
   ],
   "source": [
    "train.columns"
   ]
  },
  {
   "cell_type": "code",
   "execution_count": 57,
   "metadata": {},
   "outputs": [
    {
     "data": {
      "text/plain": [
       "Index(['id', 'ps_ind_01', 'ps_ind_02_cat', 'ps_ind_03', 'ps_ind_04_cat',\n",
       "       'ps_ind_05_cat', 'ps_ind_06_bin', 'ps_ind_07_bin', 'ps_ind_08_bin',\n",
       "       'ps_ind_09_bin', 'ps_ind_10_bin', 'ps_ind_11_bin', 'ps_ind_12_bin',\n",
       "       'ps_ind_13_bin', 'ps_ind_14', 'ps_ind_15', 'ps_ind_16_bin',\n",
       "       'ps_ind_17_bin', 'ps_ind_18_bin', 'ps_reg_01', 'ps_reg_02', 'ps_reg_03',\n",
       "       'ps_car_01_cat', 'ps_car_02_cat', 'ps_car_03_cat', 'ps_car_04_cat',\n",
       "       'ps_car_05_cat', 'ps_car_06_cat', 'ps_car_07_cat', 'ps_car_08_cat',\n",
       "       'ps_car_09_cat', 'ps_car_10_cat', 'ps_car_11_cat', 'ps_car_11',\n",
       "       'ps_car_12', 'ps_car_13', 'ps_car_14', 'ps_car_15', 'ps_calc_01',\n",
       "       'ps_calc_02', 'ps_calc_03', 'ps_calc_04', 'ps_calc_05', 'ps_calc_06',\n",
       "       'ps_calc_07', 'ps_calc_08', 'ps_calc_09', 'ps_calc_10', 'ps_calc_11',\n",
       "       'ps_calc_12', 'ps_calc_13', 'ps_calc_14', 'ps_calc_15_bin',\n",
       "       'ps_calc_16_bin', 'ps_calc_17_bin', 'ps_calc_18_bin', 'ps_calc_19_bin',\n",
       "       'ps_calc_20_bin', 'ps_reg_01_plus_ps_car_02_cat',\n",
       "       'ps_reg_01_plus_ps_car_04_cat', 'ps_ind_05_cat_avg',\n",
       "       'ps_car_01_cat_avg', 'ps_car_07_cat_avg', 'ps_car_03_cat_avg',\n",
       "       'ps_car_06_cat_avg', 'ps_car_04_cat_avg', 'ps_car_09_cat_avg',\n",
       "       'ps_car_02_cat_avg', 'ps_ind_02_cat_avg', 'ps_car_05_cat_avg',\n",
       "       'ps_car_08_cat_avg', 'ps_ind_04_cat_avg', 'ps_car_11_cat_avg',\n",
       "       'ps_reg_01_plus_ps_car_02_cat_avg', 'ps_reg_01_plus_ps_car_04_cat_avg'],\n",
       "      dtype='object')"
      ]
     },
     "execution_count": 57,
     "metadata": {},
     "output_type": "execute_result"
    }
   ],
   "source": [
    "test.columns"
   ]
  },
  {
   "cell_type": "code",
   "execution_count": 21,
   "metadata": {},
   "outputs": [
    {
     "data": {
      "text/plain": [
       "35"
      ]
     },
     "execution_count": 21,
     "metadata": {},
     "output_type": "execute_result"
    }
   ],
   "source": [
    "len(selected_features)"
   ]
  },
  {
   "cell_type": "code",
   "execution_count": 22,
   "metadata": {},
   "outputs": [
    {
     "data": {
      "text/plain": [
       "['ps_reg_01_plus_ps_car_02_cat', 'ps_reg_01_plus_ps_car_04_cat']"
      ]
     },
     "execution_count": 22,
     "metadata": {},
     "output_type": "execute_result"
    }
   ],
   "source": [
    "new_features = [f1 + '_plus_' + f2 for (f1, f2) in combs]\n",
    "selected_features.extend(new_features)\n",
    "new_features"
   ]
  },
  {
   "cell_type": "code",
   "execution_count": 23,
   "metadata": {},
   "outputs": [
    {
     "data": {
      "text/plain": [
       "37"
      ]
     },
     "execution_count": 23,
     "metadata": {},
     "output_type": "execute_result"
    }
   ],
   "source": [
    "len(selected_features)"
   ]
  },
  {
   "cell_type": "markdown",
   "metadata": {},
   "source": [
    "### Categorical Target Encoding for categorical variables"
   ]
  },
  {
   "cell_type": "code",
   "execution_count": 24,
   "metadata": {
    "collapsed": true
   },
   "outputs": [],
   "source": [
    "# from https://www.kaggle.com/ogrellier/xgb-classifier-upsampling-lb-0-283/code\n",
    "def add_noise(series, noise_level):\n",
    "    return series * (1 + noise_level * np.random.randn(len(series)))"
   ]
  },
  {
   "cell_type": "code",
   "execution_count": 25,
   "metadata": {
    "collapsed": true
   },
   "outputs": [],
   "source": [
    "# adapted from https://www.kaggle.com/ogrellier/xgb-classifier-upsampling-lb-0-283/code\n",
    "def target_encode(trn_series=None,\n",
    "                  tst_series=None,\n",
    "                  target=None,\n",
    "                  min_samples_leaf=1,\n",
    "                  smoothing=1,\n",
    "                  noise_level=0):\n",
    "    \"\"\"\n",
    "    Smoothing is computed like in the following paper by Daniele Micci-Barreca\n",
    "    https://kaggle2.blob.core.windows.net/forum-message-attachments/225952/7441/high%20cardinality%20categoricals.pdf\n",
    "    trn_series : training categorical feature as a pd.Series\n",
    "    tst_series : test categorical feature as a pd.Series\n",
    "    target : target data as a pd.Series\n",
    "    min_samples_leaf (int) : minimum samples to take category average into account\n",
    "    smoothing (int) : smoothing effect to balance categorical average vs prior\n",
    "    \"\"\"\n",
    "    assert len(trn_series) == len(target)\n",
    "    assert trn_series.name == tst_series.name\n",
    "    temp = pd.concat([trn_series, target], axis=1)\n",
    "    # Compute target mean\n",
    "    averages = temp.groupby(by=trn_series.name)[target.name].agg([\"mean\", \"count\"])\n",
    "    # Compute smoothing\n",
    "    smoothing = 1 / (1 + np.exp(-(averages[\"count\"] - min_samples_leaf) / smoothing))\n",
    "    # Apply average function to all target data\n",
    "    prior = target.mean()\n",
    "    # The bigger the count the less full_avg is taken into account\n",
    "    averages[target.name] = prior * (1 - smoothing) + averages[\"mean\"] * smoothing\n",
    "    averages.drop([\"mean\", \"count\"], axis=1, inplace=True)\n",
    "    # Apply averages to trn and tst series\n",
    "    ft_trn_series = pd.merge(\n",
    "        trn_series.to_frame(trn_series.name),\n",
    "        averages.reset_index().rename(columns={'index': target.name, target.name: 'average'}),\n",
    "        on=trn_series.name,\n",
    "        how='left')['average'].rename(trn_series.name + '_mean').fillna(prior)\n",
    "    # pd.merge does not keep the index so restore it\n",
    "    ft_trn_series.index = trn_series.index\n",
    "    ft_tst_series = pd.merge(\n",
    "        tst_series.to_frame(tst_series.name),\n",
    "        averages.reset_index().rename(columns={'index': target.name, target.name: 'average'}),\n",
    "        on=tst_series.name,\n",
    "        how='left')['average'].rename(trn_series.name + '_mean').fillna(prior)\n",
    "    # pd.merge does not keep the index so restore it\n",
    "    ft_tst_series.index = tst_series.index\n",
    "    return add_noise(ft_trn_series, noise_level), add_noise(ft_tst_series, noise_level)"
   ]
  },
  {
   "cell_type": "code",
   "execution_count": 26,
   "metadata": {
    "collapsed": true
   },
   "outputs": [],
   "source": [
    "f_cats = [x for x in selected_features if  \"_cat\" in x]"
   ]
  },
  {
   "cell_type": "code",
   "execution_count": 27,
   "metadata": {
    "collapsed": true
   },
   "outputs": [],
   "source": [
    "for f in f_cats:\n",
    "    train[f + \"_avg\"], test[f + \"_avg\"] = target_encode(trn_series=train[f],\n",
    "                                         tst_series=test[f],\n",
    "                                         target=y,\n",
    "                                         min_samples_leaf=200,\n",
    "                                         smoothing=10,\n",
    "                                         noise_level=0)"
   ]
  },
  {
   "cell_type": "code",
   "execution_count": 28,
   "metadata": {},
   "outputs": [
    {
     "data": {
      "text/html": [
       "<div>\n",
       "<style scoped>\n",
       "    .dataframe tbody tr th:only-of-type {\n",
       "        vertical-align: middle;\n",
       "    }\n",
       "\n",
       "    .dataframe tbody tr th {\n",
       "        vertical-align: top;\n",
       "    }\n",
       "\n",
       "    .dataframe thead th {\n",
       "        text-align: right;\n",
       "    }\n",
       "</style>\n",
       "<table border=\"1\" class=\"dataframe\">\n",
       "  <thead>\n",
       "    <tr style=\"text-align: right;\">\n",
       "      <th></th>\n",
       "      <th>id</th>\n",
       "      <th>ps_ind_01</th>\n",
       "      <th>ps_ind_02_cat</th>\n",
       "      <th>ps_ind_03</th>\n",
       "      <th>ps_ind_04_cat</th>\n",
       "      <th>ps_ind_05_cat</th>\n",
       "      <th>ps_ind_06_bin</th>\n",
       "      <th>ps_ind_07_bin</th>\n",
       "      <th>ps_ind_08_bin</th>\n",
       "      <th>ps_ind_09_bin</th>\n",
       "      <th>...</th>\n",
       "      <th>ps_car_04_cat_avg</th>\n",
       "      <th>ps_car_09_cat_avg</th>\n",
       "      <th>ps_car_02_cat_avg</th>\n",
       "      <th>ps_ind_02_cat_avg</th>\n",
       "      <th>ps_car_05_cat_avg</th>\n",
       "      <th>ps_car_08_cat_avg</th>\n",
       "      <th>ps_ind_04_cat_avg</th>\n",
       "      <th>ps_car_11_cat_avg</th>\n",
       "      <th>ps_reg_01_plus_ps_car_02_cat_avg</th>\n",
       "      <th>ps_reg_01_plus_ps_car_04_cat_avg</th>\n",
       "    </tr>\n",
       "  </thead>\n",
       "  <tbody>\n",
       "    <tr>\n",
       "      <th>0</th>\n",
       "      <td>7</td>\n",
       "      <td>2</td>\n",
       "      <td>2</td>\n",
       "      <td>5</td>\n",
       "      <td>1</td>\n",
       "      <td>0</td>\n",
       "      <td>0</td>\n",
       "      <td>1</td>\n",
       "      <td>0</td>\n",
       "      <td>0</td>\n",
       "      <td>...</td>\n",
       "      <td>0.03</td>\n",
       "      <td>0.03</td>\n",
       "      <td>0.03</td>\n",
       "      <td>0.04</td>\n",
       "      <td>0.04</td>\n",
       "      <td>0.04</td>\n",
       "      <td>0.04</td>\n",
       "      <td>0.04</td>\n",
       "      <td>0.04</td>\n",
       "      <td>0.04</td>\n",
       "    </tr>\n",
       "    <tr>\n",
       "      <th>1</th>\n",
       "      <td>9</td>\n",
       "      <td>1</td>\n",
       "      <td>1</td>\n",
       "      <td>7</td>\n",
       "      <td>0</td>\n",
       "      <td>0</td>\n",
       "      <td>0</td>\n",
       "      <td>0</td>\n",
       "      <td>1</td>\n",
       "      <td>0</td>\n",
       "      <td>...</td>\n",
       "      <td>0.03</td>\n",
       "      <td>0.04</td>\n",
       "      <td>0.03</td>\n",
       "      <td>0.04</td>\n",
       "      <td>0.03</td>\n",
       "      <td>0.03</td>\n",
       "      <td>0.03</td>\n",
       "      <td>0.02</td>\n",
       "      <td>0.04</td>\n",
       "      <td>0.04</td>\n",
       "    </tr>\n",
       "    <tr>\n",
       "      <th>2</th>\n",
       "      <td>13</td>\n",
       "      <td>5</td>\n",
       "      <td>4</td>\n",
       "      <td>9</td>\n",
       "      <td>1</td>\n",
       "      <td>0</td>\n",
       "      <td>0</td>\n",
       "      <td>0</td>\n",
       "      <td>1</td>\n",
       "      <td>0</td>\n",
       "      <td>...</td>\n",
       "      <td>0.03</td>\n",
       "      <td>0.04</td>\n",
       "      <td>0.03</td>\n",
       "      <td>0.04</td>\n",
       "      <td>0.03</td>\n",
       "      <td>0.03</td>\n",
       "      <td>0.04</td>\n",
       "      <td>0.03</td>\n",
       "      <td>0.04</td>\n",
       "      <td>0.04</td>\n",
       "    </tr>\n",
       "  </tbody>\n",
       "</table>\n",
       "<p>3 rows × 75 columns</p>\n",
       "</div>"
      ],
      "text/plain": [
       "   id  ps_ind_01  ps_ind_02_cat  ps_ind_03  ps_ind_04_cat  ps_ind_05_cat  \\\n",
       "0   7          2              2          5              1              0   \n",
       "1   9          1              1          7              0              0   \n",
       "2  13          5              4          9              1              0   \n",
       "\n",
       "   ps_ind_06_bin  ps_ind_07_bin  ps_ind_08_bin  ps_ind_09_bin  \\\n",
       "0              0              1              0              0   \n",
       "1              0              0              1              0   \n",
       "2              0              0              1              0   \n",
       "\n",
       "                 ...                 ps_car_04_cat_avg  ps_car_09_cat_avg  \\\n",
       "0                ...                              0.03               0.03   \n",
       "1                ...                              0.03               0.04   \n",
       "2                ...                              0.03               0.04   \n",
       "\n",
       "   ps_car_02_cat_avg  ps_ind_02_cat_avg  ps_car_05_cat_avg  ps_car_08_cat_avg  \\\n",
       "0               0.03               0.04               0.04               0.04   \n",
       "1               0.03               0.04               0.03               0.03   \n",
       "2               0.03               0.04               0.03               0.03   \n",
       "\n",
       "   ps_ind_04_cat_avg  ps_car_11_cat_avg  ps_reg_01_plus_ps_car_02_cat_avg  \\\n",
       "0               0.04               0.04                              0.04   \n",
       "1               0.03               0.02                              0.04   \n",
       "2               0.04               0.03                              0.04   \n",
       "\n",
       "   ps_reg_01_plus_ps_car_04_cat_avg  \n",
       "0                              0.04  \n",
       "1                              0.04  \n",
       "2                              0.04  \n",
       "\n",
       "[3 rows x 75 columns]"
      ]
     },
     "execution_count": 28,
     "metadata": {},
     "output_type": "execute_result"
    }
   ],
   "source": [
    "# verify transformation\n",
    "train.head(3)"
   ]
  },
  {
   "cell_type": "code",
   "execution_count": 29,
   "metadata": {},
   "outputs": [
    {
     "data": {
      "text/plain": [
       "['ps_ind_05_cat_avg',\n",
       " 'ps_car_01_cat_avg',\n",
       " 'ps_car_07_cat_avg',\n",
       " 'ps_car_03_cat_avg',\n",
       " 'ps_car_06_cat_avg',\n",
       " 'ps_car_04_cat_avg',\n",
       " 'ps_car_09_cat_avg',\n",
       " 'ps_car_02_cat_avg',\n",
       " 'ps_ind_02_cat_avg',\n",
       " 'ps_car_05_cat_avg',\n",
       " 'ps_car_08_cat_avg',\n",
       " 'ps_ind_04_cat_avg',\n",
       " 'ps_car_11_cat_avg',\n",
       " 'ps_reg_01_plus_ps_car_02_cat_avg',\n",
       " 'ps_reg_01_plus_ps_car_04_cat_avg']"
      ]
     },
     "execution_count": 29,
     "metadata": {},
     "output_type": "execute_result"
    }
   ],
   "source": [
    "new_te_columns = [c for c in train.columns if '_avg' in c]\n",
    "new_te_columns"
   ]
  },
  {
   "cell_type": "code",
   "execution_count": 30,
   "metadata": {},
   "outputs": [
    {
     "data": {
      "text/plain": [
       "['ps_car_13',\n",
       " 'ps_reg_03',\n",
       " 'ps_ind_05_cat',\n",
       " 'ps_ind_03',\n",
       " 'ps_ind_15',\n",
       " 'ps_reg_02',\n",
       " 'ps_car_14',\n",
       " 'ps_car_12',\n",
       " 'ps_car_01_cat',\n",
       " 'ps_car_07_cat',\n",
       " 'ps_ind_17_bin',\n",
       " 'ps_car_03_cat',\n",
       " 'ps_reg_01',\n",
       " 'ps_car_15',\n",
       " 'ps_ind_01',\n",
       " 'ps_ind_16_bin',\n",
       " 'ps_ind_07_bin',\n",
       " 'ps_car_06_cat',\n",
       " 'ps_car_04_cat',\n",
       " 'ps_ind_06_bin',\n",
       " 'ps_car_09_cat',\n",
       " 'ps_car_02_cat',\n",
       " 'ps_ind_02_cat',\n",
       " 'ps_car_11',\n",
       " 'ps_car_05_cat',\n",
       " 'ps_calc_09',\n",
       " 'ps_calc_05',\n",
       " 'ps_ind_08_bin',\n",
       " 'ps_car_08_cat',\n",
       " 'ps_ind_09_bin',\n",
       " 'ps_ind_04_cat',\n",
       " 'ps_ind_18_bin',\n",
       " 'ps_ind_12_bin',\n",
       " 'ps_ind_14',\n",
       " 'ps_car_11_cat',\n",
       " 'ps_reg_01_plus_ps_car_02_cat',\n",
       " 'ps_reg_01_plus_ps_car_04_cat',\n",
       " 'ps_ind_05_cat_avg',\n",
       " 'ps_car_01_cat_avg',\n",
       " 'ps_car_07_cat_avg',\n",
       " 'ps_car_03_cat_avg',\n",
       " 'ps_car_06_cat_avg',\n",
       " 'ps_car_04_cat_avg',\n",
       " 'ps_car_09_cat_avg',\n",
       " 'ps_car_02_cat_avg',\n",
       " 'ps_ind_02_cat_avg',\n",
       " 'ps_car_05_cat_avg',\n",
       " 'ps_car_08_cat_avg',\n",
       " 'ps_ind_04_cat_avg',\n",
       " 'ps_car_11_cat_avg',\n",
       " 'ps_reg_01_plus_ps_car_02_cat_avg',\n",
       " 'ps_reg_01_plus_ps_car_04_cat_avg']"
      ]
     },
     "execution_count": 30,
     "metadata": {},
     "output_type": "execute_result"
    }
   ],
   "source": [
    "selected_features.extend(new_te_columns)\n",
    "### VERIFY: for x in new_te_columns: selected_features_te.remove(x[:-4])\n",
    "selected_features"
   ]
  },
  {
   "cell_type": "code",
   "execution_count": 31,
   "metadata": {
    "collapsed": true
   },
   "outputs": [],
   "source": [
    "# parameters from https://www.kaggle.com/ogrellier/xgb-classifier-upsampling-lb-0-283/code\n",
    "conf_xgb_model = {\n",
    "    'n_estimators': 200,\n",
    "    'max_depth': 4,\n",
    "    'objective': 'binary:logistic',\n",
    "    'learning_rate': 0.1,\n",
    "    'subsample': 0.8,\n",
    "    'colsample_bytree': 0.8,\n",
    "    'gamma': 1,\n",
    "    'reg_alpha': 0,\n",
    "    'reg_lambda': 1,\n",
    "    'nthread': -1,\n",
    "    'min_child_weight': 100,\n",
    "}"
   ]
  },
  {
   "cell_type": "code",
   "execution_count": 32,
   "metadata": {
    "collapsed": true
   },
   "outputs": [],
   "source": [
    "xgb_model = XGBClassifier(**conf_xgb_model)"
   ]
  },
  {
   "cell_type": "code",
   "execution_count": 33,
   "metadata": {},
   "outputs": [
    {
     "name": "stdout",
     "output_type": "stream",
     "text": [
      "Fit XGBClassifier fold 1\n",
      "    [        93 secs elapsed]: cross_score: 0.63012 (0.26024)\n",
      "Fit XGBClassifier fold 2\n",
      "    [       183 secs elapsed]: cross_score: 0.62476 (0.24952)\n",
      "Fit XGBClassifier fold 3\n",
      "    [       283 secs elapsed]: cross_score: 0.62805 (0.25610)\n",
      "Fit XGBClassifier fold 4\n",
      "    [       382 secs elapsed]: cross_score: 0.63232 (0.26464)\n",
      "Fit XGBClassifier fold 5\n",
      "    [       477 secs elapsed]: cross_score: 0.63123 (0.26246)\n",
      "cross_score_mean: 0.62929 (0.25859)\n"
     ]
    }
   ],
   "source": [
    "cross_val_model(train[selected_features], y, xgb_model)"
   ]
  },
  {
   "cell_type": "code",
   "execution_count": 34,
   "metadata": {},
   "outputs": [
    {
     "name": "stdout",
     "output_type": "stream",
     "text": [
      "Fit XGBClassifier fold 1\n",
      "    [         6 secs elapsed]: cross_score: 0.63517 (0.27034)\n",
      "Fit XGBClassifier fold 2\n",
      "    [        12 secs elapsed]: cross_score: 0.62149 (0.24299)\n",
      "Fit XGBClassifier fold 3\n",
      "    [        19 secs elapsed]: cross_score: 0.62291 (0.24582)\n",
      "Fit XGBClassifier fold 4\n",
      "    [        25 secs elapsed]: cross_score: 0.61551 (0.23101)\n",
      "Fit XGBClassifier fold 5\n",
      "    [        31 secs elapsed]: cross_score: 0.62271 (0.24541)\n",
      "Fit XGBClassifier fold 6\n",
      "    [        38 secs elapsed]: cross_score: 0.62031 (0.24062)\n",
      "Fit XGBClassifier fold 7\n",
      "    [        44 secs elapsed]: cross_score: 0.61366 (0.22732)\n",
      "Fit XGBClassifier fold 8\n",
      "    [        50 secs elapsed]: cross_score: 0.62840 (0.25679)\n",
      "Fit XGBClassifier fold 9\n",
      "    [        57 secs elapsed]: cross_score: 0.61873 (0.23746)\n",
      "Fit XGBClassifier fold 10\n",
      "    [        63 secs elapsed]: cross_score: 0.62365 (0.24729)\n",
      "Fit XGBClassifier fold 11\n",
      "    [        70 secs elapsed]: cross_score: 0.62993 (0.25986)\n",
      "Fit XGBClassifier fold 12\n",
      "    [        76 secs elapsed]: cross_score: 0.61728 (0.23456)\n",
      "Fit XGBClassifier fold 13\n",
      "    [        83 secs elapsed]: cross_score: 0.61464 (0.22928)\n",
      "Fit XGBClassifier fold 14\n",
      "    [        89 secs elapsed]: cross_score: 0.62617 (0.25233)\n",
      "Fit XGBClassifier fold 15\n",
      "    [        95 secs elapsed]: cross_score: 0.62021 (0.24041)\n",
      "Fit XGBClassifier fold 16\n",
      "    [       102 secs elapsed]: cross_score: 0.61118 (0.22236)\n",
      "Fit XGBClassifier fold 17\n",
      "    [       108 secs elapsed]: cross_score: 0.60716 (0.21432)\n",
      "Fit XGBClassifier fold 18\n",
      "    [       114 secs elapsed]: cross_score: 0.62338 (0.24676)\n",
      "Fit XGBClassifier fold 19\n",
      "    [       121 secs elapsed]: cross_score: 0.62234 (0.24468)\n",
      "Fit XGBClassifier fold 20\n",
      "    [       127 secs elapsed]: cross_score: 0.61962 (0.23924)\n",
      "Fit XGBClassifier fold 21\n",
      "    [       133 secs elapsed]: cross_score: 0.63296 (0.26592)\n",
      "Fit XGBClassifier fold 22\n",
      "    [       140 secs elapsed]: cross_score: 0.61719 (0.23438)\n",
      "Fit XGBClassifier fold 23\n",
      "    [       146 secs elapsed]: cross_score: 0.62039 (0.24079)\n",
      "Fit XGBClassifier fold 24\n",
      "    [       152 secs elapsed]: cross_score: 0.61725 (0.23450)\n",
      "Fit XGBClassifier fold 25\n",
      "    [       159 secs elapsed]: cross_score: 0.62327 (0.24653)\n",
      "Fit XGBClassifier fold 26\n",
      "    [       165 secs elapsed]: cross_score: 0.61074 (0.22148)\n",
      "Fit XGBClassifier fold 27\n",
      "    [       171 secs elapsed]: cross_score: 0.61063 (0.22127)\n",
      "Fit XGBClassifier fold 28\n",
      "    [       178 secs elapsed]: cross_score: 0.62513 (0.25026)\n",
      "Fit XGBClassifier fold 29\n",
      "    [       184 secs elapsed]: cross_score: 0.61635 (0.23270)\n",
      "Fit XGBClassifier fold 30\n",
      "    [       191 secs elapsed]: cross_score: 0.61474 (0.22947)\n",
      "cross_score_mean: 0.62010 (0.24021)\n"
     ]
    }
   ],
   "source": [
    "cross_val_model_undersampling(train[selected_features], y, xgb_model)"
   ]
  },
  {
   "cell_type": "code",
   "execution_count": 35,
   "metadata": {
    "scrolled": true
   },
   "outputs": [
    {
     "name": "stdout",
     "output_type": "stream",
     "text": [
      "Fit XGBClassifier fold 1\n",
      "    [       125 secs elapsed]: cross_score: 0.63012 (0.26024)\n",
      "Fit XGBClassifier fold 2\n",
      "    [       282 secs elapsed]: cross_score: 0.62476 (0.24952)\n",
      "Fit XGBClassifier fold 3\n"
     ]
    },
    {
     "ename": "KeyboardInterrupt",
     "evalue": "",
     "output_type": "error",
     "traceback": [
      "\u001b[1;31m---------------------------------------------------------------------------\u001b[0m",
      "\u001b[1;31mKeyboardInterrupt\u001b[0m                         Traceback (most recent call last)",
      "\u001b[1;32m<ipython-input-35-cd225df39b19>\u001b[0m in \u001b[0;36m<module>\u001b[1;34m()\u001b[0m\n\u001b[1;32m----> 1\u001b[1;33m \u001b[0mcross_val_model_oversampling\u001b[0m\u001b[1;33m(\u001b[0m\u001b[0mtrain\u001b[0m\u001b[1;33m[\u001b[0m\u001b[0mselected_features\u001b[0m\u001b[1;33m]\u001b[0m\u001b[1;33m,\u001b[0m \u001b[0my\u001b[0m\u001b[1;33m,\u001b[0m \u001b[0mxgb_model\u001b[0m\u001b[1;33m)\u001b[0m\u001b[1;33m\u001b[0m\u001b[0m\n\u001b[0m",
      "\u001b[1;32m<ipython-input-16-663e59c822d1>\u001b[0m in \u001b[0;36mcross_val_model_oversampling\u001b[1;34m(X, y, model, n_splits)\u001b[0m\n\u001b[0;32m     36\u001b[0m \u001b[1;33m\u001b[0m\u001b[0m\n\u001b[0;32m     37\u001b[0m         \u001b[0mprint\u001b[0m \u001b[1;33m(\u001b[0m\u001b[1;34m\"Fit %s fold %d\"\u001b[0m \u001b[1;33m%\u001b[0m \u001b[1;33m(\u001b[0m\u001b[0mstr\u001b[0m\u001b[1;33m(\u001b[0m\u001b[0mmodel\u001b[0m\u001b[1;33m)\u001b[0m\u001b[1;33m.\u001b[0m\u001b[0msplit\u001b[0m\u001b[1;33m(\u001b[0m\u001b[1;34m'('\u001b[0m\u001b[1;33m)\u001b[0m\u001b[1;33m[\u001b[0m\u001b[1;36m0\u001b[0m\u001b[1;33m]\u001b[0m\u001b[1;33m,\u001b[0m \u001b[0mj\u001b[0m\u001b[1;33m+\u001b[0m\u001b[1;36m1\u001b[0m\u001b[1;33m)\u001b[0m\u001b[1;33m)\u001b[0m\u001b[1;33m\u001b[0m\u001b[0m\n\u001b[1;32m---> 38\u001b[1;33m         \u001b[0mmodel\u001b[0m\u001b[1;33m.\u001b[0m\u001b[0mfit\u001b[0m\u001b[1;33m(\u001b[0m\u001b[0mX_train\u001b[0m\u001b[1;33m,\u001b[0m \u001b[0my_train\u001b[0m\u001b[1;33m)\u001b[0m\u001b[1;33m\u001b[0m\u001b[0m\n\u001b[0m\u001b[0;32m     39\u001b[0m         \u001b[0mcross_score\u001b[0m \u001b[1;33m=\u001b[0m \u001b[0mcross_val_score\u001b[0m\u001b[1;33m(\u001b[0m\u001b[0mmodel\u001b[0m\u001b[1;33m,\u001b[0m \u001b[0mX_holdout\u001b[0m\u001b[1;33m,\u001b[0m \u001b[0my_holdout\u001b[0m\u001b[1;33m,\u001b[0m \u001b[0mcv\u001b[0m\u001b[1;33m=\u001b[0m\u001b[1;36m3\u001b[0m\u001b[1;33m,\u001b[0m \u001b[0mscoring\u001b[0m\u001b[1;33m=\u001b[0m\u001b[1;34m'roc_auc'\u001b[0m\u001b[1;33m)\u001b[0m\u001b[1;33m\u001b[0m\u001b[0m\n\u001b[0;32m     40\u001b[0m         \u001b[1;31m#print(\"    cross_score: %.5f (%.5f)\" % (cross_score.mean(), cross_score.mean()*2-1))\u001b[0m\u001b[1;33m\u001b[0m\u001b[1;33m\u001b[0m\u001b[0m\n",
      "\u001b[1;32mc:\\users\\peter\\anaconda3\\envs\\tflearn-gpu\\lib\\site-packages\\xgboost\\sklearn.py\u001b[0m in \u001b[0;36mfit\u001b[1;34m(self, X, y, sample_weight, eval_set, eval_metric, early_stopping_rounds, verbose)\u001b[0m\n\u001b[0;32m    443\u001b[0m                               \u001b[0mearly_stopping_rounds\u001b[0m\u001b[1;33m=\u001b[0m\u001b[0mearly_stopping_rounds\u001b[0m\u001b[1;33m,\u001b[0m\u001b[1;33m\u001b[0m\u001b[0m\n\u001b[0;32m    444\u001b[0m                               \u001b[0mevals_result\u001b[0m\u001b[1;33m=\u001b[0m\u001b[0mevals_result\u001b[0m\u001b[1;33m,\u001b[0m \u001b[0mobj\u001b[0m\u001b[1;33m=\u001b[0m\u001b[0mobj\u001b[0m\u001b[1;33m,\u001b[0m \u001b[0mfeval\u001b[0m\u001b[1;33m=\u001b[0m\u001b[0mfeval\u001b[0m\u001b[1;33m,\u001b[0m\u001b[1;33m\u001b[0m\u001b[0m\n\u001b[1;32m--> 445\u001b[1;33m                               verbose_eval=verbose)\n\u001b[0m\u001b[0;32m    446\u001b[0m \u001b[1;33m\u001b[0m\u001b[0m\n\u001b[0;32m    447\u001b[0m         \u001b[0mself\u001b[0m\u001b[1;33m.\u001b[0m\u001b[0mobjective\u001b[0m \u001b[1;33m=\u001b[0m \u001b[0mxgb_options\u001b[0m\u001b[1;33m[\u001b[0m\u001b[1;34m\"objective\"\u001b[0m\u001b[1;33m]\u001b[0m\u001b[1;33m\u001b[0m\u001b[0m\n",
      "\u001b[1;32mc:\\users\\peter\\anaconda3\\envs\\tflearn-gpu\\lib\\site-packages\\xgboost\\training.py\u001b[0m in \u001b[0;36mtrain\u001b[1;34m(params, dtrain, num_boost_round, evals, obj, feval, maximize, early_stopping_rounds, evals_result, verbose_eval, learning_rates, xgb_model, callbacks)\u001b[0m\n\u001b[0;32m    203\u001b[0m                            \u001b[0mevals\u001b[0m\u001b[1;33m=\u001b[0m\u001b[0mevals\u001b[0m\u001b[1;33m,\u001b[0m\u001b[1;33m\u001b[0m\u001b[0m\n\u001b[0;32m    204\u001b[0m                            \u001b[0mobj\u001b[0m\u001b[1;33m=\u001b[0m\u001b[0mobj\u001b[0m\u001b[1;33m,\u001b[0m \u001b[0mfeval\u001b[0m\u001b[1;33m=\u001b[0m\u001b[0mfeval\u001b[0m\u001b[1;33m,\u001b[0m\u001b[1;33m\u001b[0m\u001b[0m\n\u001b[1;32m--> 205\u001b[1;33m                            xgb_model=xgb_model, callbacks=callbacks)\n\u001b[0m\u001b[0;32m    206\u001b[0m \u001b[1;33m\u001b[0m\u001b[0m\n\u001b[0;32m    207\u001b[0m \u001b[1;33m\u001b[0m\u001b[0m\n",
      "\u001b[1;32mc:\\users\\peter\\anaconda3\\envs\\tflearn-gpu\\lib\\site-packages\\xgboost\\training.py\u001b[0m in \u001b[0;36m_train_internal\u001b[1;34m(params, dtrain, num_boost_round, evals, obj, feval, xgb_model, callbacks)\u001b[0m\n\u001b[0;32m     74\u001b[0m         \u001b[1;31m# Skip the first update if it is a recovery step.\u001b[0m\u001b[1;33m\u001b[0m\u001b[1;33m\u001b[0m\u001b[0m\n\u001b[0;32m     75\u001b[0m         \u001b[1;32mif\u001b[0m \u001b[0mversion\u001b[0m \u001b[1;33m%\u001b[0m \u001b[1;36m2\u001b[0m \u001b[1;33m==\u001b[0m \u001b[1;36m0\u001b[0m\u001b[1;33m:\u001b[0m\u001b[1;33m\u001b[0m\u001b[0m\n\u001b[1;32m---> 76\u001b[1;33m             \u001b[0mbst\u001b[0m\u001b[1;33m.\u001b[0m\u001b[0mupdate\u001b[0m\u001b[1;33m(\u001b[0m\u001b[0mdtrain\u001b[0m\u001b[1;33m,\u001b[0m \u001b[0mi\u001b[0m\u001b[1;33m,\u001b[0m \u001b[0mobj\u001b[0m\u001b[1;33m)\u001b[0m\u001b[1;33m\u001b[0m\u001b[0m\n\u001b[0m\u001b[0;32m     77\u001b[0m             \u001b[0mbst\u001b[0m\u001b[1;33m.\u001b[0m\u001b[0msave_rabit_checkpoint\u001b[0m\u001b[1;33m(\u001b[0m\u001b[1;33m)\u001b[0m\u001b[1;33m\u001b[0m\u001b[0m\n\u001b[0;32m     78\u001b[0m             \u001b[0mversion\u001b[0m \u001b[1;33m+=\u001b[0m \u001b[1;36m1\u001b[0m\u001b[1;33m\u001b[0m\u001b[0m\n",
      "\u001b[1;32mc:\\users\\peter\\anaconda3\\envs\\tflearn-gpu\\lib\\site-packages\\xgboost\\core.py\u001b[0m in \u001b[0;36mupdate\u001b[1;34m(self, dtrain, iteration, fobj)\u001b[0m\n\u001b[0;32m    804\u001b[0m \u001b[1;33m\u001b[0m\u001b[0m\n\u001b[0;32m    805\u001b[0m         \u001b[1;32mif\u001b[0m \u001b[0mfobj\u001b[0m \u001b[1;32mis\u001b[0m \u001b[1;32mNone\u001b[0m\u001b[1;33m:\u001b[0m\u001b[1;33m\u001b[0m\u001b[0m\n\u001b[1;32m--> 806\u001b[1;33m             \u001b[0m_check_call\u001b[0m\u001b[1;33m(\u001b[0m\u001b[0m_LIB\u001b[0m\u001b[1;33m.\u001b[0m\u001b[0mXGBoosterUpdateOneIter\u001b[0m\u001b[1;33m(\u001b[0m\u001b[0mself\u001b[0m\u001b[1;33m.\u001b[0m\u001b[0mhandle\u001b[0m\u001b[1;33m,\u001b[0m \u001b[0miteration\u001b[0m\u001b[1;33m,\u001b[0m \u001b[0mdtrain\u001b[0m\u001b[1;33m.\u001b[0m\u001b[0mhandle\u001b[0m\u001b[1;33m)\u001b[0m\u001b[1;33m)\u001b[0m\u001b[1;33m\u001b[0m\u001b[0m\n\u001b[0m\u001b[0;32m    807\u001b[0m         \u001b[1;32melse\u001b[0m\u001b[1;33m:\u001b[0m\u001b[1;33m\u001b[0m\u001b[0m\n\u001b[0;32m    808\u001b[0m             \u001b[0mpred\u001b[0m \u001b[1;33m=\u001b[0m \u001b[0mself\u001b[0m\u001b[1;33m.\u001b[0m\u001b[0mpredict\u001b[0m\u001b[1;33m(\u001b[0m\u001b[0mdtrain\u001b[0m\u001b[1;33m)\u001b[0m\u001b[1;33m\u001b[0m\u001b[0m\n",
      "\u001b[1;31mKeyboardInterrupt\u001b[0m: "
     ]
    }
   ],
   "source": [
    "cross_val_model_oversampling(train[selected_features], y, xgb_model)"
   ]
  },
  {
   "cell_type": "code",
   "execution_count": 36,
   "metadata": {
    "collapsed": true
   },
   "outputs": [],
   "source": [
    "conf_lgb_model = {\n",
    "    'boosting_type': 'gbdt',\n",
    "    'n_estimators': 200,\n",
    "    'max_depth': 4,\n",
    "    'objective': 'binary',\n",
    "    'metric': 'binary_logloss',\n",
    "    'learning_rate': 0.05,\n",
    "    'sub_feature': 0.8,\n",
    "    'num_leaves': 20,\n",
    "    'feature_fraction': 0.8,\n",
    "    'bagging_fraction': 0.7,\n",
    "    'bagging_freq': 3,\n",
    "}"
   ]
  },
  {
   "cell_type": "code",
   "execution_count": 37,
   "metadata": {
    "collapsed": true
   },
   "outputs": [],
   "source": [
    "lgb_model = LGBMClassifier(**conf_lgb_model)"
   ]
  },
  {
   "cell_type": "code",
   "execution_count": 38,
   "metadata": {
    "scrolled": true
   },
   "outputs": [
    {
     "name": "stdout",
     "output_type": "stream",
     "text": [
      "Fit LGBMClassifier fold 1\n",
      "    [        16 secs elapsed]: cross_score: 0.63031 (0.26062)\n",
      "Fit LGBMClassifier fold 2\n",
      "    [        35 secs elapsed]: cross_score: 0.62661 (0.25322)\n",
      "Fit LGBMClassifier fold 3\n",
      "    [        56 secs elapsed]: cross_score: 0.62720 (0.25441)\n",
      "Fit LGBMClassifier fold 4\n",
      "    [        75 secs elapsed]: cross_score: 0.63402 (0.26803)\n",
      "Fit LGBMClassifier fold 5\n",
      "    [        92 secs elapsed]: cross_score: 0.63072 (0.26144)\n",
      "cross_score_mean: 0.62977 (0.25955)\n"
     ]
    }
   ],
   "source": [
    "cross_val_model(train[selected_features], y, lgb_model)"
   ]
  },
  {
   "cell_type": "code",
   "execution_count": 39,
   "metadata": {},
   "outputs": [
    {
     "name": "stdout",
     "output_type": "stream",
     "text": [
      "Fit LGBMClassifier fold 1\n",
      "    [         2 secs elapsed]: cross_score: 0.62730 (0.25460)\n",
      "Fit LGBMClassifier fold 2\n",
      "    [         4 secs elapsed]: cross_score: 0.62350 (0.24700)\n",
      "Fit LGBMClassifier fold 3\n",
      "    [         6 secs elapsed]: cross_score: 0.61823 (0.23646)\n",
      "Fit LGBMClassifier fold 4\n",
      "    [         8 secs elapsed]: cross_score: 0.61398 (0.22796)\n",
      "Fit LGBMClassifier fold 5\n",
      "    [        11 secs elapsed]: cross_score: 0.62008 (0.24016)\n",
      "Fit LGBMClassifier fold 6\n",
      "    [        13 secs elapsed]: cross_score: 0.62473 (0.24946)\n",
      "Fit LGBMClassifier fold 7\n",
      "    [        15 secs elapsed]: cross_score: 0.61220 (0.22440)\n",
      "Fit LGBMClassifier fold 8\n",
      "    [        16 secs elapsed]: cross_score: 0.60275 (0.20550)\n",
      "Fit LGBMClassifier fold 9\n",
      "    [        18 secs elapsed]: cross_score: 0.61878 (0.23755)\n",
      "Fit LGBMClassifier fold 10\n",
      "    [        20 secs elapsed]: cross_score: 0.62383 (0.24766)\n",
      "Fit LGBMClassifier fold 11\n",
      "    [        23 secs elapsed]: cross_score: 0.60596 (0.21192)\n",
      "Fit LGBMClassifier fold 12\n",
      "    [        25 secs elapsed]: cross_score: 0.62959 (0.25919)\n",
      "Fit LGBMClassifier fold 13\n",
      "    [        27 secs elapsed]: cross_score: 0.61149 (0.22299)\n",
      "Fit LGBMClassifier fold 14\n",
      "    [        30 secs elapsed]: cross_score: 0.61982 (0.23963)\n",
      "Fit LGBMClassifier fold 15\n",
      "    [        31 secs elapsed]: cross_score: 0.62569 (0.25137)\n",
      "Fit LGBMClassifier fold 16\n",
      "    [        33 secs elapsed]: cross_score: 0.61672 (0.23345)\n",
      "Fit LGBMClassifier fold 17\n",
      "    [        35 secs elapsed]: cross_score: 0.60888 (0.21776)\n",
      "Fit LGBMClassifier fold 18\n",
      "    [        37 secs elapsed]: cross_score: 0.61726 (0.23452)\n",
      "Fit LGBMClassifier fold 19\n",
      "    [        39 secs elapsed]: cross_score: 0.62274 (0.24548)\n",
      "Fit LGBMClassifier fold 20\n",
      "    [        41 secs elapsed]: cross_score: 0.61942 (0.23885)\n",
      "Fit LGBMClassifier fold 21\n",
      "    [        43 secs elapsed]: cross_score: 0.63122 (0.26244)\n",
      "Fit LGBMClassifier fold 22\n",
      "    [        45 secs elapsed]: cross_score: 0.62613 (0.25227)\n",
      "Fit LGBMClassifier fold 23\n",
      "    [        47 secs elapsed]: cross_score: 0.62254 (0.24508)\n",
      "Fit LGBMClassifier fold 24\n",
      "    [        49 secs elapsed]: cross_score: 0.60668 (0.21337)\n",
      "Fit LGBMClassifier fold 25\n",
      "    [        51 secs elapsed]: cross_score: 0.60931 (0.21863)\n",
      "Fit LGBMClassifier fold 26\n",
      "    [        53 secs elapsed]: cross_score: 0.61691 (0.23383)\n",
      "Fit LGBMClassifier fold 27\n",
      "    [        55 secs elapsed]: cross_score: 0.63077 (0.26155)\n",
      "Fit LGBMClassifier fold 28\n",
      "    [        56 secs elapsed]: cross_score: 0.62200 (0.24400)\n",
      "Fit LGBMClassifier fold 29\n",
      "    [        58 secs elapsed]: cross_score: 0.62190 (0.24379)\n",
      "Fit LGBMClassifier fold 30\n",
      "    [        60 secs elapsed]: cross_score: 0.60257 (0.20514)\n",
      "cross_score_mean: 0.61843 (0.23687)\n"
     ]
    }
   ],
   "source": [
    "cross_val_model_undersampling(train[selected_features], y, lgb_model)"
   ]
  },
  {
   "cell_type": "code",
   "execution_count": null,
   "metadata": {},
   "outputs": [],
   "source": [
    "cross_val_model_oversampling(train[selected_features], y, lgb_model)"
   ]
  },
  {
   "cell_type": "markdown",
   "metadata": {},
   "source": [
    "## Ensembling"
   ]
  },
  {
   "cell_type": "code",
   "execution_count": 83,
   "metadata": {
    "collapsed": true
   },
   "outputs": [],
   "source": [
    "class Ensemble(object):\n",
    "\n",
    "    def __init__(self, n_splits, stacker, base_models):\n",
    "        self.n_splits = n_splits\n",
    "        self.stacker = stacker\n",
    "        self.base_models = base_models\n",
    "        self.S_train = None\n",
    "        self.S_test = None\n",
    "\n",
    "    def fit_predict(self, X, y, T, process_input_type='none'): #set 'increase', 'decrease' or 'none'\n",
    "        t0 = time()\n",
    "        \n",
    "        #X = np.array(X)\n",
    "        #y = np.array(y)\n",
    "        T = np.array(T)\n",
    "        \n",
    "        folds = list(StratifiedKFold(n_splits=self.n_splits, shuffle=True, random_state=15).split(X, y))\n",
    "\n",
    "        S_train = np.zeros((X.shape[0], len(self.base_models)))\n",
    "        S_test = np.zeros((T.shape[0], len(self.base_models)))\n",
    "        \n",
    "        for i, clf in enumerate(self.base_models):\n",
    "\n",
    "            S_test_i = np.zeros((T.shape[0], self.n_splits))\n",
    "\n",
    "            for j, (train_idx, test_idx) in enumerate(folds):\n",
    "                \n",
    "                X_train = None\n",
    "                y_train = None\n",
    "                \n",
    "                \n",
    "                # Upsample during cross validation to avoid having the same samples\n",
    "                # in both train and validation sets\n",
    "                # Validation set is not up-sampled to monitor overfitting\n",
    "                if process_input_type=='increase':\n",
    "                    auxX = X.loc[train_idx]\n",
    "                    auxy = y.loc[train_idx]\n",
    "\n",
    "                    positive_indices = np.array(auxy[auxy == 1].index)\n",
    "                    negative_indices = np.array(auxy[auxy == 0].index)\n",
    "                    #print(len(positive_indices))\n",
    "                    #print(len(negative_indices))\n",
    "\n",
    "                    random_indices = np.random.choice(positive_indices, len(negative_indices)-len(positive_indices), replace=True)\n",
    "                    randX = np.array(auxX.loc[random_indices].append(auxX.loc[negative_indices]))\n",
    "                    randy = np.array(auxy.loc[random_indices].append(auxy.loc[negative_indices]))\n",
    "\n",
    "                    #print(randX.shape)\n",
    "                    #print(randy.shape)\n",
    "\n",
    "                    X_train = np.array(randX)\n",
    "                    y_train = np.array(randy)\n",
    "                elif process_input_type=='decrease':\n",
    "                    \n",
    "                    auxX = X.loc[train_idx]\n",
    "                    auxy = y.loc[train_idx]\n",
    "\n",
    "                    positive_indices = np.array(auxy[auxy == 1].index)\n",
    "                    negative_indices = np.array(auxy[auxy == 0].index)\n",
    "                    #print(len(positive_indices))\n",
    "                    #print(len(negative_indices))\n",
    "\n",
    "                    random_indices = np.random.choice(negative_indices, len(positive_indices), replace=False)\n",
    "                    randX = np.array(auxX.loc[random_indices].append(auxX.loc[positive_indices]))\n",
    "                    randy = np.array(auxy.loc[random_indices].append(auxy.loc[positive_indices]))\n",
    "\n",
    "                    #print(randX.shape)\n",
    "                    #print(randy.shape)\n",
    "\n",
    "                    X_train = np.array(randX)\n",
    "                    y_train = np.array(randy)\n",
    "                    \n",
    "                else:\n",
    "                    X_train = np.array(X.loc[train_idx])\n",
    "                    y_train = np.array(y.loc[train_idx])\n",
    "                    \n",
    "                    \n",
    "                X_holdout = np.array(X.loc[test_idx])\n",
    "                y_holdout = np.array(y.loc[test_idx])\n",
    "                \n",
    "                print (\"Fitting %s fold %d\" % (str(clf).split('(')[0], j+1))\n",
    "                clf.fit(X_train, y_train)\n",
    "                y_pred = clf.predict_proba(X_holdout)[:,1]\n",
    "                cross_score = cross_val_score(clf, X_holdout, y_holdout, cv=3, scoring='roc_auc')\n",
    "                print(\"    [%10d secs elapsed]: cross_score: %.5f (%.5f)\" % (time()-t0, cross_score.mean(), cross_score.mean()*2-1)) \n",
    "        \n",
    "\n",
    "                S_train[test_idx, i] = y_pred\n",
    "                S_test_i[:, j] = clf.predict_proba(T)[:,1]\n",
    "            S_test[:, i] = S_test_i.mean(axis=1)\n",
    "            #print(\"    [%10d secs elapsed]: Stacker Score: %.5f (%.5f)\" % (time()-t0, results.mean(), results.mean()*2-1)) \n",
    "\n",
    "        self.S_train = S_train\n",
    "        self.S_test = S_test\n",
    "        \n",
    "        if False:\n",
    "            #cross validating stacker\n",
    "            cross_val_model(S_train, y, self.stacker, n_splits=5)\n",
    "        \n",
    "            #Training with all training set (including validation)\n",
    "            self.stacker.fit(S_train, y)\n",
    "            res = self.stacker.predict_proba(S_test)[:,1]\n",
    "        else:\n",
    "            res = S_test.mean(axis=1)\n",
    "            print(res)\n",
    "        return res"
   ]
  },
  {
   "cell_type": "code",
   "execution_count": 84,
   "metadata": {
    "collapsed": true
   },
   "outputs": [],
   "source": [
    "conf_log = {\n",
    "    'penalty':'l2',\n",
    "    'dual':False,\n",
    "    'tol':0.0001,\n",
    "    'C':1.0,\n",
    "    'fit_intercept':True,\n",
    "    'intercept_scaling':1,\n",
    "    'class_weight':None,\n",
    "    'random_state':None,\n",
    "    'solver':'liblinear',\n",
    "    'max_iter':100,\n",
    "    'multi_class':'ovr',\n",
    "    'verbose':0,\n",
    "    'warm_start':False,\n",
    "    'n_jobs':1\n",
    "}"
   ]
  },
  {
   "cell_type": "code",
   "execution_count": 85,
   "metadata": {
    "collapsed": true
   },
   "outputs": [],
   "source": [
    "log_model = LogisticRegression(**conf_log)"
   ]
  },
  {
   "cell_type": "code",
   "execution_count": 86,
   "metadata": {
    "collapsed": true
   },
   "outputs": [],
   "source": [
    "stack_none = Ensemble(n_splits=5,\n",
    "        stacker = log_model,\n",
    "        base_models = (xgb_model, lgb_model)) "
   ]
  },
  {
   "cell_type": "code",
   "execution_count": 87,
   "metadata": {},
   "outputs": [
    {
     "name": "stdout",
     "output_type": "stream",
     "text": [
      "Fitting XGBClassifier fold 1\n",
      "    [        94 secs elapsed]: cross_score: 0.63012 (0.26024)\n",
      "Fitting XGBClassifier fold 2\n",
      "    [       189 secs elapsed]: cross_score: 0.62476 (0.24952)\n",
      "Fitting XGBClassifier fold 3\n",
      "    [       286 secs elapsed]: cross_score: 0.62805 (0.25610)\n",
      "Fitting XGBClassifier fold 4\n",
      "    [       381 secs elapsed]: cross_score: 0.63232 (0.26464)\n",
      "Fitting XGBClassifier fold 5\n",
      "    [       477 secs elapsed]: cross_score: 0.63123 (0.26246)\n",
      "Fitting LGBMClassifier fold 1\n",
      "    [       497 secs elapsed]: cross_score: 0.63031 (0.26062)\n",
      "Fitting LGBMClassifier fold 2\n",
      "    [       520 secs elapsed]: cross_score: 0.62661 (0.25322)\n",
      "Fitting LGBMClassifier fold 3\n",
      "    [       543 secs elapsed]: cross_score: 0.62720 (0.25441)\n",
      "Fitting LGBMClassifier fold 4\n",
      "    [       565 secs elapsed]: cross_score: 0.63402 (0.26803)\n",
      "Fitting LGBMClassifier fold 5\n",
      "    [       588 secs elapsed]: cross_score: 0.63072 (0.26144)\n",
      "[ 0.02468302  0.02703705  0.02607064 ...,  0.04394028  0.02449511\n",
      "  0.03037329]\n"
     ]
    }
   ],
   "source": [
    "y_pred_none = stack_none.fit_predict(train[selected_features], y, test[selected_features],'none') "
   ]
  },
  {
   "cell_type": "code",
   "execution_count": 88,
   "metadata": {
    "collapsed": true
   },
   "outputs": [],
   "source": [
    "stack_dec = Ensemble(n_splits=30,\n",
    "        stacker = log_model,\n",
    "        base_models = (xgb_model, lgb_model)) "
   ]
  },
  {
   "cell_type": "code",
   "execution_count": 89,
   "metadata": {},
   "outputs": [
    {
     "name": "stdout",
     "output_type": "stream",
     "text": [
      "Fitting XGBClassifier fold 1\n",
      "    [         9 secs elapsed]: cross_score: 0.60026 (0.20053)\n",
      "Fitting XGBClassifier fold 2\n",
      "    [        22 secs elapsed]: cross_score: 0.60381 (0.20762)\n",
      "Fitting XGBClassifier fold 3\n",
      "    [        34 secs elapsed]: cross_score: 0.60657 (0.21313)\n",
      "Fitting XGBClassifier fold 4\n",
      "    [        47 secs elapsed]: cross_score: 0.59625 (0.19251)\n",
      "Fitting XGBClassifier fold 5\n",
      "    [        59 secs elapsed]: cross_score: 0.60527 (0.21054)\n",
      "Fitting XGBClassifier fold 6\n",
      "    [        70 secs elapsed]: cross_score: 0.62848 (0.25696)\n",
      "Fitting XGBClassifier fold 7\n",
      "    [        82 secs elapsed]: cross_score: 0.58446 (0.16893)\n",
      "Fitting XGBClassifier fold 8\n",
      "    [        94 secs elapsed]: cross_score: 0.59488 (0.18975)\n",
      "Fitting XGBClassifier fold 9\n",
      "    [       105 secs elapsed]: cross_score: 0.59455 (0.18910)\n",
      "Fitting XGBClassifier fold 10\n",
      "    [       117 secs elapsed]: cross_score: 0.60514 (0.21029)\n",
      "Fitting XGBClassifier fold 11\n",
      "    [       129 secs elapsed]: cross_score: 0.61906 (0.23812)\n",
      "Fitting XGBClassifier fold 12\n",
      "    [       140 secs elapsed]: cross_score: 0.59775 (0.19549)\n",
      "Fitting XGBClassifier fold 13\n",
      "    [       152 secs elapsed]: cross_score: 0.60950 (0.21899)\n",
      "Fitting XGBClassifier fold 14\n",
      "    [       163 secs elapsed]: cross_score: 0.59037 (0.18073)\n",
      "Fitting XGBClassifier fold 15\n",
      "    [       175 secs elapsed]: cross_score: 0.59381 (0.18762)\n",
      "Fitting XGBClassifier fold 16\n",
      "    [       187 secs elapsed]: cross_score: 0.61648 (0.23297)\n",
      "Fitting XGBClassifier fold 17\n",
      "    [       198 secs elapsed]: cross_score: 0.60239 (0.20478)\n",
      "Fitting XGBClassifier fold 18\n",
      "    [       210 secs elapsed]: cross_score: 0.58405 (0.16809)\n",
      "Fitting XGBClassifier fold 19\n",
      "    [       222 secs elapsed]: cross_score: 0.59511 (0.19022)\n",
      "Fitting XGBClassifier fold 20\n",
      "    [       233 secs elapsed]: cross_score: 0.59401 (0.18802)\n",
      "Fitting XGBClassifier fold 21\n",
      "    [       245 secs elapsed]: cross_score: 0.61250 (0.22500)\n",
      "Fitting XGBClassifier fold 22\n",
      "    [       256 secs elapsed]: cross_score: 0.59954 (0.19908)\n",
      "Fitting XGBClassifier fold 23\n",
      "    [       268 secs elapsed]: cross_score: 0.60162 (0.20324)\n",
      "Fitting XGBClassifier fold 24\n",
      "    [       280 secs elapsed]: cross_score: 0.58840 (0.17679)\n",
      "Fitting XGBClassifier fold 25\n",
      "    [       291 secs elapsed]: cross_score: 0.59246 (0.18491)\n",
      "Fitting XGBClassifier fold 26\n",
      "    [       303 secs elapsed]: cross_score: 0.59747 (0.19493)\n",
      "Fitting XGBClassifier fold 27\n",
      "    [       315 secs elapsed]: cross_score: 0.58846 (0.17691)\n",
      "Fitting XGBClassifier fold 28\n",
      "    [       327 secs elapsed]: cross_score: 0.60558 (0.21115)\n",
      "Fitting XGBClassifier fold 29\n",
      "    [       338 secs elapsed]: cross_score: 0.62293 (0.24587)\n",
      "Fitting XGBClassifier fold 30\n",
      "    [       350 secs elapsed]: cross_score: 0.59356 (0.18712)\n",
      "Fitting LGBMClassifier fold 1\n",
      "    [       356 secs elapsed]: cross_score: 0.58571 (0.17142)\n",
      "Fitting LGBMClassifier fold 2\n",
      "    [       365 secs elapsed]: cross_score: 0.58546 (0.17092)\n",
      "Fitting LGBMClassifier fold 3\n",
      "    [       373 secs elapsed]: cross_score: 0.60074 (0.20149)\n",
      "Fitting LGBMClassifier fold 4\n",
      "    [       381 secs elapsed]: cross_score: 0.58631 (0.17261)\n",
      "Fitting LGBMClassifier fold 5\n",
      "    [       388 secs elapsed]: cross_score: 0.59269 (0.18538)\n",
      "Fitting LGBMClassifier fold 6\n",
      "    [       396 secs elapsed]: cross_score: 0.62782 (0.25564)\n",
      "Fitting LGBMClassifier fold 7\n",
      "    [       404 secs elapsed]: cross_score: 0.59182 (0.18365)\n",
      "Fitting LGBMClassifier fold 8\n",
      "    [       412 secs elapsed]: cross_score: 0.56496 (0.12993)\n",
      "Fitting LGBMClassifier fold 9\n",
      "    [       420 secs elapsed]: cross_score: 0.61041 (0.22082)\n",
      "Fitting LGBMClassifier fold 10\n",
      "    [       428 secs elapsed]: cross_score: 0.60298 (0.20596)\n",
      "Fitting LGBMClassifier fold 11\n",
      "    [       436 secs elapsed]: cross_score: 0.61787 (0.23575)\n",
      "Fitting LGBMClassifier fold 12\n",
      "    [       444 secs elapsed]: cross_score: 0.58079 (0.16158)\n",
      "Fitting LGBMClassifier fold 13\n",
      "    [       452 secs elapsed]: cross_score: 0.59907 (0.19815)\n",
      "Fitting LGBMClassifier fold 14\n",
      "    [       460 secs elapsed]: cross_score: 0.57249 (0.14498)\n",
      "Fitting LGBMClassifier fold 15\n",
      "    [       468 secs elapsed]: cross_score: 0.59177 (0.18355)\n",
      "Fitting LGBMClassifier fold 16\n",
      "    [       476 secs elapsed]: cross_score: 0.61695 (0.23391)\n",
      "Fitting LGBMClassifier fold 17\n",
      "    [       484 secs elapsed]: cross_score: 0.60721 (0.21443)\n",
      "Fitting LGBMClassifier fold 18\n",
      "    [       492 secs elapsed]: cross_score: 0.57644 (0.15288)\n",
      "Fitting LGBMClassifier fold 19\n",
      "    [       500 secs elapsed]: cross_score: 0.59744 (0.19488)\n",
      "Fitting LGBMClassifier fold 20\n",
      "    [       508 secs elapsed]: cross_score: 0.58829 (0.17658)\n",
      "Fitting LGBMClassifier fold 21\n",
      "    [       516 secs elapsed]: cross_score: 0.60643 (0.21286)\n",
      "Fitting LGBMClassifier fold 22\n",
      "    [       524 secs elapsed]: cross_score: 0.59556 (0.19112)\n",
      "Fitting LGBMClassifier fold 23\n",
      "    [       532 secs elapsed]: cross_score: 0.60476 (0.20952)\n",
      "Fitting LGBMClassifier fold 24\n",
      "    [       540 secs elapsed]: cross_score: 0.60349 (0.20697)\n",
      "Fitting LGBMClassifier fold 25\n",
      "    [       548 secs elapsed]: cross_score: 0.58129 (0.16258)\n",
      "Fitting LGBMClassifier fold 26\n",
      "    [       556 secs elapsed]: cross_score: 0.60092 (0.20183)\n",
      "Fitting LGBMClassifier fold 27\n",
      "    [       564 secs elapsed]: cross_score: 0.60181 (0.20362)\n",
      "Fitting LGBMClassifier fold 28\n",
      "    [       572 secs elapsed]: cross_score: 0.61146 (0.22291)\n",
      "Fitting LGBMClassifier fold 29\n",
      "    [       581 secs elapsed]: cross_score: 0.61377 (0.22754)\n",
      "Fitting LGBMClassifier fold 30\n",
      "    [       589 secs elapsed]: cross_score: 0.59405 (0.18809)\n",
      "[ 0.40692943  0.41198104  0.40677763 ...,  0.53677547  0.392303    0.45708333]\n"
     ]
    }
   ],
   "source": [
    "y_pred_dec = stack_dec.fit_predict(train[selected_features], y, test[selected_features],'decrease') "
   ]
  },
  {
   "cell_type": "code",
   "execution_count": 90,
   "metadata": {
    "collapsed": true
   },
   "outputs": [],
   "source": [
    "stack_inc = Ensemble(n_splits=5,\n",
    "        stacker = log_model,\n",
    "        base_models = (xgb_model, lgb_model)) "
   ]
  },
  {
   "cell_type": "code",
   "execution_count": 91,
   "metadata": {},
   "outputs": [
    {
     "name": "stdout",
     "output_type": "stream",
     "text": [
      "Fitting XGBClassifier fold 1\n",
      "    [       171 secs elapsed]: cross_score: 0.63012 (0.26024)\n",
      "Fitting XGBClassifier fold 2\n",
      "    [       348 secs elapsed]: cross_score: 0.62476 (0.24952)\n",
      "Fitting XGBClassifier fold 3\n",
      "    [       523 secs elapsed]: cross_score: 0.62805 (0.25610)\n",
      "Fitting XGBClassifier fold 4\n",
      "    [       698 secs elapsed]: cross_score: 0.63232 (0.26464)\n",
      "Fitting XGBClassifier fold 5\n",
      "    [       874 secs elapsed]: cross_score: 0.63123 (0.26246)\n",
      "Fitting LGBMClassifier fold 1\n",
      "    [       905 secs elapsed]: cross_score: 0.63031 (0.26062)\n",
      "Fitting LGBMClassifier fold 2\n",
      "    [       938 secs elapsed]: cross_score: 0.62661 (0.25322)\n",
      "Fitting LGBMClassifier fold 3\n",
      "    [       972 secs elapsed]: cross_score: 0.62720 (0.25441)\n",
      "Fitting LGBMClassifier fold 4\n",
      "    [      1004 secs elapsed]: cross_score: 0.63402 (0.26803)\n",
      "Fitting LGBMClassifier fold 5\n",
      "    [      1038 secs elapsed]: cross_score: 0.63072 (0.26144)\n",
      "[ 0.40179926  0.39711376  0.40609623 ...,  0.50278972  0.38780585\n",
      "  0.4303904 ]\n"
     ]
    }
   ],
   "source": [
    "y_pred_inc = stack_inc.fit_predict(train[selected_features], y, test[selected_features],'increase') "
   ]
  },
  {
   "cell_type": "markdown",
   "metadata": {},
   "source": [
    "# Making a submission"
   ]
  },
  {
   "cell_type": "code",
   "execution_count": 92,
   "metadata": {
    "collapsed": true
   },
   "outputs": [],
   "source": [
    "sub = pd.DataFrame()\n",
    "sub['id'] = id_test\n",
    "sub['target'] = y_pred_none\n",
    "sub.to_csv('stacked_xgb_lgb_v5_none.csv', index=False)"
   ]
  },
  {
   "cell_type": "code",
   "execution_count": 93,
   "metadata": {
    "collapsed": true
   },
   "outputs": [],
   "source": [
    "sub = pd.DataFrame()\n",
    "sub['id'] = id_test\n",
    "sub['target'] = y_pred_dec\n",
    "sub.to_csv('stacked_xgb_lgb_v5_dec.csv', index=False)"
   ]
  },
  {
   "cell_type": "code",
   "execution_count": 94,
   "metadata": {
    "collapsed": true
   },
   "outputs": [],
   "source": [
    "sub = pd.DataFrame()\n",
    "sub['id'] = id_test\n",
    "sub['target'] = y_pred_inc\n",
    "sub.to_csv('stacked_xgb_lgb_v5_inc.csv', index=False)"
   ]
  },
  {
   "cell_type": "code",
   "execution_count": null,
   "metadata": {
    "collapsed": true
   },
   "outputs": [],
   "source": []
  }
 ],
 "metadata": {
  "kernelspec": {
   "display_name": "Python 3",
   "language": "python",
   "name": "python3"
  },
  "language_info": {
   "codemirror_mode": {
    "name": "ipython",
    "version": 3
   },
   "file_extension": ".py",
   "mimetype": "text/x-python",
   "name": "python",
   "nbconvert_exporter": "python",
   "pygments_lexer": "ipython3",
   "version": "3.5.3"
  }
 },
 "nbformat": 4,
 "nbformat_minor": 2
}
