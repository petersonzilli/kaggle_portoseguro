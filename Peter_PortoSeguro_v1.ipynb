{
 "cells": [
  {
   "cell_type": "markdown",
   "metadata": {},
   "source": [
    "# Porto Seguro’s Safe Driver Prediction"
   ]
  },
  {
   "cell_type": "markdown",
   "metadata": {},
   "source": [
    "I got Felipe Antunes code as a startpack: https://github.com/felipeeeantunes/udacity_live"
   ]
  },
  {
   "cell_type": "markdown",
   "metadata": {},
   "source": [
    "## Initializing"
   ]
  },
  {
   "cell_type": "code",
   "execution_count": null,
   "metadata": {
    "collapsed": true
   },
   "outputs": [],
   "source": [
    "import pandas as pd\n",
    "import numpy as np\n",
    "import seaborn as sns\n",
    "import missingno as msno\n",
    "import gc\n",
    "from time import time\n",
    "from multiprocessing import *"
   ]
  },
  {
   "cell_type": "code",
   "execution_count": null,
   "metadata": {
    "collapsed": true
   },
   "outputs": [],
   "source": [
    "import matplotlib.pyplot as plt\n",
    "%matplotlib inline\n",
    "\n",
    "from IPython.display import set_matplotlib_formats\n",
    "set_matplotlib_formats('pdf', 'png')\n",
    "pd.options.display.float_format = '{:.2f}'.format\n",
    "rc={'savefig.dpi': 75, 'figure.autolayout': False, 'figure.figsize': [12, 8], 'axes.labelsize': 18,\\\n",
    "   'axes.titlesize': 18, 'font.size': 18, 'lines.linewidth': 2.0, 'lines.markersize': 8, 'legend.fontsize': 16,\\\n",
    "   'xtick.labelsize': 16, 'ytick.labelsize': 16}\n",
    "\n",
    "sns.set(style='dark',rc=rc)"
   ]
  },
  {
   "cell_type": "code",
   "execution_count": null,
   "metadata": {
    "collapsed": true
   },
   "outputs": [],
   "source": [
    "default_color = '#56B4E9'\n",
    "colormap = plt.cm.cool"
   ]
  },
  {
   "cell_type": "code",
   "execution_count": null,
   "metadata": {
    "collapsed": true
   },
   "outputs": [],
   "source": [
    "# Setting working directory\n",
    "path = '../data/raw/'"
   ]
  },
  {
   "cell_type": "markdown",
   "metadata": {},
   "source": [
    "## Loading Files"
   ]
  },
  {
   "cell_type": "code",
   "execution_count": null,
   "metadata": {
    "collapsed": true
   },
   "outputs": [],
   "source": [
    "train = pd.read_csv(path + 'train.csv')\n",
    "test = pd.read_csv(path + 'test.csv')"
   ]
  },
  {
   "cell_type": "code",
   "execution_count": null,
   "metadata": {},
   "outputs": [],
   "source": [
    "y = train['target']\n",
    "del train['target']"
   ]
  },
  {
   "cell_type": "code",
   "execution_count": null,
   "metadata": {},
   "outputs": [],
   "source": [
    "y.head(5)"
   ]
  },
  {
   "cell_type": "code",
   "execution_count": null,
   "metadata": {
    "collapsed": true
   },
   "outputs": [],
   "source": [
    "id_train = train['id'].values\n",
    "id_test = test['id'].values"
   ]
  },
  {
   "cell_type": "code",
   "execution_count": null,
   "metadata": {},
   "outputs": [],
   "source": [
    "columns_original = list(train.columns)\n",
    "columns_original"
   ]
  },
  {
   "cell_type": "code",
   "execution_count": null,
   "metadata": {},
   "outputs": [],
   "source": [
    "train.head(5)"
   ]
  },
  {
   "cell_type": "markdown",
   "metadata": {},
   "source": [
    "### Transforming -1 'null's in np.NaN"
   ]
  },
  {
   "cell_type": "code",
   "execution_count": null,
   "metadata": {
    "collapsed": true
   },
   "outputs": [],
   "source": [
    "train = train.replace(-1, np.NaN)\n",
    "test = test.replace(-1, np.NaN)"
   ]
  },
  {
   "cell_type": "markdown",
   "metadata": {},
   "source": [
    "## Target Analysis"
   ]
  },
  {
   "cell_type": "code",
   "execution_count": null,
   "metadata": {},
   "outputs": [],
   "source": [
    "plt.figure(figsize=(5,5))\n",
    "\n",
    "ax = sns.countplot(x=y, color=default_color)\n",
    "for p in ax.patches:\n",
    "    ax.annotate('{:.2f}%'.format(100*p.get_height()/len(y)), (p.get_x()+ 0.3, p.get_height()+10000))"
   ]
  },
  {
   "cell_type": "markdown",
   "metadata": {},
   "source": [
    "## Data Analysis"
   ]
  },
  {
   "cell_type": "code",
   "execution_count": null,
   "metadata": {
    "collapsed": true
   },
   "outputs": [],
   "source": [
    "def get_meta(train):\n",
    "    data = []\n",
    "    for col in train.columns:\n",
    "        # Defining the role\n",
    "        if col == 'target':\n",
    "            role = 'target'\n",
    "        elif col == 'id':\n",
    "            role = 'id'\n",
    "        else:\n",
    "            role = 'input'\n",
    "\n",
    "        # Defining the level\n",
    "        if 'bin' in col or col == 'target':\n",
    "            level = 'binary'\n",
    "        elif 'cat' in col or col == 'id':\n",
    "            level = 'nominal'\n",
    "        elif train[col].dtype == np.float64:\n",
    "            level = 'interval'\n",
    "        elif train[col].dtype == np.int64:\n",
    "            level = 'ordinal'\n",
    "\n",
    "        # Initialize keep to True for all variables except for id\n",
    "        keep = True\n",
    "        if col == 'id':\n",
    "            keep = False\n",
    "\n",
    "        # Defining the data type \n",
    "        dtype = train[col].dtype\n",
    "\n",
    "        source = 'id'\n",
    "        if '_ind_' in col:\n",
    "            source = 'ind'\n",
    "        if '_reg_' in col:\n",
    "            source = 'reg'\n",
    "        elif '_car_' in col:\n",
    "            source = 'car'\n",
    "        elif '_calc_' in col:\n",
    "            source = 'calc'\n",
    "        \n",
    "        # Creating a Dict that contains all the metadata for the variable\n",
    "        col_dict = {\n",
    "            'varname': col,\n",
    "            'role'   : role,\n",
    "            'level'  : level,\n",
    "            'keep'   : keep,\n",
    "            'dtype'  : dtype,\n",
    "            'source' : source\n",
    "        }\n",
    "        data.append(col_dict)\n",
    "    meta = pd.DataFrame(data, columns=['varname', 'role', 'level', 'keep', 'dtype', 'source'])\n",
    "    meta.set_index('varname', inplace=True)\n",
    "    return meta\n",
    "        "
   ]
  },
  {
   "cell_type": "code",
   "execution_count": null,
   "metadata": {},
   "outputs": [],
   "source": [
    "meta_data = get_meta(train)\n",
    "meta_data"
   ]
  },
  {
   "cell_type": "code",
   "execution_count": null,
   "metadata": {},
   "outputs": [],
   "source": [
    "meta_counts = meta_data.groupby(['role', 'level']).agg({'dtype': lambda x: x.count()}).reset_index()\n",
    "meta_counts"
   ]
  },
  {
   "cell_type": "code",
   "execution_count": null,
   "metadata": {},
   "outputs": [],
   "source": [
    "fig,ax = plt.subplots()\n",
    "fig.set_size_inches(7,5)\n",
    "sns.barplot(data=meta_counts[(meta_counts.role != 'target') & (meta_counts.role != 'id') ],x=\"level\",y=\"dtype\",ax=ax,color=default_color)\n",
    "ax.set(xlabel='Variable Type', ylabel='Count',title=\"Variables Count Across Datatype\")"
   ]
  },
  {
   "cell_type": "code",
   "execution_count": null,
   "metadata": {
    "collapsed": true
   },
   "outputs": [],
   "source": [
    "col_ordinal   = meta_data[(meta_data.level == 'ordinal') & (meta_data.keep)].index\n",
    "col_nominal   = meta_data[(meta_data.level == 'nominal') & (meta_data.keep)].index\n",
    "col_internval = meta_data[(meta_data.level == 'interval') & (meta_data.keep)].index\n",
    "col_binary    = meta_data[(meta_data.level == 'binary') & (meta_data.keep) & (meta_data.role != 'target')].index"
   ]
  },
  {
   "cell_type": "code",
   "execution_count": null,
   "metadata": {},
   "outputs": [],
   "source": [
    "msno.dendrogram(train[columns_original],figsize=(20,20))"
   ]
  },
  {
   "cell_type": "markdown",
   "metadata": {},
   "source": [
    "### Missing Values"
   ]
  },
  {
   "cell_type": "code",
   "execution_count": null,
   "metadata": {},
   "outputs": [],
   "source": [
    "missingValueColumns = train.columns[train.isnull().any()].tolist()\n",
    "df_null = train[missingValueColumns]"
   ]
  },
  {
   "cell_type": "code",
   "execution_count": null,
   "metadata": {},
   "outputs": [],
   "source": [
    "msno.bar(df_null,figsize=(20,8),color=default_color,fontsize=18,labels=True)"
   ]
  },
  {
   "cell_type": "markdown",
   "metadata": {},
   "source": [
    "### Correlations between missing Values"
   ]
  },
  {
   "cell_type": "code",
   "execution_count": null,
   "metadata": {},
   "outputs": [],
   "source": [
    "msno.heatmap(df_null,figsize=(10,10),cmap=colormap)"
   ]
  },
  {
   "cell_type": "code",
   "execution_count": null,
   "metadata": {},
   "outputs": [],
   "source": [
    "msno.dendrogram(df_null,figsize=(10,8))"
   ]
  },
  {
   "cell_type": "code",
   "execution_count": null,
   "metadata": {},
   "outputs": [],
   "source": [
    "sorted_data = msno.nullity_sort(df_null, sort='descending') # or sort='ascending'\n",
    "msno.matrix(sorted_data,figsize=(20,8),fontsize=14)"
   ]
  },
  {
   "cell_type": "markdown",
   "metadata": {},
   "source": [
    "### Continuous Features Analysis"
   ]
  },
  {
   "cell_type": "code",
   "execution_count": null,
   "metadata": {},
   "outputs": [],
   "source": [
    "plt.figure(figsize=(18,16))\n",
    "plt.title('Pearson correlation of continuous features', y=1.05, size=15)\n",
    "sns.heatmap(train[col_internval].corr(),linewidths=0.1,vmax=1.0, square=True, cmap=colormap, linecolor='white', annot=True)"
   ]
  },
  {
   "cell_type": "markdown",
   "metadata": {},
   "source": [
    "### Use -1 instead of NaN"
   ]
  },
  {
   "cell_type": "code",
   "execution_count": null,
   "metadata": {
    "collapsed": true
   },
   "outputs": [],
   "source": [
    "train = train.fillna(-1)\n",
    "test = test.fillna(-1)"
   ]
  },
  {
   "cell_type": "markdown",
   "metadata": {},
   "source": [
    "### Simple Baseline RF Model and Feature Importance"
   ]
  },
  {
   "cell_type": "code",
   "execution_count": null,
   "metadata": {
    "collapsed": true
   },
   "outputs": [],
   "source": [
    "from sklearn.ensemble import RandomForestClassifier"
   ]
  },
  {
   "cell_type": "code",
   "execution_count": null,
   "metadata": {},
   "outputs": [],
   "source": [
    "conf_rf_featimp = {\n",
    "    'n_estimators': 200,\n",
    "    'max_depth': 6,\n",
    "    'min_samples_leaf': 10,\n",
    "    'max_features': 0.2,\n",
    "    'n_jobs': -1,\n",
    "    'random_state': 0\n",
    "}"
   ]
  },
  {
   "cell_type": "code",
   "execution_count": null,
   "metadata": {
    "scrolled": true
   },
   "outputs": [],
   "source": [
    "rf_featimp = RandomForestClassifier(**conf_rf_featimp)"
   ]
  },
  {
   "cell_type": "code",
   "execution_count": null,
   "metadata": {},
   "outputs": [],
   "source": [
    "t0 = time()\n",
    "rf_featimp.fit(train, y)\n",
    "print(\"----- Training Time: %  secs. -----\" % (time()-t0))"
   ]
  },
  {
   "cell_type": "code",
   "execution_count": null,
   "metadata": {},
   "outputs": [],
   "source": [
    "features = columns_original"
   ]
  },
  {
   "cell_type": "code",
   "execution_count": null,
   "metadata": {
    "collapsed": true
   },
   "outputs": [],
   "source": [
    "def get_feature_importance_df(feature_importances, \n",
    "                              column_names, \n",
    "                              top_n=25):\n",
    "    \"\"\"Get feature importance data frame.\n",
    " \n",
    "    Parameters\n",
    "    ----------\n",
    "    feature_importances : numpy ndarray\n",
    "        Feature importances computed by an ensemble \n",
    "            model like random forest or boosting\n",
    "    column_names : array-like\n",
    "        Names of the columns in the same order as feature \n",
    "            importances\n",
    "    top_n : integer\n",
    "        Number of top features\n",
    " \n",
    "    Returns\n",
    "    -------\n",
    "    df : a Pandas data frame\n",
    " \n",
    "    \"\"\"\n",
    "     \n",
    "    imp_dict = dict(zip(column_names, \n",
    "                        feature_importances))\n",
    "    top_features = sorted(imp_dict, \n",
    "                          key=imp_dict.get, \n",
    "                          reverse=True)[0:top_n]\n",
    "    top_importances = [imp_dict[feature] for feature \n",
    "                          in top_features]\n",
    "    df = pd.DataFrame(data={'feature': top_features, \n",
    "                            'importance': top_importances})\n",
    "    return df"
   ]
  },
  {
   "cell_type": "code",
   "execution_count": null,
   "metadata": {},
   "outputs": [],
   "source": [
    "feature_importance = get_feature_importance_df(rf_featimp.feature_importances_, features)"
   ]
  },
  {
   "cell_type": "code",
   "execution_count": 463,
   "metadata": {},
   "outputs": [
    {
     "data": {
      "text/html": [
       "<div>\n",
       "<style scoped>\n",
       "    .dataframe tbody tr th:only-of-type {\n",
       "        vertical-align: middle;\n",
       "    }\n",
       "\n",
       "    .dataframe tbody tr th {\n",
       "        vertical-align: top;\n",
       "    }\n",
       "\n",
       "    .dataframe thead th {\n",
       "        text-align: right;\n",
       "    }\n",
       "</style>\n",
       "<table border=\"1\" class=\"dataframe\">\n",
       "  <thead>\n",
       "    <tr style=\"text-align: right;\">\n",
       "      <th></th>\n",
       "      <th>feature</th>\n",
       "      <th>importance</th>\n",
       "    </tr>\n",
       "  </thead>\n",
       "  <tbody>\n",
       "    <tr>\n",
       "      <th>0</th>\n",
       "      <td>ps_car_13</td>\n",
       "      <td>0.15</td>\n",
       "    </tr>\n",
       "    <tr>\n",
       "      <th>1</th>\n",
       "      <td>ps_ind_05_cat</td>\n",
       "      <td>0.11</td>\n",
       "    </tr>\n",
       "    <tr>\n",
       "      <th>2</th>\n",
       "      <td>ps_ind_17_bin</td>\n",
       "      <td>0.10</td>\n",
       "    </tr>\n",
       "    <tr>\n",
       "      <th>3</th>\n",
       "      <td>ps_reg_03</td>\n",
       "      <td>0.08</td>\n",
       "    </tr>\n",
       "    <tr>\n",
       "      <th>4</th>\n",
       "      <td>ps_car_07_cat</td>\n",
       "      <td>0.05</td>\n",
       "    </tr>\n",
       "    <tr>\n",
       "      <th>5</th>\n",
       "      <td>ps_car_04_cat</td>\n",
       "      <td>0.04</td>\n",
       "    </tr>\n",
       "    <tr>\n",
       "      <th>6</th>\n",
       "      <td>ps_ind_03</td>\n",
       "      <td>0.04</td>\n",
       "    </tr>\n",
       "    <tr>\n",
       "      <th>7</th>\n",
       "      <td>ps_reg_02</td>\n",
       "      <td>0.04</td>\n",
       "    </tr>\n",
       "    <tr>\n",
       "      <th>8</th>\n",
       "      <td>ps_ind_07_bin</td>\n",
       "      <td>0.04</td>\n",
       "    </tr>\n",
       "    <tr>\n",
       "      <th>9</th>\n",
       "      <td>ps_ind_06_bin</td>\n",
       "      <td>0.03</td>\n",
       "    </tr>\n",
       "    <tr>\n",
       "      <th>10</th>\n",
       "      <td>ps_car_03_cat</td>\n",
       "      <td>0.03</td>\n",
       "    </tr>\n",
       "    <tr>\n",
       "      <th>11</th>\n",
       "      <td>ps_car_01_cat</td>\n",
       "      <td>0.03</td>\n",
       "    </tr>\n",
       "    <tr>\n",
       "      <th>12</th>\n",
       "      <td>ps_ind_04_cat</td>\n",
       "      <td>0.02</td>\n",
       "    </tr>\n",
       "    <tr>\n",
       "      <th>13</th>\n",
       "      <td>ps_car_12</td>\n",
       "      <td>0.02</td>\n",
       "    </tr>\n",
       "    <tr>\n",
       "      <th>14</th>\n",
       "      <td>ps_ind_16_bin</td>\n",
       "      <td>0.02</td>\n",
       "    </tr>\n",
       "    <tr>\n",
       "      <th>15</th>\n",
       "      <td>ps_ind_15</td>\n",
       "      <td>0.02</td>\n",
       "    </tr>\n",
       "    <tr>\n",
       "      <th>16</th>\n",
       "      <td>ps_car_15</td>\n",
       "      <td>0.02</td>\n",
       "    </tr>\n",
       "    <tr>\n",
       "      <th>17</th>\n",
       "      <td>ps_car_14</td>\n",
       "      <td>0.01</td>\n",
       "    </tr>\n",
       "    <tr>\n",
       "      <th>18</th>\n",
       "      <td>ps_reg_01</td>\n",
       "      <td>0.01</td>\n",
       "    </tr>\n",
       "    <tr>\n",
       "      <th>19</th>\n",
       "      <td>ps_car_02_cat</td>\n",
       "      <td>0.01</td>\n",
       "    </tr>\n",
       "    <tr>\n",
       "      <th>20</th>\n",
       "      <td>id</td>\n",
       "      <td>0.01</td>\n",
       "    </tr>\n",
       "    <tr>\n",
       "      <th>21</th>\n",
       "      <td>ps_ind_02_cat</td>\n",
       "      <td>0.01</td>\n",
       "    </tr>\n",
       "    <tr>\n",
       "      <th>22</th>\n",
       "      <td>ps_ind_01</td>\n",
       "      <td>0.01</td>\n",
       "    </tr>\n",
       "    <tr>\n",
       "      <th>23</th>\n",
       "      <td>ps_car_06_cat</td>\n",
       "      <td>0.01</td>\n",
       "    </tr>\n",
       "    <tr>\n",
       "      <th>24</th>\n",
       "      <td>ps_car_11_cat</td>\n",
       "      <td>0.01</td>\n",
       "    </tr>\n",
       "  </tbody>\n",
       "</table>\n",
       "</div>"
      ],
      "text/plain": [
       "          feature  importance\n",
       "0       ps_car_13        0.15\n",
       "1   ps_ind_05_cat        0.11\n",
       "2   ps_ind_17_bin        0.10\n",
       "3       ps_reg_03        0.08\n",
       "4   ps_car_07_cat        0.05\n",
       "5   ps_car_04_cat        0.04\n",
       "6       ps_ind_03        0.04\n",
       "7       ps_reg_02        0.04\n",
       "8   ps_ind_07_bin        0.04\n",
       "9   ps_ind_06_bin        0.03\n",
       "10  ps_car_03_cat        0.03\n",
       "11  ps_car_01_cat        0.03\n",
       "12  ps_ind_04_cat        0.02\n",
       "13      ps_car_12        0.02\n",
       "14  ps_ind_16_bin        0.02\n",
       "15      ps_ind_15        0.02\n",
       "16      ps_car_15        0.02\n",
       "17      ps_car_14        0.01\n",
       "18      ps_reg_01        0.01\n",
       "19  ps_car_02_cat        0.01\n",
       "20             id        0.01\n",
       "21  ps_ind_02_cat        0.01\n",
       "22      ps_ind_01        0.01\n",
       "23  ps_car_06_cat        0.01\n",
       "24  ps_car_11_cat        0.01"
      ]
     },
     "execution_count": 463,
     "metadata": {},
     "output_type": "execute_result"
    }
   ],
   "source": [
    "feature_importance"
   ]
  },
  {
   "cell_type": "code",
   "execution_count": 464,
   "metadata": {},
   "outputs": [
    {
     "data": {
      "text/plain": [
       "[<matplotlib.text.Text at 0x228b5f96a58>,\n",
       " <matplotlib.text.Text at 0x2288f598898>,\n",
       " <matplotlib.text.Text at 0x2288f5d70b8>]"
      ]
     },
     "execution_count": 464,
     "metadata": {},
     "output_type": "execute_result"
    },
    {
     "data": {
      "application/pdf": "[encoded data removed]",
      "image/png": "[encoded data removed]",
      "text/plain": [
       "<matplotlib.figure.Figure at 0x2288f597160>"
      ]
     },
     "metadata": {},
     "output_type": "display_data"
    }
   ],
   "source": [
    "fig,ax = plt.subplots()\n",
    "fig.set_size_inches(20,10)\n",
    "g=sns.barplot(data=feature_importance,x=\"feature\",y=\"importance\",ax=ax,color=default_color,)\n",
    "for item in g.get_xticklabels():\n",
    "    item.set_rotation(45)\n",
    "ax.set(xlabel='Variable name', ylabel='Importance',title=\"Variable importances\")"
   ]
  },
  {
   "cell_type": "markdown",
   "metadata": {},
   "source": [
    "## Cross Val function and Other Models"
   ]
  },
  {
   "cell_type": "code",
   "execution_count": null,
   "metadata": {},
   "outputs": [],
   "source": [
    "from sklearn.ensemble import RandomForestClassifier\n",
    "from xgboost import XGBClassifier\n",
    "from lightgbm import LGBMClassifier\n",
    "from sklearn.linear_model import LogisticRegression\n",
    "\n",
    "from sklearn.model_selection import StratifiedKFold\n",
    "from sklearn.model_selection import cross_val_score"
   ]
  },
  {
   "cell_type": "code",
   "execution_count": null,
   "metadata": {
    "collapsed": true
   },
   "outputs": [],
   "source": [
    "def cross_val_model(X, y, model, n_splits=3):\n",
    "   \n",
    "    X = np.array(X)\n",
    "    y = np.array(y)\n",
    "\n",
    "    folds = list(StratifiedKFold(n_splits=n_splits, shuffle=True, random_state=42).split(X, y))\n",
    "\n",
    "    cross_score_mean = 0.0\n",
    "\n",
    "    t0 = time()\n",
    "    \n",
    "    for j, (train_idx, test_idx) in enumerate(folds):\n",
    "        X_train = X[train_idx]\n",
    "        y_train = y[train_idx]\n",
    "        X_holdout = X[test_idx]\n",
    "        y_holdout = y[test_idx]\n",
    "\n",
    "        print (\"Fit %s fold %d\" % (str(model).split('(')[0], j+1))\n",
    "        model.fit(X_train, y_train)\n",
    "        cross_score = cross_val_score(model, X_holdout, y_holdout, cv=3, scoring='roc_auc')\n",
    "        print(\"    cross_score: %.5f (%.5f)\" % (cross_score.mean(), cross_score.mean()*2-1)) \n",
    "        print(\"    [%10d secs elapsed]: cross_score: %.5f (%.5f)\" % (time()-t0, cross_score.mean(), cross_score.mean()*2-1)) \n",
    "        cross_score_mean += cross_score.mean()\n",
    "        \n",
    "    cross_score_mean /= n_splits\n",
    "    print(\"cross_score_mean: %.5f (%.5f)\" % (cross_score_mean, cross_score_mean*2-1))"
   ]
  },
  {
   "cell_type": "markdown",
   "metadata": {},
   "source": [
    "#### Cross Val - Random Forest"
   ]
  },
  {
   "cell_type": "code",
   "execution_count": null,
   "metadata": {
    "collapsed": true
   },
   "outputs": [],
   "source": [
    "conf_rf_model = {\n",
    "    'n_estimators': 200,\n",
    "    'max_depth': 6,\n",
    "    'min_samples_split': 70,\n",
    "    'min_samples_leaf': 30,\n",
    "    'n_jobs': -1,\n",
    "}"
   ]
  },
  {
   "cell_type": "code",
   "execution_count": null,
   "metadata": {},
   "outputs": [],
   "source": [
    "rf_model = RandomForestClassifier(**conf_rf_model)"
   ]
  },
  {
   "cell_type": "code",
   "execution_count": null,
   "metadata": {},
   "outputs": [],
   "source": [
    "cross_val_model(train, y, rf_model)"
   ]
  },
  {
   "cell_type": "markdown",
   "metadata": {},
   "source": [
    "#### Cross Val - XGBoost"
   ]
  },
  {
   "cell_type": "code",
   "execution_count": null,
   "metadata": {},
   "outputs": [],
   "source": [
    "# parameters from https://www.kaggle.com/ogrellier/xgb-classifier-upsampling-lb-0-283/code\n",
    "conf_xgb_model = {\n",
    "    'n_estimators': 200,\n",
    "    'max_depth': 4,\n",
    "    'objective': 'binary:logistic',\n",
    "    'learning_rate': 0.1,\n",
    "    'subsample': 0.8,\n",
    "    'colsample_bytree': 0.8,\n",
    "    'gamma': 1,\n",
    "    'reg_alpha': 0,\n",
    "    'reg_lambda': 1,\n",
    "    'nthread': 2,\n",
    "    'min_child_weight': 100\n",
    "}"
   ]
  },
  {
   "cell_type": "code",
   "execution_count": null,
   "metadata": {},
   "outputs": [],
   "source": [
    "xgb_model = XGBClassifier(**conf_xgb_model)"
   ]
  },
  {
   "cell_type": "code",
   "execution_count": null,
   "metadata": {},
   "outputs": [],
   "source": [
    "cross_val_model(train, y, xgb_model)"
   ]
  },
  {
   "cell_type": "markdown",
   "metadata": {},
   "source": [
    "#### Cross Val - LGBM"
   ]
  },
  {
   "cell_type": "code",
   "execution_count": null,
   "metadata": {
    "collapsed": true
   },
   "outputs": [],
   "source": [
    "conf_lgb_model = {\n",
    "    'boosting_type': 'gbdt',\n",
    "    'n_estimators': 200,\n",
    "    'max_depth': 4,\n",
    "    'objective': 'binary',\n",
    "    'metric': 'binary_logloss',\n",
    "    'learning_rate': 0.05,\n",
    "    'sub_feature': 0.8,\n",
    "    'num_leaves': 20,\n",
    "    'feature_fraction': 0.8,\n",
    "    'bagging_fraction': 0.7,\n",
    "    'bagging_freq': 3,\n",
    "}"
   ]
  },
  {
   "cell_type": "code",
   "execution_count": null,
   "metadata": {
    "collapsed": true
   },
   "outputs": [],
   "source": [
    "lgb_model = LGBMClassifier(**conf_lgb_model)"
   ]
  },
  {
   "cell_type": "code",
   "execution_count": null,
   "metadata": {
    "scrolled": false
   },
   "outputs": [],
   "source": [
    "cross_val_model(train, y, lgb_model)"
   ]
  },
  {
   "cell_type": "markdown",
   "metadata": {},
   "source": [
    "## Feature Engineering & Selection"
   ]
  },
  {
   "cell_type": "code",
   "execution_count": null,
   "metadata": {
    "collapsed": true
   },
   "outputs": [],
   "source": [
    "# Selected features from https://www.kaggle.com/ogrellier/xgb-classifier-upsampling-lb-0-283/code\n",
    "selected_features = [\n",
    "    \"ps_car_13\",  #            : 1571.65 / shadow  609.23\n",
    "    \"ps_reg_03\",  #            : 1408.42 / shadow  511.15\n",
    "    \"ps_ind_05_cat\",  #        : 1387.87 / shadow   84.72\n",
    "    \"ps_ind_03\",  #            : 1219.47 / shadow  230.55\n",
    "    \"ps_ind_15\",  #            :  922.18 / shadow  242.00\n",
    "    \"ps_reg_02\",  #            :  920.65 / shadow  267.50\n",
    "    \"ps_car_14\",  #            :  798.48 / shadow  549.58\n",
    "    \"ps_car_12\",  #            :  731.93 / shadow  293.62\n",
    "    \"ps_car_01_cat\",  #        :  698.07 / shadow  178.72\n",
    "    \"ps_car_07_cat\",  #        :  694.53 / shadow   36.35\n",
    "    \"ps_ind_17_bin\",  #        :  620.77 / shadow   23.15\n",
    "    \"ps_car_03_cat\",  #        :  611.73 / shadow   50.67\n",
    "    \"ps_reg_01\",  #            :  598.60 / shadow  178.57\n",
    "    \"ps_car_15\",  #            :  593.35 / shadow  226.43\n",
    "    \"ps_ind_01\",  #            :  547.32 / shadow  154.58\n",
    "    \"ps_ind_16_bin\",  #        :  475.37 / shadow   34.17\n",
    "    \"ps_ind_07_bin\",  #        :  435.28 / shadow   28.92\n",
    "    \"ps_car_06_cat\",  #        :  398.02 / shadow  212.43\n",
    "    \"ps_car_04_cat\",  #        :  376.87 / shadow   76.98\n",
    "    \"ps_ind_06_bin\",  #        :  370.97 / shadow   36.13\n",
    "    \"ps_car_09_cat\",  #        :  214.12 / shadow   81.38\n",
    "    \"ps_car_02_cat\",  #        :  203.03 / shadow   26.67\n",
    "    \"ps_ind_02_cat\",  #        :  189.47 / shadow   65.68\n",
    "    \"ps_car_11\",  #            :  173.28 / shadow   76.45\n",
    "    \"ps_car_05_cat\",  #        :  172.75 / shadow   62.92\n",
    "    \"ps_calc_09\",  #           :  169.13 / shadow  129.72\n",
    "    \"ps_calc_05\",  #           :  148.83 / shadow  120.68\n",
    "    \"ps_ind_08_bin\",  #        :  140.73 / shadow   27.63\n",
    "    \"ps_car_08_cat\",  #        :  120.87 / shadow   28.82\n",
    "    \"ps_ind_09_bin\",  #        :  113.92 / shadow   27.05\n",
    "    \"ps_ind_04_cat\",  #        :  107.27 / shadow   37.43\n",
    "    \"ps_ind_18_bin\",  #        :   77.42 / shadow   25.97\n",
    "    \"ps_ind_12_bin\",  #        :   39.67 / shadow   15.52\n",
    "    \"ps_ind_14\",  #            :   37.37 / shadow   16.65\n",
    "    \"ps_car_11_cat\" # Very nice spot from Tilii : https://www.kaggle.com/tilii7\n",
    "]"
   ]
  },
  {
   "cell_type": "code",
   "execution_count": null,
   "metadata": {},
   "outputs": [],
   "source": [
    "cross_val_model(train[selected_features], y, rf_model)"
   ]
  },
  {
   "cell_type": "code",
   "execution_count": null,
   "metadata": {},
   "outputs": [],
   "source": [
    "cross_val_model(train[selected_features], y, xgb_model)"
   ]
  },
  {
   "cell_type": "code",
   "execution_count": null,
   "metadata": {},
   "outputs": [],
   "source": [
    "cross_val_model(train[selected_features], y, lgb_model)"
   ]
  },
  {
   "cell_type": "markdown",
   "metadata": {},
   "source": [
    "### Adding Combs"
   ]
  },
  {
   "cell_type": "code",
   "execution_count": null,
   "metadata": {},
   "outputs": [],
   "source": [
    "train.head(5)"
   ]
  },
  {
   "cell_type": "code",
   "execution_count": null,
   "metadata": {
    "collapsed": true
   },
   "outputs": [],
   "source": [
    "from sklearn.preprocessing import LabelEncoder"
   ]
  },
  {
   "cell_type": "code",
   "execution_count": null,
   "metadata": {},
   "outputs": [],
   "source": [
    "# add combinations from https://www.kaggle.com/ogrellier/xgb-classifier-upsampling-lb-0-283/code\n",
    "combs = [\n",
    "    ('ps_reg_01', 'ps_car_02_cat'),  \n",
    "    ('ps_reg_01', 'ps_car_04_cat'),\n",
    "]\n",
    "start = time()\n",
    "for n_c, (f1, f2) in enumerate(combs):\n",
    "    name1 = f1 + \"_plus_\" + f2\n",
    "    print('current feature %60s %4d in %5.1f' % (name1, n_c + 1, (time() - start) / 60), end='')\n",
    "    print('\\r' * 75, end='')\n",
    "    train[name1] = train[f1].apply(lambda x: str(x)) + \"_\" + train[f2].apply(lambda x: str(x))\n",
    "    test[name1] = test[f1].apply(lambda x: str(x)) + \"_\" + test[f2].apply(lambda x: str(x))\n",
    "    # Label Encode\n",
    "    lbl = LabelEncoder()\n",
    "    lbl.fit(list(train[name1].values) + list(test[name1].values))\n",
    "    train[name1] = lbl.transform(list(train[name1].values))\n",
    "    test[name1] = lbl.transform(list(test[name1].values))"
   ]
  },
  {
   "cell_type": "code",
   "execution_count": null,
   "metadata": {},
   "outputs": [],
   "source": [
    "new_features = [f1 + '_plus_' + f2 for (f1, f2) in combs]\n",
    "selected_features.extend(new_features)\n",
    "new_features"
   ]
  },
  {
   "cell_type": "code",
   "execution_count": null,
   "metadata": {},
   "outputs": [],
   "source": [
    "train.head(5)"
   ]
  },
  {
   "cell_type": "code",
   "execution_count": null,
   "metadata": {},
   "outputs": [],
   "source": [
    "selected_features"
   ]
  },
  {
   "cell_type": "code",
   "execution_count": null,
   "metadata": {
    "scrolled": false
   },
   "outputs": [],
   "source": [
    "cross_val_model(train[selected_features], y, rf_model)"
   ]
  },
  {
   "cell_type": "code",
   "execution_count": null,
   "metadata": {},
   "outputs": [],
   "source": [
    "cross_val_model(train[selected_features], y, xgb_model)"
   ]
  },
  {
   "cell_type": "code",
   "execution_count": null,
   "metadata": {
    "scrolled": false
   },
   "outputs": [],
   "source": [
    "cross_val_model(train[selected_features], y, lgb_model)"
   ]
  },
  {
   "cell_type": "markdown",
   "metadata": {},
   "source": [
    "### Reconstructing ps_reg_03"
   ]
  },
  {
   "cell_type": "code",
   "execution_count": null,
   "metadata": {
    "collapsed": true
   },
   "outputs": [],
   "source": [
    "### from Pascal's (https://www.kaggle.com/pnagel/reconstruction-of-ps-reg-03)\n",
    "def recon(reg):\n",
    "    integer = int(np.round((40*reg)**2)) \n",
    "    for a in range(32):\n",
    "        if (integer - a) % 31 == 0:\n",
    "            A = a\n",
    "    M = (integer - A)//31\n",
    "    return A, M\n",
    "\n",
    "train['ps_reg_A'] = train['ps_reg_03'].apply(lambda x: recon(x)[0] )\n",
    "train['ps_reg_M'] = train['ps_reg_03'].apply(lambda x: recon(x)[1])\n",
    "train['ps_reg_A'].replace(19, -1, inplace=True) # replace -1 with np.NaN\n",
    "train['ps_reg_M'].replace(51, -1, inplace=True) # replace -1 with np.NaN\n",
    "\n",
    "test['ps_reg_A'] = test['ps_reg_03'].apply(lambda x: recon(x)[0])\n",
    "test['ps_reg_M'] = test['ps_reg_03'].apply(lambda x: recon(x)[1])\n",
    "test['ps_reg_A'].replace(19, np.NaN, inplace=True) # replace -1 with np.NaN\n",
    "test['ps_reg_M'].replace(51, np.NaN, inplace=True) # replace -1 with np.NaN"
   ]
  },
  {
   "cell_type": "code",
   "execution_count": null,
   "metadata": {
    "scrolled": true
   },
   "outputs": [],
   "source": [
    "new_features = ['ps_reg_A', 'ps_reg_M']\n",
    "selected_features.extend(new_features)\n",
    "selected_features.remove('ps_reg_03')"
   ]
  },
  {
   "cell_type": "code",
   "execution_count": null,
   "metadata": {},
   "outputs": [],
   "source": [
    "selected_features"
   ]
  },
  {
   "cell_type": "code",
   "execution_count": null,
   "metadata": {
    "scrolled": false
   },
   "outputs": [],
   "source": [
    "cross_val_model(train[selected_features], y, rf_model)"
   ]
  },
  {
   "cell_type": "code",
   "execution_count": null,
   "metadata": {
    "scrolled": true
   },
   "outputs": [],
   "source": [
    "cross_val_model(train[selected_features], y, xgb_model)"
   ]
  },
  {
   "cell_type": "code",
   "execution_count": null,
   "metadata": {},
   "outputs": [],
   "source": [
    "cross_val_model(train[selected_features], y, lgb_model)"
   ]
  },
  {
   "cell_type": "code",
   "execution_count": null,
   "metadata": {},
   "outputs": [],
   "source": [
    "for x in ['ps_reg_A', 'ps_reg_M']: selected_features.remove(x)\n",
    "selected_features.append('ps_reg_03')"
   ]
  },
  {
   "cell_type": "code",
   "execution_count": null,
   "metadata": {},
   "outputs": [],
   "source": [
    "selected_features"
   ]
  },
  {
   "cell_type": "markdown",
   "metadata": {},
   "source": [
    "### One HOT (<= 3 classes) and Categorical Target Encoding (for >3 classes)"
   ]
  },
  {
   "cell_type": "code",
   "execution_count": null,
   "metadata": {
    "collapsed": true
   },
   "outputs": [],
   "source": [
    "train = train.replace(-1, np.NaN)\n",
    "test = test.replace(-1, np.NaN)"
   ]
  },
  {
   "cell_type": "code",
   "execution_count": 394,
   "metadata": {},
   "outputs": [
    {
     "data": {
      "text/plain": [
       "[(70482, 'ps_car_13'),\n",
       " (5013, 'ps_reg_03'),\n",
       " (850, 'ps_car_14'),\n",
       " (184, 'ps_car_12'),\n",
       " (104, 'ps_car_11_cat'),\n",
       " (100, 'ps_reg_01_plus_ps_car_04_cat'),\n",
       " (24, 'ps_reg_01_plus_ps_car_02_cat'),\n",
       " (19, 'ps_reg_02'),\n",
       " (18, 'ps_car_06_cat'),\n",
       " (15, 'ps_car_15'),\n",
       " (14, 'ps_ind_15'),\n",
       " (13, 'ps_car_01_cat'),\n",
       " (12, 'ps_ind_03'),\n",
       " (10, 'ps_reg_01'),\n",
       " (10, 'ps_car_04_cat'),\n",
       " (8, 'ps_ind_05_cat'),\n",
       " (8, 'ps_ind_01'),\n",
       " (8, 'ps_calc_09'),\n",
       " (7, 'ps_calc_05'),\n",
       " (6, 'ps_car_09_cat'),\n",
       " (5, 'ps_ind_14'),\n",
       " (5, 'ps_ind_02_cat'),\n",
       " (5, 'ps_car_11'),\n",
       " (3, 'ps_ind_04_cat'),\n",
       " (3, 'ps_car_07_cat'),\n",
       " (3, 'ps_car_05_cat'),\n",
       " (3, 'ps_car_03_cat'),\n",
       " (3, 'ps_car_02_cat'),\n",
       " (2, 'ps_ind_18_bin'),\n",
       " (2, 'ps_ind_17_bin'),\n",
       " (2, 'ps_ind_16_bin'),\n",
       " (2, 'ps_ind_12_bin'),\n",
       " (2, 'ps_ind_09_bin'),\n",
       " (2, 'ps_ind_08_bin'),\n",
       " (2, 'ps_ind_07_bin'),\n",
       " (2, 'ps_ind_06_bin'),\n",
       " (2, 'ps_car_08_cat')]"
      ]
     },
     "execution_count": 394,
     "metadata": {},
     "output_type": "execute_result"
    }
   ],
   "source": [
    "one_hot = {c: len(list(train[c].unique())) for c in selected_features}\n",
    "sorted( ((v,k) for k,v in one_hot.items()), reverse=True)"
   ]
  },
  {
   "cell_type": "code",
   "execution_count": null,
   "metadata": {},
   "outputs": [],
   "source": [
    "train.head(10)"
   ]
  },
  {
   "cell_type": "code",
   "execution_count": 409,
   "metadata": {},
   "outputs": [
    {
     "data": {
      "text/plain": [
       "({'ps_car_02_cat': 3,\n",
       "  'ps_car_03_cat': 3,\n",
       "  'ps_car_05_cat': 3,\n",
       "  'ps_car_07_cat': 3,\n",
       "  'ps_car_08_cat': 2,\n",
       "  'ps_ind_04_cat': 3,\n",
       "  'ps_ind_06_bin': 2,\n",
       "  'ps_ind_07_bin': 2,\n",
       "  'ps_ind_08_bin': 2,\n",
       "  'ps_ind_09_bin': 2,\n",
       "  'ps_ind_12_bin': 2,\n",
       "  'ps_ind_16_bin': 2,\n",
       "  'ps_ind_17_bin': 2,\n",
       "  'ps_ind_18_bin': 2},\n",
       " {'ps_calc_05': 7,\n",
       "  'ps_calc_09': 8,\n",
       "  'ps_car_01_cat': 13,\n",
       "  'ps_car_04_cat': 10,\n",
       "  'ps_car_06_cat': 18,\n",
       "  'ps_car_09_cat': 6,\n",
       "  'ps_car_11': 5,\n",
       "  'ps_car_11_cat': 104,\n",
       "  'ps_car_12': 184,\n",
       "  'ps_car_13': 70482,\n",
       "  'ps_car_14': 850,\n",
       "  'ps_car_15': 15,\n",
       "  'ps_ind_01': 8,\n",
       "  'ps_ind_02_cat': 5,\n",
       "  'ps_ind_03': 12,\n",
       "  'ps_ind_05_cat': 8,\n",
       "  'ps_ind_14': 5,\n",
       "  'ps_ind_15': 14,\n",
       "  'ps_reg_01': 10,\n",
       "  'ps_reg_01_plus_ps_car_02_cat': 24,\n",
       "  'ps_reg_01_plus_ps_car_04_cat': 100,\n",
       "  'ps_reg_02': 19,\n",
       "  'ps_reg_03': 5013},\n",
       " {'ps_car_01_cat': 13,\n",
       "  'ps_car_04_cat': 10,\n",
       "  'ps_car_06_cat': 18,\n",
       "  'ps_car_09_cat': 6,\n",
       "  'ps_car_11_cat': 104,\n",
       "  'ps_ind_02_cat': 5,\n",
       "  'ps_ind_05_cat': 8,\n",
       "  'ps_reg_01_plus_ps_car_02_cat': 24,\n",
       "  'ps_reg_01_plus_ps_car_04_cat': 100})"
      ]
     },
     "execution_count": 409,
     "metadata": {},
     "output_type": "execute_result"
    }
   ],
   "source": [
    "one_hot_lt_than_3_unique = { k:v for k, v in one_hot.items() if v <= 3}\n",
    "one_hot_me_than_3_unique = { k:v for k, v in one_hot.items() if v > 3}\n",
    "one_hot_me_than_3_unique_cat = { k:v for k, v in one_hot.items() if v > 3 and 'cat' in k}\n",
    "one_hot_lt_than_3_unique, one_hot_me_than_3_unique, one_hot_me_than_3_unique_cat"
   ]
  },
  {
   "cell_type": "code",
   "execution_count": 400,
   "metadata": {},
   "outputs": [],
   "source": [
    "def OHE_by_unique(train, one_hot_lists, limit):\n",
    "    #ONE-HOT enconde features with more than 2 and less than 'limit' unique values\n",
    "    df = train.copy()\n",
    "    for c in one_hot.keys():\n",
    "        if len(one_hot_lists[c]) > 2 and len(one_hot_lists[c]) <= limit:\n",
    "            for val in one_hot_lists[c]:\n",
    "                df[c+'_oh_' + str(val)] = (df[c].values == val).astype(np.int)\n",
    "            print(c)\n",
    "    return df"
   ]
  },
  {
   "cell_type": "code",
   "execution_count": 401,
   "metadata": {},
   "outputs": [
    {
     "data": {
      "text/plain": [
       "{'ps_calc_05': 7,\n",
       " 'ps_calc_09': 8,\n",
       " 'ps_car_01_cat': 13,\n",
       " 'ps_car_02_cat': 3,\n",
       " 'ps_car_03_cat': 3,\n",
       " 'ps_car_04_cat': 10,\n",
       " 'ps_car_05_cat': 3,\n",
       " 'ps_car_06_cat': 18,\n",
       " 'ps_car_07_cat': 3,\n",
       " 'ps_car_08_cat': 2,\n",
       " 'ps_car_09_cat': 6,\n",
       " 'ps_car_11': 5,\n",
       " 'ps_car_11_cat': 104,\n",
       " 'ps_car_12': 184,\n",
       " 'ps_car_13': 70482,\n",
       " 'ps_car_14': 850,\n",
       " 'ps_car_15': 15,\n",
       " 'ps_ind_01': 8,\n",
       " 'ps_ind_02_cat': 5,\n",
       " 'ps_ind_03': 12,\n",
       " 'ps_ind_04_cat': 3,\n",
       " 'ps_ind_05_cat': 8,\n",
       " 'ps_ind_06_bin': 2,\n",
       " 'ps_ind_07_bin': 2,\n",
       " 'ps_ind_08_bin': 2,\n",
       " 'ps_ind_09_bin': 2,\n",
       " 'ps_ind_12_bin': 2,\n",
       " 'ps_ind_14': 5,\n",
       " 'ps_ind_15': 14,\n",
       " 'ps_ind_16_bin': 2,\n",
       " 'ps_ind_17_bin': 2,\n",
       " 'ps_ind_18_bin': 2,\n",
       " 'ps_reg_01': 10,\n",
       " 'ps_reg_01_plus_ps_car_02_cat': 24,\n",
       " 'ps_reg_01_plus_ps_car_04_cat': 100,\n",
       " 'ps_reg_02': 19,\n",
       " 'ps_reg_03': 5013}"
      ]
     },
     "execution_count": 401,
     "metadata": {},
     "output_type": "execute_result"
    }
   ],
   "source": [
    "one_hot"
   ]
  },
  {
   "cell_type": "code",
   "execution_count": 407,
   "metadata": {},
   "outputs": [
    {
     "data": {
      "text/plain": [
       "[('ps_ind_15', [11, 3, 12, 8, 9, 6, 13, 4, 10, 5, 7, 2, 0, 1]),\n",
       " ('ps_ind_02_cat', [2.0, 1.0, 4.0, 3.0, nan])]"
      ]
     },
     "execution_count": 407,
     "metadata": {},
     "output_type": "execute_result"
    }
   ],
   "source": [
    "one_hot_lists = {c: list(train[c].unique()) for c in selected_features}\n",
    "list(one_hot_lists.items())[:2]"
   ]
  },
  {
   "cell_type": "code",
   "execution_count": 405,
   "metadata": {},
   "outputs": [
    {
     "name": "stdout",
     "output_type": "stream",
     "text": [
      "train\n",
      "ps_car_03_cat\n",
      "ps_car_07_cat\n",
      "ps_car_02_cat\n",
      "ps_ind_04_cat\n",
      "ps_car_05_cat\n",
      "test\n",
      "ps_car_03_cat\n",
      "ps_car_07_cat\n",
      "ps_car_02_cat\n",
      "ps_ind_04_cat\n",
      "ps_car_05_cat\n"
     ]
    }
   ],
   "source": [
    "print('train')\n",
    "oh_train = OHE_by_unique(train, one_hot_lists, 3)\n",
    "print('test')\n",
    "oh_test = OHE_by_unique(test, one_hot_lists, 3)"
   ]
  },
  {
   "cell_type": "code",
   "execution_count": 411,
   "metadata": {},
   "outputs": [
    {
     "data": {
      "text/plain": [
       "(['ps_car_13',\n",
       "  'ps_ind_05_cat',\n",
       "  'ps_ind_03',\n",
       "  'ps_ind_15',\n",
       "  'ps_reg_02',\n",
       "  'ps_car_14',\n",
       "  'ps_car_12',\n",
       "  'ps_car_01_cat',\n",
       "  'ps_car_07_cat',\n",
       "  'ps_ind_17_bin',\n",
       "  'ps_car_03_cat',\n",
       "  'ps_reg_01',\n",
       "  'ps_car_15',\n",
       "  'ps_ind_01',\n",
       "  'ps_ind_16_bin',\n",
       "  'ps_ind_07_bin',\n",
       "  'ps_car_06_cat',\n",
       "  'ps_car_04_cat',\n",
       "  'ps_ind_06_bin',\n",
       "  'ps_car_09_cat',\n",
       "  'ps_car_02_cat',\n",
       "  'ps_ind_02_cat',\n",
       "  'ps_car_11',\n",
       "  'ps_car_05_cat',\n",
       "  'ps_calc_09',\n",
       "  'ps_calc_05',\n",
       "  'ps_ind_08_bin',\n",
       "  'ps_car_08_cat',\n",
       "  'ps_ind_09_bin',\n",
       "  'ps_ind_04_cat',\n",
       "  'ps_ind_18_bin',\n",
       "  'ps_ind_12_bin',\n",
       "  'ps_ind_14',\n",
       "  'ps_car_11_cat',\n",
       "  'ps_reg_01_plus_ps_car_02_cat',\n",
       "  'ps_reg_01_plus_ps_car_04_cat',\n",
       "  'ps_reg_03'],\n",
       " ['ps_car_03_cat',\n",
       "  'ps_car_07_cat',\n",
       "  'ps_car_02_cat',\n",
       "  'ps_ind_04_cat',\n",
       "  'ps_car_05_cat'])"
      ]
     },
     "execution_count": 411,
     "metadata": {},
     "output_type": "execute_result"
    }
   ],
   "source": [
    "oh_onehotted_columns = ['ps_car_03_cat','ps_car_07_cat','ps_car_02_cat','ps_ind_04_cat','ps_car_05_cat']\n",
    "selected_features_oh = selected_features.copy()\n",
    "selected_features_oh, oh_onehotted_columns"
   ]
  },
  {
   "cell_type": "code",
   "execution_count": 412,
   "metadata": {},
   "outputs": [
    {
     "name": "stdout",
     "output_type": "stream",
     "text": [
      "['ps_ind_01', 'ps_ind_02_cat', 'ps_ind_03', 'ps_ind_04_cat', 'ps_ind_05_cat', 'ps_ind_06_bin', 'ps_ind_07_bin', 'ps_ind_08_bin', 'ps_ind_09_bin', 'ps_ind_12_bin', 'ps_ind_14', 'ps_ind_15', 'ps_ind_16_bin', 'ps_ind_17_bin', 'ps_ind_18_bin', 'ps_reg_01', 'ps_reg_02', 'ps_reg_03', 'ps_car_01_cat', 'ps_car_02_cat', 'ps_car_03_cat', 'ps_car_04_cat', 'ps_car_05_cat', 'ps_car_06_cat', 'ps_car_07_cat', 'ps_car_08_cat', 'ps_car_09_cat', 'ps_car_11_cat', 'ps_car_11', 'ps_car_12', 'ps_car_13', 'ps_car_14', 'ps_car_15', 'ps_calc_05', 'ps_calc_09', 'ps_reg_01_plus_ps_car_02_cat', 'ps_reg_01_plus_ps_car_04_cat', 'ps_car_03_cat_oh_nan', 'ps_car_03_cat_oh_0.0', 'ps_car_03_cat_oh_1.0', 'ps_car_07_cat_oh_1.0', 'ps_car_07_cat_oh_nan', 'ps_car_07_cat_oh_0.0', 'ps_car_02_cat_oh_1.0', 'ps_car_02_cat_oh_0.0', 'ps_car_02_cat_oh_nan', 'ps_ind_04_cat_oh_1.0', 'ps_ind_04_cat_oh_0.0', 'ps_ind_04_cat_oh_nan', 'ps_car_05_cat_oh_1.0', 'ps_car_05_cat_oh_nan', 'ps_car_05_cat_oh_0.0']\n",
      "['ps_car_13', 'ps_ind_05_cat', 'ps_ind_03', 'ps_ind_15', 'ps_reg_02', 'ps_car_14', 'ps_car_12', 'ps_car_01_cat', 'ps_ind_17_bin', 'ps_reg_01', 'ps_car_15', 'ps_ind_01', 'ps_ind_16_bin', 'ps_ind_07_bin', 'ps_car_06_cat', 'ps_car_04_cat', 'ps_ind_06_bin', 'ps_car_09_cat', 'ps_ind_02_cat', 'ps_car_11', 'ps_calc_09', 'ps_calc_05', 'ps_ind_08_bin', 'ps_car_08_cat', 'ps_ind_09_bin', 'ps_ind_18_bin', 'ps_ind_12_bin', 'ps_ind_14', 'ps_car_11_cat', 'ps_reg_01_plus_ps_car_02_cat', 'ps_reg_01_plus_ps_car_04_cat', 'ps_reg_03', 'ps_ind_01', 'ps_ind_02_cat', 'ps_ind_03', 'ps_ind_04_cat', 'ps_ind_05_cat', 'ps_ind_06_bin', 'ps_ind_07_bin', 'ps_ind_08_bin', 'ps_ind_09_bin', 'ps_ind_12_bin', 'ps_ind_14', 'ps_ind_15', 'ps_ind_16_bin', 'ps_ind_17_bin', 'ps_ind_18_bin', 'ps_reg_01', 'ps_reg_02', 'ps_reg_03', 'ps_car_01_cat', 'ps_car_02_cat', 'ps_car_03_cat', 'ps_car_04_cat', 'ps_car_05_cat', 'ps_car_06_cat', 'ps_car_07_cat', 'ps_car_08_cat', 'ps_car_09_cat', 'ps_car_11_cat', 'ps_car_11', 'ps_car_12', 'ps_car_13', 'ps_car_14', 'ps_car_15', 'ps_calc_05', 'ps_calc_09', 'ps_reg_01_plus_ps_car_02_cat', 'ps_reg_01_plus_ps_car_04_cat', 'ps_car_03_cat_oh_nan', 'ps_car_03_cat_oh_0.0', 'ps_car_03_cat_oh_1.0', 'ps_car_07_cat_oh_1.0', 'ps_car_07_cat_oh_nan', 'ps_car_07_cat_oh_0.0', 'ps_car_02_cat_oh_1.0', 'ps_car_02_cat_oh_0.0', 'ps_car_02_cat_oh_nan', 'ps_ind_04_cat_oh_1.0', 'ps_ind_04_cat_oh_0.0', 'ps_ind_04_cat_oh_nan', 'ps_car_05_cat_oh_1.0', 'ps_car_05_cat_oh_nan', 'ps_car_05_cat_oh_0.0']\n"
     ]
    }
   ],
   "source": [
    "for c in oh_onehotted_columns:\n",
    "    if c in selected_features_oh:\n",
    "        selected_features_oh.remove(c)\n",
    "oh_columns = [c for c in oh_train.columns if c in selected_features or '_oh_' in c]\n",
    "print(oh_columns)\n",
    "selected_features_oh.extend(oh_columns)\n",
    "print(selected_features_oh)"
   ]
  },
  {
   "cell_type": "code",
   "execution_count": 413,
   "metadata": {},
   "outputs": [
    {
     "data": {
      "text/html": [
       "<div>\n",
       "<style scoped>\n",
       "    .dataframe tbody tr th:only-of-type {\n",
       "        vertical-align: middle;\n",
       "    }\n",
       "\n",
       "    .dataframe tbody tr th {\n",
       "        vertical-align: top;\n",
       "    }\n",
       "\n",
       "    .dataframe thead th {\n",
       "        text-align: right;\n",
       "    }\n",
       "</style>\n",
       "<table border=\"1\" class=\"dataframe\">\n",
       "  <thead>\n",
       "    <tr style=\"text-align: right;\">\n",
       "      <th></th>\n",
       "      <th>id</th>\n",
       "      <th>ps_ind_01</th>\n",
       "      <th>ps_ind_02_cat</th>\n",
       "      <th>ps_ind_03</th>\n",
       "      <th>ps_ind_04_cat</th>\n",
       "      <th>ps_ind_05_cat</th>\n",
       "      <th>ps_ind_06_bin</th>\n",
       "      <th>ps_ind_07_bin</th>\n",
       "      <th>ps_ind_08_bin</th>\n",
       "      <th>ps_ind_09_bin</th>\n",
       "      <th>...</th>\n",
       "      <th>ps_car_07_cat_oh_0.0</th>\n",
       "      <th>ps_car_02_cat_oh_1.0</th>\n",
       "      <th>ps_car_02_cat_oh_0.0</th>\n",
       "      <th>ps_car_02_cat_oh_nan</th>\n",
       "      <th>ps_ind_04_cat_oh_1.0</th>\n",
       "      <th>ps_ind_04_cat_oh_0.0</th>\n",
       "      <th>ps_ind_04_cat_oh_nan</th>\n",
       "      <th>ps_car_05_cat_oh_1.0</th>\n",
       "      <th>ps_car_05_cat_oh_nan</th>\n",
       "      <th>ps_car_05_cat_oh_0.0</th>\n",
       "    </tr>\n",
       "  </thead>\n",
       "  <tbody>\n",
       "    <tr>\n",
       "      <th>0</th>\n",
       "      <td>7</td>\n",
       "      <td>2</td>\n",
       "      <td>2.00</td>\n",
       "      <td>5</td>\n",
       "      <td>1.00</td>\n",
       "      <td>0.00</td>\n",
       "      <td>0</td>\n",
       "      <td>1</td>\n",
       "      <td>0</td>\n",
       "      <td>0</td>\n",
       "      <td>...</td>\n",
       "      <td>0</td>\n",
       "      <td>1</td>\n",
       "      <td>0</td>\n",
       "      <td>0</td>\n",
       "      <td>1</td>\n",
       "      <td>0</td>\n",
       "      <td>0</td>\n",
       "      <td>1</td>\n",
       "      <td>0</td>\n",
       "      <td>0</td>\n",
       "    </tr>\n",
       "    <tr>\n",
       "      <th>1</th>\n",
       "      <td>9</td>\n",
       "      <td>1</td>\n",
       "      <td>1.00</td>\n",
       "      <td>7</td>\n",
       "      <td>0.00</td>\n",
       "      <td>0.00</td>\n",
       "      <td>0</td>\n",
       "      <td>0</td>\n",
       "      <td>1</td>\n",
       "      <td>0</td>\n",
       "      <td>...</td>\n",
       "      <td>0</td>\n",
       "      <td>1</td>\n",
       "      <td>0</td>\n",
       "      <td>0</td>\n",
       "      <td>0</td>\n",
       "      <td>1</td>\n",
       "      <td>0</td>\n",
       "      <td>0</td>\n",
       "      <td>0</td>\n",
       "      <td>0</td>\n",
       "    </tr>\n",
       "    <tr>\n",
       "      <th>2</th>\n",
       "      <td>13</td>\n",
       "      <td>5</td>\n",
       "      <td>4.00</td>\n",
       "      <td>9</td>\n",
       "      <td>1.00</td>\n",
       "      <td>0.00</td>\n",
       "      <td>0</td>\n",
       "      <td>0</td>\n",
       "      <td>1</td>\n",
       "      <td>0</td>\n",
       "      <td>...</td>\n",
       "      <td>0</td>\n",
       "      <td>1</td>\n",
       "      <td>0</td>\n",
       "      <td>0</td>\n",
       "      <td>1</td>\n",
       "      <td>0</td>\n",
       "      <td>0</td>\n",
       "      <td>0</td>\n",
       "      <td>0</td>\n",
       "      <td>0</td>\n",
       "    </tr>\n",
       "    <tr>\n",
       "      <th>3</th>\n",
       "      <td>16</td>\n",
       "      <td>0</td>\n",
       "      <td>1.00</td>\n",
       "      <td>2</td>\n",
       "      <td>0.00</td>\n",
       "      <td>0.00</td>\n",
       "      <td>1</td>\n",
       "      <td>0</td>\n",
       "      <td>0</td>\n",
       "      <td>0</td>\n",
       "      <td>...</td>\n",
       "      <td>0</td>\n",
       "      <td>1</td>\n",
       "      <td>0</td>\n",
       "      <td>0</td>\n",
       "      <td>0</td>\n",
       "      <td>1</td>\n",
       "      <td>0</td>\n",
       "      <td>1</td>\n",
       "      <td>0</td>\n",
       "      <td>0</td>\n",
       "    </tr>\n",
       "    <tr>\n",
       "      <th>4</th>\n",
       "      <td>17</td>\n",
       "      <td>0</td>\n",
       "      <td>2.00</td>\n",
       "      <td>0</td>\n",
       "      <td>1.00</td>\n",
       "      <td>0.00</td>\n",
       "      <td>1</td>\n",
       "      <td>0</td>\n",
       "      <td>0</td>\n",
       "      <td>0</td>\n",
       "      <td>...</td>\n",
       "      <td>0</td>\n",
       "      <td>1</td>\n",
       "      <td>0</td>\n",
       "      <td>0</td>\n",
       "      <td>1</td>\n",
       "      <td>0</td>\n",
       "      <td>0</td>\n",
       "      <td>0</td>\n",
       "      <td>0</td>\n",
       "      <td>0</td>\n",
       "    </tr>\n",
       "  </tbody>\n",
       "</table>\n",
       "<p>5 rows × 77 columns</p>\n",
       "</div>"
      ],
      "text/plain": [
       "   id  ps_ind_01  ps_ind_02_cat  ps_ind_03  ps_ind_04_cat  ps_ind_05_cat  \\\n",
       "0   7          2           2.00          5           1.00           0.00   \n",
       "1   9          1           1.00          7           0.00           0.00   \n",
       "2  13          5           4.00          9           1.00           0.00   \n",
       "3  16          0           1.00          2           0.00           0.00   \n",
       "4  17          0           2.00          0           1.00           0.00   \n",
       "\n",
       "   ps_ind_06_bin  ps_ind_07_bin  ps_ind_08_bin  ps_ind_09_bin  \\\n",
       "0              0              1              0              0   \n",
       "1              0              0              1              0   \n",
       "2              0              0              1              0   \n",
       "3              1              0              0              0   \n",
       "4              1              0              0              0   \n",
       "\n",
       "           ...           ps_car_07_cat_oh_0.0  ps_car_02_cat_oh_1.0  \\\n",
       "0          ...                              0                     1   \n",
       "1          ...                              0                     1   \n",
       "2          ...                              0                     1   \n",
       "3          ...                              0                     1   \n",
       "4          ...                              0                     1   \n",
       "\n",
       "   ps_car_02_cat_oh_0.0  ps_car_02_cat_oh_nan  ps_ind_04_cat_oh_1.0  \\\n",
       "0                     0                     0                     1   \n",
       "1                     0                     0                     0   \n",
       "2                     0                     0                     1   \n",
       "3                     0                     0                     0   \n",
       "4                     0                     0                     1   \n",
       "\n",
       "   ps_ind_04_cat_oh_0.0  ps_ind_04_cat_oh_nan  ps_car_05_cat_oh_1.0  \\\n",
       "0                     0                     0                     1   \n",
       "1                     1                     0                     0   \n",
       "2                     0                     0                     0   \n",
       "3                     1                     0                     1   \n",
       "4                     0                     0                     0   \n",
       "\n",
       "   ps_car_05_cat_oh_nan  ps_car_05_cat_oh_0.0  \n",
       "0                     0                     0  \n",
       "1                     0                     0  \n",
       "2                     0                     0  \n",
       "3                     0                     0  \n",
       "4                     0                     0  \n",
       "\n",
       "[5 rows x 77 columns]"
      ]
     },
     "execution_count": 413,
     "metadata": {},
     "output_type": "execute_result"
    }
   ],
   "source": [
    "oh_train.head(5)"
   ]
  },
  {
   "cell_type": "code",
   "execution_count": 414,
   "metadata": {},
   "outputs": [],
   "source": [
    "oh_train = oh_train.fillna(-1)\n",
    "oh_test = oh_test.fillna(-1)"
   ]
  },
  {
   "cell_type": "code",
   "execution_count": null,
   "metadata": {
    "scrolled": false
   },
   "outputs": [],
   "source": [
    "cross_val_model(train[selected_features], y, rf_model)"
   ]
  },
  {
   "cell_type": "code",
   "execution_count": null,
   "metadata": {
    "scrolled": true
   },
   "outputs": [],
   "source": [
    "cross_val_model(train[selected_features], y, xgb_model)"
   ]
  },
  {
   "cell_type": "code",
   "execution_count": 358,
   "metadata": {
    "scrolled": false
   },
   "outputs": [
    {
     "name": "stdout",
     "output_type": "stream",
     "text": [
      "Fit LGBMClassifier fold 1\n",
      "    cross_score: 0.63201 (0.26402)\n",
      "    [        21 secs elapsed]: cross_score: 0.63201 (0.26402)\n",
      "Fit LGBMClassifier fold 2\n",
      "    cross_score: 0.63193 (0.26387)\n",
      "    [        40 secs elapsed]: cross_score: 0.63193 (0.26387)\n",
      "Fit LGBMClassifier fold 3\n",
      "    cross_score: 0.63699 (0.27397)\n",
      "    [        58 secs elapsed]: cross_score: 0.63699 (0.27397)\n",
      "cross_score_mean: 0.63364 (0.26729)\n"
     ]
    }
   ],
   "source": [
    "cross_val_model(train[selected_features], y, lgb_model)"
   ]
  },
  {
   "cell_type": "code",
   "execution_count": null,
   "metadata": {
    "collapsed": true,
    "scrolled": false
   },
   "outputs": [],
   "source": [
    "cross_val_model(oh_train[selected_features_oh], y, rf_model)"
   ]
  },
  {
   "cell_type": "code",
   "execution_count": null,
   "metadata": {
    "scrolled": true
   },
   "outputs": [],
   "source": [
    "cross_val_model(oh_train[selected_features_oh], y, xgb_model)"
   ]
  },
  {
   "cell_type": "code",
   "execution_count": 415,
   "metadata": {
    "scrolled": true
   },
   "outputs": [
    {
     "name": "stdout",
     "output_type": "stream",
     "text": [
      "Fit LGBMClassifier fold 1\n",
      "    cross_score: 0.63279 (0.26559)\n",
      "    [        31 secs elapsed]: cross_score: 0.63279 (0.26559)\n",
      "Fit LGBMClassifier fold 2\n",
      "    cross_score: 0.63195 (0.26390)\n",
      "    [        58 secs elapsed]: cross_score: 0.63195 (0.26390)\n",
      "Fit LGBMClassifier fold 3\n",
      "    cross_score: 0.63681 (0.27362)\n",
      "    [        85 secs elapsed]: cross_score: 0.63681 (0.27362)\n",
      "cross_score_mean: 0.63385 (0.26770)\n"
     ]
    }
   ],
   "source": [
    "cross_val_model(oh_train[selected_features_oh], y, lgb_model)"
   ]
  },
  {
   "cell_type": "markdown",
   "metadata": {},
   "source": [
    "#### Target Encoding Only Categorical variables"
   ]
  },
  {
   "cell_type": "code",
   "execution_count": 416,
   "metadata": {},
   "outputs": [
    {
     "data": {
      "text/plain": [
       "({'ps_car_02_cat': 3,\n",
       "  'ps_car_03_cat': 3,\n",
       "  'ps_car_05_cat': 3,\n",
       "  'ps_car_07_cat': 3,\n",
       "  'ps_car_08_cat': 2,\n",
       "  'ps_ind_04_cat': 3,\n",
       "  'ps_ind_06_bin': 2,\n",
       "  'ps_ind_07_bin': 2,\n",
       "  'ps_ind_08_bin': 2,\n",
       "  'ps_ind_09_bin': 2,\n",
       "  'ps_ind_12_bin': 2,\n",
       "  'ps_ind_16_bin': 2,\n",
       "  'ps_ind_17_bin': 2,\n",
       "  'ps_ind_18_bin': 2},\n",
       " {'ps_calc_05': 7,\n",
       "  'ps_calc_09': 8,\n",
       "  'ps_car_01_cat': 13,\n",
       "  'ps_car_04_cat': 10,\n",
       "  'ps_car_06_cat': 18,\n",
       "  'ps_car_09_cat': 6,\n",
       "  'ps_car_11': 5,\n",
       "  'ps_car_11_cat': 104,\n",
       "  'ps_car_12': 184,\n",
       "  'ps_car_13': 70482,\n",
       "  'ps_car_14': 850,\n",
       "  'ps_car_15': 15,\n",
       "  'ps_ind_01': 8,\n",
       "  'ps_ind_02_cat': 5,\n",
       "  'ps_ind_03': 12,\n",
       "  'ps_ind_05_cat': 8,\n",
       "  'ps_ind_14': 5,\n",
       "  'ps_ind_15': 14,\n",
       "  'ps_reg_01': 10,\n",
       "  'ps_reg_01_plus_ps_car_02_cat': 24,\n",
       "  'ps_reg_01_plus_ps_car_04_cat': 100,\n",
       "  'ps_reg_02': 19,\n",
       "  'ps_reg_03': 5013},\n",
       " {'ps_car_01_cat': 13,\n",
       "  'ps_car_04_cat': 10,\n",
       "  'ps_car_06_cat': 18,\n",
       "  'ps_car_09_cat': 6,\n",
       "  'ps_car_11_cat': 104,\n",
       "  'ps_ind_02_cat': 5,\n",
       "  'ps_ind_05_cat': 8,\n",
       "  'ps_reg_01_plus_ps_car_02_cat': 24,\n",
       "  'ps_reg_01_plus_ps_car_04_cat': 100})"
      ]
     },
     "execution_count": 416,
     "metadata": {},
     "output_type": "execute_result"
    }
   ],
   "source": [
    "one_hot_lt_than_3_unique, one_hot_me_than_3_unique, one_hot_me_than_3_unique_cat"
   ]
  },
  {
   "cell_type": "code",
   "execution_count": 364,
   "metadata": {
    "collapsed": true
   },
   "outputs": [],
   "source": [
    "# from https://www.kaggle.com/ogrellier/xgb-classifier-upsampling-lb-0-283/code\n",
    "def add_noise(series, noise_level):\n",
    "    return series * (1 + noise_level * np.random.randn(len(series)))"
   ]
  },
  {
   "cell_type": "code",
   "execution_count": 365,
   "metadata": {
    "collapsed": true
   },
   "outputs": [],
   "source": [
    "# adapted from https://www.kaggle.com/ogrellier/xgb-classifier-upsampling-lb-0-283/code\n",
    "def target_encode(trn_series=None,\n",
    "                  tst_series=None,\n",
    "                  target=None,\n",
    "                  min_samples_leaf=1,\n",
    "                  smoothing=1,\n",
    "                  noise_level=0):\n",
    "    \"\"\"\n",
    "    Smoothing is computed like in the following paper by Daniele Micci-Barreca\n",
    "    https://kaggle2.blob.core.windows.net/forum-message-attachments/225952/7441/high%20cardinality%20categoricals.pdf\n",
    "    trn_series : training categorical feature as a pd.Series\n",
    "    tst_series : test categorical feature as a pd.Series\n",
    "    target : target data as a pd.Series\n",
    "    min_samples_leaf (int) : minimum samples to take category average into account\n",
    "    smoothing (int) : smoothing effect to balance categorical average vs prior\n",
    "    \"\"\"\n",
    "    assert len(trn_series) == len(target)\n",
    "    assert trn_series.name == tst_series.name\n",
    "    temp = pd.concat([trn_series, target], axis=1)\n",
    "    # Compute target mean\n",
    "    averages = temp.groupby(by=trn_series.name)[target.name].agg([\"mean\", \"count\"])\n",
    "    # Compute smoothing\n",
    "    smoothing = 1 / (1 + np.exp(-(averages[\"count\"] - min_samples_leaf) / smoothing))\n",
    "    # Apply average function to all target data\n",
    "    prior = target.mean()\n",
    "    # The bigger the count the less full_avg is taken into account\n",
    "    averages[target.name] = prior * (1 - smoothing) + averages[\"mean\"] * smoothing\n",
    "    averages.drop([\"mean\", \"count\"], axis=1, inplace=True)\n",
    "    # Apply averages to trn and tst series\n",
    "    ft_trn_series = pd.merge(\n",
    "        trn_series.to_frame(trn_series.name),\n",
    "        averages.reset_index().rename(columns={'index': target.name, target.name: 'average'}),\n",
    "        on=trn_series.name,\n",
    "        how='left')['average'].rename(trn_series.name + '_mean').fillna(prior)\n",
    "    # pd.merge does not keep the index so restore it\n",
    "    ft_trn_series.index = trn_series.index\n",
    "    ft_tst_series = pd.merge(\n",
    "        tst_series.to_frame(tst_series.name),\n",
    "        averages.reset_index().rename(columns={'index': target.name, target.name: 'average'}),\n",
    "        on=tst_series.name,\n",
    "        how='left')['average'].rename(trn_series.name + '_mean').fillna(prior)\n",
    "    # pd.merge does not keep the index so restore it\n",
    "    ft_tst_series.index = tst_series.index\n",
    "    return add_noise(ft_trn_series, noise_level), add_noise(ft_tst_series, noise_level)"
   ]
  },
  {
   "cell_type": "code",
   "execution_count": 366,
   "metadata": {
    "collapsed": true
   },
   "outputs": [],
   "source": [
    "f_cats = one_hot_me_than_3_unique_cat"
   ]
  },
  {
   "cell_type": "code",
   "execution_count": 420,
   "metadata": {},
   "outputs": [],
   "source": [
    "te_train = oh_train.copy()\n",
    "te_test = oh_test.copy()"
   ]
  },
  {
   "cell_type": "code",
   "execution_count": null,
   "metadata": {
    "collapsed": true
   },
   "outputs": [],
   "source": [
    "te_train = te_train.replace(-1, np.NaN)\n",
    "te_test = te_test.replace(-1, np.NaN)\n",
    "#te_train = te_train.fillna(-1)\n",
    "#te_test = te_test.fillna(-1)"
   ]
  },
  {
   "cell_type": "code",
   "execution_count": 421,
   "metadata": {
    "collapsed": true
   },
   "outputs": [],
   "source": [
    "for f in f_cats:\n",
    "    te_train[f + \"_avg\"], te_test[f + \"_avg\"] = target_encode(trn_series=te_train[f],\n",
    "                                         tst_series=te_test[f],\n",
    "                                         target=y,\n",
    "                                         min_samples_leaf=200,\n",
    "                                         smoothing=10,\n",
    "                                         noise_level=0)"
   ]
  },
  {
   "cell_type": "code",
   "execution_count": 425,
   "metadata": {
    "collapsed": true
   },
   "outputs": [],
   "source": [
    "## Verify transformations"
   ]
  },
  {
   "cell_type": "code",
   "execution_count": 422,
   "metadata": {},
   "outputs": [
    {
     "data": {
      "text/html": [
       "<div>\n",
       "<style scoped>\n",
       "    .dataframe tbody tr th:only-of-type {\n",
       "        vertical-align: middle;\n",
       "    }\n",
       "\n",
       "    .dataframe tbody tr th {\n",
       "        vertical-align: top;\n",
       "    }\n",
       "\n",
       "    .dataframe thead th {\n",
       "        text-align: right;\n",
       "    }\n",
       "</style>\n",
       "<table border=\"1\" class=\"dataframe\">\n",
       "  <thead>\n",
       "    <tr style=\"text-align: right;\">\n",
       "      <th></th>\n",
       "      <th>id</th>\n",
       "      <th>ps_ind_01</th>\n",
       "      <th>ps_ind_02_cat</th>\n",
       "      <th>ps_ind_03</th>\n",
       "      <th>ps_ind_04_cat</th>\n",
       "      <th>ps_ind_05_cat</th>\n",
       "      <th>ps_ind_06_bin</th>\n",
       "      <th>ps_ind_07_bin</th>\n",
       "      <th>ps_ind_08_bin</th>\n",
       "      <th>ps_ind_09_bin</th>\n",
       "      <th>...</th>\n",
       "      <th>ps_calc_15_bin</th>\n",
       "      <th>ps_calc_16_bin</th>\n",
       "      <th>ps_calc_17_bin</th>\n",
       "      <th>ps_calc_18_bin</th>\n",
       "      <th>ps_calc_19_bin</th>\n",
       "      <th>ps_calc_20_bin</th>\n",
       "      <th>ps_reg_01_plus_ps_car_02_cat</th>\n",
       "      <th>ps_reg_01_plus_ps_car_04_cat</th>\n",
       "      <th>ps_reg_A</th>\n",
       "      <th>ps_reg_M</th>\n",
       "    </tr>\n",
       "  </thead>\n",
       "  <tbody>\n",
       "    <tr>\n",
       "      <th>0</th>\n",
       "      <td>7</td>\n",
       "      <td>2</td>\n",
       "      <td>2.00</td>\n",
       "      <td>5</td>\n",
       "      <td>1.00</td>\n",
       "      <td>0.00</td>\n",
       "      <td>0</td>\n",
       "      <td>1</td>\n",
       "      <td>0</td>\n",
       "      <td>0</td>\n",
       "      <td>...</td>\n",
       "      <td>0</td>\n",
       "      <td>1</td>\n",
       "      <td>1</td>\n",
       "      <td>0</td>\n",
       "      <td>0</td>\n",
       "      <td>1</td>\n",
       "      <td>19</td>\n",
       "      <td>70</td>\n",
       "      <td>nan</td>\n",
       "      <td>26.00</td>\n",
       "    </tr>\n",
       "    <tr>\n",
       "      <th>1</th>\n",
       "      <td>9</td>\n",
       "      <td>1</td>\n",
       "      <td>1.00</td>\n",
       "      <td>7</td>\n",
       "      <td>0.00</td>\n",
       "      <td>0.00</td>\n",
       "      <td>0</td>\n",
       "      <td>0</td>\n",
       "      <td>1</td>\n",
       "      <td>0</td>\n",
       "      <td>...</td>\n",
       "      <td>0</td>\n",
       "      <td>1</td>\n",
       "      <td>1</td>\n",
       "      <td>0</td>\n",
       "      <td>1</td>\n",
       "      <td>0</td>\n",
       "      <td>21</td>\n",
       "      <td>80</td>\n",
       "      <td>9.00</td>\n",
       "      <td>30.00</td>\n",
       "    </tr>\n",
       "    <tr>\n",
       "      <th>2</th>\n",
       "      <td>13</td>\n",
       "      <td>5</td>\n",
       "      <td>4.00</td>\n",
       "      <td>9</td>\n",
       "      <td>1.00</td>\n",
       "      <td>0.00</td>\n",
       "      <td>0</td>\n",
       "      <td>0</td>\n",
       "      <td>1</td>\n",
       "      <td>0</td>\n",
       "      <td>...</td>\n",
       "      <td>0</td>\n",
       "      <td>1</td>\n",
       "      <td>1</td>\n",
       "      <td>0</td>\n",
       "      <td>1</td>\n",
       "      <td>0</td>\n",
       "      <td>1</td>\n",
       "      <td>0</td>\n",
       "      <td>nan</td>\n",
       "      <td>nan</td>\n",
       "    </tr>\n",
       "  </tbody>\n",
       "</table>\n",
       "<p>3 rows × 62 columns</p>\n",
       "</div>"
      ],
      "text/plain": [
       "   id  ps_ind_01  ps_ind_02_cat  ps_ind_03  ps_ind_04_cat  ps_ind_05_cat  \\\n",
       "0   7          2           2.00          5           1.00           0.00   \n",
       "1   9          1           1.00          7           0.00           0.00   \n",
       "2  13          5           4.00          9           1.00           0.00   \n",
       "\n",
       "   ps_ind_06_bin  ps_ind_07_bin  ps_ind_08_bin  ps_ind_09_bin    ...     \\\n",
       "0              0              1              0              0    ...      \n",
       "1              0              0              1              0    ...      \n",
       "2              0              0              1              0    ...      \n",
       "\n",
       "   ps_calc_15_bin  ps_calc_16_bin  ps_calc_17_bin  ps_calc_18_bin  \\\n",
       "0               0               1               1               0   \n",
       "1               0               1               1               0   \n",
       "2               0               1               1               0   \n",
       "\n",
       "   ps_calc_19_bin  ps_calc_20_bin  ps_reg_01_plus_ps_car_02_cat  \\\n",
       "0               0               1                            19   \n",
       "1               1               0                            21   \n",
       "2               1               0                             1   \n",
       "\n",
       "   ps_reg_01_plus_ps_car_04_cat  ps_reg_A  ps_reg_M  \n",
       "0                            70       nan     26.00  \n",
       "1                            80      9.00     30.00  \n",
       "2                             0       nan       nan  \n",
       "\n",
       "[3 rows x 62 columns]"
      ]
     },
     "execution_count": 422,
     "metadata": {},
     "output_type": "execute_result"
    }
   ],
   "source": [
    "train.head(3)"
   ]
  },
  {
   "cell_type": "code",
   "execution_count": 424,
   "metadata": {},
   "outputs": [
    {
     "data": {
      "text/html": [
       "<div>\n",
       "<style scoped>\n",
       "    .dataframe tbody tr th:only-of-type {\n",
       "        vertical-align: middle;\n",
       "    }\n",
       "\n",
       "    .dataframe tbody tr th {\n",
       "        vertical-align: top;\n",
       "    }\n",
       "\n",
       "    .dataframe thead th {\n",
       "        text-align: right;\n",
       "    }\n",
       "</style>\n",
       "<table border=\"1\" class=\"dataframe\">\n",
       "  <thead>\n",
       "    <tr style=\"text-align: right;\">\n",
       "      <th></th>\n",
       "      <th>id</th>\n",
       "      <th>ps_ind_01</th>\n",
       "      <th>ps_ind_02_cat</th>\n",
       "      <th>ps_ind_03</th>\n",
       "      <th>ps_ind_04_cat</th>\n",
       "      <th>ps_ind_05_cat</th>\n",
       "      <th>ps_ind_06_bin</th>\n",
       "      <th>ps_ind_07_bin</th>\n",
       "      <th>ps_ind_08_bin</th>\n",
       "      <th>ps_ind_09_bin</th>\n",
       "      <th>...</th>\n",
       "      <th>ps_car_07_cat_oh_0.0</th>\n",
       "      <th>ps_car_02_cat_oh_1.0</th>\n",
       "      <th>ps_car_02_cat_oh_0.0</th>\n",
       "      <th>ps_car_02_cat_oh_nan</th>\n",
       "      <th>ps_ind_04_cat_oh_1.0</th>\n",
       "      <th>ps_ind_04_cat_oh_0.0</th>\n",
       "      <th>ps_ind_04_cat_oh_nan</th>\n",
       "      <th>ps_car_05_cat_oh_1.0</th>\n",
       "      <th>ps_car_05_cat_oh_nan</th>\n",
       "      <th>ps_car_05_cat_oh_0.0</th>\n",
       "    </tr>\n",
       "  </thead>\n",
       "  <tbody>\n",
       "    <tr>\n",
       "      <th>0</th>\n",
       "      <td>7</td>\n",
       "      <td>2</td>\n",
       "      <td>2.00</td>\n",
       "      <td>5</td>\n",
       "      <td>1.00</td>\n",
       "      <td>0.00</td>\n",
       "      <td>0</td>\n",
       "      <td>1</td>\n",
       "      <td>0</td>\n",
       "      <td>0</td>\n",
       "      <td>...</td>\n",
       "      <td>0</td>\n",
       "      <td>1</td>\n",
       "      <td>0</td>\n",
       "      <td>0</td>\n",
       "      <td>1</td>\n",
       "      <td>0</td>\n",
       "      <td>0</td>\n",
       "      <td>1</td>\n",
       "      <td>0</td>\n",
       "      <td>0</td>\n",
       "    </tr>\n",
       "    <tr>\n",
       "      <th>1</th>\n",
       "      <td>9</td>\n",
       "      <td>1</td>\n",
       "      <td>1.00</td>\n",
       "      <td>7</td>\n",
       "      <td>0.00</td>\n",
       "      <td>0.00</td>\n",
       "      <td>0</td>\n",
       "      <td>0</td>\n",
       "      <td>1</td>\n",
       "      <td>0</td>\n",
       "      <td>...</td>\n",
       "      <td>0</td>\n",
       "      <td>1</td>\n",
       "      <td>0</td>\n",
       "      <td>0</td>\n",
       "      <td>0</td>\n",
       "      <td>1</td>\n",
       "      <td>0</td>\n",
       "      <td>0</td>\n",
       "      <td>0</td>\n",
       "      <td>0</td>\n",
       "    </tr>\n",
       "    <tr>\n",
       "      <th>2</th>\n",
       "      <td>13</td>\n",
       "      <td>5</td>\n",
       "      <td>4.00</td>\n",
       "      <td>9</td>\n",
       "      <td>1.00</td>\n",
       "      <td>0.00</td>\n",
       "      <td>0</td>\n",
       "      <td>0</td>\n",
       "      <td>1</td>\n",
       "      <td>0</td>\n",
       "      <td>...</td>\n",
       "      <td>0</td>\n",
       "      <td>1</td>\n",
       "      <td>0</td>\n",
       "      <td>0</td>\n",
       "      <td>1</td>\n",
       "      <td>0</td>\n",
       "      <td>0</td>\n",
       "      <td>0</td>\n",
       "      <td>0</td>\n",
       "      <td>0</td>\n",
       "    </tr>\n",
       "  </tbody>\n",
       "</table>\n",
       "<p>3 rows × 77 columns</p>\n",
       "</div>"
      ],
      "text/plain": [
       "   id  ps_ind_01  ps_ind_02_cat  ps_ind_03  ps_ind_04_cat  ps_ind_05_cat  \\\n",
       "0   7          2           2.00          5           1.00           0.00   \n",
       "1   9          1           1.00          7           0.00           0.00   \n",
       "2  13          5           4.00          9           1.00           0.00   \n",
       "\n",
       "   ps_ind_06_bin  ps_ind_07_bin  ps_ind_08_bin  ps_ind_09_bin  \\\n",
       "0              0              1              0              0   \n",
       "1              0              0              1              0   \n",
       "2              0              0              1              0   \n",
       "\n",
       "           ...           ps_car_07_cat_oh_0.0  ps_car_02_cat_oh_1.0  \\\n",
       "0          ...                              0                     1   \n",
       "1          ...                              0                     1   \n",
       "2          ...                              0                     1   \n",
       "\n",
       "   ps_car_02_cat_oh_0.0  ps_car_02_cat_oh_nan  ps_ind_04_cat_oh_1.0  \\\n",
       "0                     0                     0                     1   \n",
       "1                     0                     0                     0   \n",
       "2                     0                     0                     1   \n",
       "\n",
       "   ps_ind_04_cat_oh_0.0  ps_ind_04_cat_oh_nan  ps_car_05_cat_oh_1.0  \\\n",
       "0                     0                     0                     1   \n",
       "1                     1                     0                     0   \n",
       "2                     0                     0                     0   \n",
       "\n",
       "   ps_car_05_cat_oh_nan  ps_car_05_cat_oh_0.0  \n",
       "0                     0                     0  \n",
       "1                     0                     0  \n",
       "2                     0                     0  \n",
       "\n",
       "[3 rows x 77 columns]"
      ]
     },
     "execution_count": 424,
     "metadata": {},
     "output_type": "execute_result"
    }
   ],
   "source": [
    "oh_train.head(3)"
   ]
  },
  {
   "cell_type": "code",
   "execution_count": 423,
   "metadata": {
    "scrolled": true
   },
   "outputs": [
    {
     "data": {
      "text/html": [
       "<div>\n",
       "<style scoped>\n",
       "    .dataframe tbody tr th:only-of-type {\n",
       "        vertical-align: middle;\n",
       "    }\n",
       "\n",
       "    .dataframe tbody tr th {\n",
       "        vertical-align: top;\n",
       "    }\n",
       "\n",
       "    .dataframe thead th {\n",
       "        text-align: right;\n",
       "    }\n",
       "</style>\n",
       "<table border=\"1\" class=\"dataframe\">\n",
       "  <thead>\n",
       "    <tr style=\"text-align: right;\">\n",
       "      <th></th>\n",
       "      <th>id</th>\n",
       "      <th>ps_ind_01</th>\n",
       "      <th>ps_ind_02_cat</th>\n",
       "      <th>ps_ind_03</th>\n",
       "      <th>ps_ind_04_cat</th>\n",
       "      <th>ps_ind_05_cat</th>\n",
       "      <th>ps_ind_06_bin</th>\n",
       "      <th>ps_ind_07_bin</th>\n",
       "      <th>ps_ind_08_bin</th>\n",
       "      <th>ps_ind_09_bin</th>\n",
       "      <th>...</th>\n",
       "      <th>ps_reg_01_plus_ps_car_04_cat_avg</th>\n",
       "      <th>ps_ind_05_cat_avg</th>\n",
       "      <th>ps_car_04_cat_avg</th>\n",
       "      <th>ps_car_06_cat_avg</th>\n",
       "      <th>ps_car_02_cat_avg</th>\n",
       "      <th>ps_car_01_cat_avg</th>\n",
       "      <th>ps_ind_04_cat_avg</th>\n",
       "      <th>ps_car_09_cat_avg</th>\n",
       "      <th>ps_car_11_cat_avg</th>\n",
       "      <th>ps_car_05_cat_avg</th>\n",
       "    </tr>\n",
       "  </thead>\n",
       "  <tbody>\n",
       "    <tr>\n",
       "      <th>0</th>\n",
       "      <td>7</td>\n",
       "      <td>2</td>\n",
       "      <td>2.00</td>\n",
       "      <td>5</td>\n",
       "      <td>1.00</td>\n",
       "      <td>0.00</td>\n",
       "      <td>0</td>\n",
       "      <td>1</td>\n",
       "      <td>0</td>\n",
       "      <td>0</td>\n",
       "      <td>...</td>\n",
       "      <td>0.04</td>\n",
       "      <td>0.03</td>\n",
       "      <td>0.03</td>\n",
       "      <td>0.03</td>\n",
       "      <td>0.03</td>\n",
       "      <td>0.04</td>\n",
       "      <td>0.04</td>\n",
       "      <td>0.03</td>\n",
       "      <td>0.04</td>\n",
       "      <td>0.04</td>\n",
       "    </tr>\n",
       "    <tr>\n",
       "      <th>1</th>\n",
       "      <td>9</td>\n",
       "      <td>1</td>\n",
       "      <td>1.00</td>\n",
       "      <td>7</td>\n",
       "      <td>0.00</td>\n",
       "      <td>0.00</td>\n",
       "      <td>0</td>\n",
       "      <td>0</td>\n",
       "      <td>1</td>\n",
       "      <td>0</td>\n",
       "      <td>...</td>\n",
       "      <td>0.04</td>\n",
       "      <td>0.03</td>\n",
       "      <td>0.03</td>\n",
       "      <td>0.03</td>\n",
       "      <td>0.03</td>\n",
       "      <td>0.04</td>\n",
       "      <td>0.03</td>\n",
       "      <td>0.04</td>\n",
       "      <td>0.02</td>\n",
       "      <td>0.03</td>\n",
       "    </tr>\n",
       "    <tr>\n",
       "      <th>2</th>\n",
       "      <td>13</td>\n",
       "      <td>5</td>\n",
       "      <td>4.00</td>\n",
       "      <td>9</td>\n",
       "      <td>1.00</td>\n",
       "      <td>0.00</td>\n",
       "      <td>0</td>\n",
       "      <td>0</td>\n",
       "      <td>1</td>\n",
       "      <td>0</td>\n",
       "      <td>...</td>\n",
       "      <td>0.04</td>\n",
       "      <td>0.03</td>\n",
       "      <td>0.03</td>\n",
       "      <td>0.03</td>\n",
       "      <td>0.03</td>\n",
       "      <td>0.03</td>\n",
       "      <td>0.04</td>\n",
       "      <td>0.04</td>\n",
       "      <td>0.03</td>\n",
       "      <td>0.03</td>\n",
       "    </tr>\n",
       "  </tbody>\n",
       "</table>\n",
       "<p>3 rows × 91 columns</p>\n",
       "</div>"
      ],
      "text/plain": [
       "   id  ps_ind_01  ps_ind_02_cat  ps_ind_03  ps_ind_04_cat  ps_ind_05_cat  \\\n",
       "0   7          2           2.00          5           1.00           0.00   \n",
       "1   9          1           1.00          7           0.00           0.00   \n",
       "2  13          5           4.00          9           1.00           0.00   \n",
       "\n",
       "   ps_ind_06_bin  ps_ind_07_bin  ps_ind_08_bin  ps_ind_09_bin  \\\n",
       "0              0              1              0              0   \n",
       "1              0              0              1              0   \n",
       "2              0              0              1              0   \n",
       "\n",
       "         ...          ps_reg_01_plus_ps_car_04_cat_avg  ps_ind_05_cat_avg  \\\n",
       "0        ...                                      0.04               0.03   \n",
       "1        ...                                      0.04               0.03   \n",
       "2        ...                                      0.04               0.03   \n",
       "\n",
       "   ps_car_04_cat_avg  ps_car_06_cat_avg  ps_car_02_cat_avg  ps_car_01_cat_avg  \\\n",
       "0               0.03               0.03               0.03               0.04   \n",
       "1               0.03               0.03               0.03               0.04   \n",
       "2               0.03               0.03               0.03               0.03   \n",
       "\n",
       "   ps_ind_04_cat_avg  ps_car_09_cat_avg  ps_car_11_cat_avg  ps_car_05_cat_avg  \n",
       "0               0.04               0.03               0.04               0.04  \n",
       "1               0.03               0.04               0.02               0.03  \n",
       "2               0.04               0.04               0.03               0.03  \n",
       "\n",
       "[3 rows x 91 columns]"
      ]
     },
     "execution_count": 423,
     "metadata": {},
     "output_type": "execute_result"
    }
   ],
   "source": [
    "te_train.head(3)"
   ]
  },
  {
   "cell_type": "code",
   "execution_count": 430,
   "metadata": {},
   "outputs": [
    {
     "data": {
      "text/plain": [
       "['ps_ind_02_cat_avg',\n",
       " 'ps_car_03_cat_avg',\n",
       " 'ps_car_07_cat_avg',\n",
       " 'ps_reg_01_plus_ps_car_02_cat_avg',\n",
       " 'ps_reg_01_plus_ps_car_04_cat_avg',\n",
       " 'ps_ind_05_cat_avg',\n",
       " 'ps_car_04_cat_avg',\n",
       " 'ps_car_06_cat_avg',\n",
       " 'ps_car_02_cat_avg',\n",
       " 'ps_car_01_cat_avg',\n",
       " 'ps_ind_04_cat_avg',\n",
       " 'ps_car_09_cat_avg',\n",
       " 'ps_car_11_cat_avg',\n",
       " 'ps_car_05_cat_avg']"
      ]
     },
     "execution_count": 430,
     "metadata": {},
     "output_type": "execute_result"
    }
   ],
   "source": [
    "new_te_columns = [c for c in te_train.columns if '_avg' in c]\n",
    "new_te_columns"
   ]
  },
  {
   "cell_type": "code",
   "execution_count": 432,
   "metadata": {},
   "outputs": [
    {
     "data": {
      "text/plain": [
       "['ps_car_13',\n",
       " 'ps_ind_03',\n",
       " 'ps_ind_15',\n",
       " 'ps_reg_02',\n",
       " 'ps_car_14',\n",
       " 'ps_car_12',\n",
       " 'ps_ind_17_bin',\n",
       " 'ps_reg_01',\n",
       " 'ps_car_15',\n",
       " 'ps_ind_01',\n",
       " 'ps_ind_16_bin',\n",
       " 'ps_ind_07_bin',\n",
       " 'ps_ind_06_bin',\n",
       " 'ps_car_11',\n",
       " 'ps_calc_09',\n",
       " 'ps_calc_05',\n",
       " 'ps_ind_08_bin',\n",
       " 'ps_car_08_cat',\n",
       " 'ps_ind_09_bin',\n",
       " 'ps_ind_18_bin',\n",
       " 'ps_ind_12_bin',\n",
       " 'ps_ind_14',\n",
       " 'ps_reg_03',\n",
       " 'ps_ind_01',\n",
       " 'ps_ind_02_cat',\n",
       " 'ps_ind_03',\n",
       " 'ps_ind_05_cat',\n",
       " 'ps_ind_06_bin',\n",
       " 'ps_ind_07_bin',\n",
       " 'ps_ind_08_bin',\n",
       " 'ps_ind_09_bin',\n",
       " 'ps_ind_12_bin',\n",
       " 'ps_ind_14',\n",
       " 'ps_ind_15',\n",
       " 'ps_ind_16_bin',\n",
       " 'ps_ind_17_bin',\n",
       " 'ps_ind_18_bin',\n",
       " 'ps_reg_01',\n",
       " 'ps_reg_02',\n",
       " 'ps_reg_03',\n",
       " 'ps_car_01_cat',\n",
       " 'ps_car_04_cat',\n",
       " 'ps_car_06_cat',\n",
       " 'ps_car_08_cat',\n",
       " 'ps_car_09_cat',\n",
       " 'ps_car_11_cat',\n",
       " 'ps_car_11',\n",
       " 'ps_car_12',\n",
       " 'ps_car_13',\n",
       " 'ps_car_14',\n",
       " 'ps_car_15',\n",
       " 'ps_calc_05',\n",
       " 'ps_calc_09',\n",
       " 'ps_reg_01_plus_ps_car_02_cat',\n",
       " 'ps_reg_01_plus_ps_car_04_cat',\n",
       " 'ps_car_03_cat_oh_nan',\n",
       " 'ps_car_03_cat_oh_0.0',\n",
       " 'ps_car_03_cat_oh_1.0',\n",
       " 'ps_car_07_cat_oh_1.0',\n",
       " 'ps_car_07_cat_oh_nan',\n",
       " 'ps_car_07_cat_oh_0.0',\n",
       " 'ps_car_02_cat_oh_1.0',\n",
       " 'ps_car_02_cat_oh_0.0',\n",
       " 'ps_car_02_cat_oh_nan',\n",
       " 'ps_ind_04_cat_oh_1.0',\n",
       " 'ps_ind_04_cat_oh_0.0',\n",
       " 'ps_ind_04_cat_oh_nan',\n",
       " 'ps_car_05_cat_oh_1.0',\n",
       " 'ps_car_05_cat_oh_nan',\n",
       " 'ps_car_05_cat_oh_0.0',\n",
       " 'ps_ind_02_cat_avg',\n",
       " 'ps_car_03_cat_avg',\n",
       " 'ps_car_07_cat_avg',\n",
       " 'ps_reg_01_plus_ps_car_02_cat_avg',\n",
       " 'ps_reg_01_plus_ps_car_04_cat_avg',\n",
       " 'ps_ind_05_cat_avg',\n",
       " 'ps_car_04_cat_avg',\n",
       " 'ps_car_06_cat_avg',\n",
       " 'ps_car_02_cat_avg',\n",
       " 'ps_car_01_cat_avg',\n",
       " 'ps_ind_04_cat_avg',\n",
       " 'ps_car_09_cat_avg',\n",
       " 'ps_car_11_cat_avg',\n",
       " 'ps_car_05_cat_avg']"
      ]
     },
     "execution_count": 432,
     "metadata": {},
     "output_type": "execute_result"
    }
   ],
   "source": [
    "selected_features_te = selected_features_oh.copy()\n",
    "selected_features_te.extend(new_te_columns)\n",
    "for x in new_te_columns: selected_features_te.remove(x[:-4])\n",
    "selected_features_te"
   ]
  },
  {
   "cell_type": "code",
   "execution_count": null,
   "metadata": {
    "collapsed": true,
    "scrolled": false
   },
   "outputs": [],
   "source": [
    "cross_val_model(te_train[selected_features_te], y, rf_model)"
   ]
  },
  {
   "cell_type": "code",
   "execution_count": null,
   "metadata": {
    "collapsed": true,
    "scrolled": true
   },
   "outputs": [],
   "source": [
    "cross_val_model(te_train[selected_features_te], y, xgb_model)"
   ]
  },
  {
   "cell_type": "code",
   "execution_count": 433,
   "metadata": {
    "scrolled": true
   },
   "outputs": [
    {
     "name": "stdout",
     "output_type": "stream",
     "text": [
      "Fit LGBMClassifier fold 1\n",
      "    cross_score: 0.63456 (0.26912)\n",
      "    [        26 secs elapsed]: cross_score: 0.63456 (0.26912)\n",
      "Fit LGBMClassifier fold 2\n",
      "    cross_score: 0.63306 (0.26612)\n",
      "    [        53 secs elapsed]: cross_score: 0.63306 (0.26612)\n",
      "Fit LGBMClassifier fold 3\n",
      "    cross_score: 0.63760 (0.27520)\n",
      "    [        81 secs elapsed]: cross_score: 0.63760 (0.27520)\n",
      "cross_score_mean: 0.63507 (0.27014)\n"
     ]
    }
   ],
   "source": [
    "cross_val_model(te_train[selected_features_te], y, lgb_model)"
   ]
  },
  {
   "cell_type": "markdown",
   "metadata": {},
   "source": [
    "## Target Encoding a lot of things"
   ]
  },
  {
   "cell_type": "code",
   "execution_count": 434,
   "metadata": {
    "collapsed": true
   },
   "outputs": [],
   "source": [
    "f_cats = one_hot_me_than_3_unique"
   ]
  },
  {
   "cell_type": "code",
   "execution_count": 435,
   "metadata": {
    "collapsed": true
   },
   "outputs": [],
   "source": [
    "te2_train = oh_train.copy()\n",
    "te2_test = oh_test.copy()"
   ]
  },
  {
   "cell_type": "code",
   "execution_count": 436,
   "metadata": {
    "collapsed": true
   },
   "outputs": [],
   "source": [
    "te2_train = te2_train.replace(-1, np.NaN)\n",
    "te2_test = te2_test.replace(-1, np.NaN)\n",
    "#te_train = te_train.fillna(-1)\n",
    "#te_test = te_test.fillna(-1)"
   ]
  },
  {
   "cell_type": "code",
   "execution_count": 437,
   "metadata": {
    "collapsed": true
   },
   "outputs": [],
   "source": [
    "for f in f_cats:\n",
    "    te2_train[f + \"_avg\"], te2_test[f + \"_avg\"] = target_encode(trn_series=te2_train[f],\n",
    "                                         tst_series=te2_test[f],\n",
    "                                         target=y,\n",
    "                                         min_samples_leaf=200,\n",
    "                                         smoothing=10,\n",
    "                                         noise_level=0)"
   ]
  },
  {
   "cell_type": "code",
   "execution_count": 440,
   "metadata": {},
   "outputs": [
    {
     "data": {
      "text/plain": [
       "['ps_ind_15_avg',\n",
       " 'ps_car_14_avg',\n",
       " 'ps_car_09_cat_avg',\n",
       " 'ps_reg_01_plus_ps_car_04_cat_avg',\n",
       " 'ps_ind_05_cat_avg',\n",
       " 'ps_ind_14_avg',\n",
       " 'ps_car_06_cat_avg',\n",
       " 'ps_car_01_cat_avg',\n",
       " 'ps_car_11_avg',\n",
       " 'ps_reg_02_avg',\n",
       " 'ps_calc_05_avg',\n",
       " 'ps_ind_03_avg',\n",
       " 'ps_ind_02_cat_avg',\n",
       " 'ps_reg_01_avg',\n",
       " 'ps_reg_03_avg',\n",
       " 'ps_reg_01_plus_ps_car_02_cat_avg',\n",
       " 'ps_car_12_avg',\n",
       " 'ps_car_04_cat_avg',\n",
       " 'ps_ind_01_avg',\n",
       " 'ps_car_15_avg',\n",
       " 'ps_car_11_cat_avg',\n",
       " 'ps_calc_09_avg',\n",
       " 'ps_car_13_avg']"
      ]
     },
     "execution_count": 440,
     "metadata": {},
     "output_type": "execute_result"
    }
   ],
   "source": [
    "new_te2_columns = [c for c in te2_train.columns if '_avg' in c]\n",
    "new_te2_columns"
   ]
  },
  {
   "cell_type": "code",
   "execution_count": 441,
   "metadata": {},
   "outputs": [
    {
     "data": {
      "text/plain": [
       "['ps_ind_17_bin',\n",
       " 'ps_ind_16_bin',\n",
       " 'ps_ind_07_bin',\n",
       " 'ps_ind_06_bin',\n",
       " 'ps_ind_08_bin',\n",
       " 'ps_car_08_cat',\n",
       " 'ps_ind_09_bin',\n",
       " 'ps_ind_18_bin',\n",
       " 'ps_ind_12_bin',\n",
       " 'ps_ind_01',\n",
       " 'ps_ind_02_cat',\n",
       " 'ps_ind_03',\n",
       " 'ps_ind_04_cat',\n",
       " 'ps_ind_05_cat',\n",
       " 'ps_ind_06_bin',\n",
       " 'ps_ind_07_bin',\n",
       " 'ps_ind_08_bin',\n",
       " 'ps_ind_09_bin',\n",
       " 'ps_ind_12_bin',\n",
       " 'ps_ind_14',\n",
       " 'ps_ind_15',\n",
       " 'ps_ind_16_bin',\n",
       " 'ps_ind_17_bin',\n",
       " 'ps_ind_18_bin',\n",
       " 'ps_reg_01',\n",
       " 'ps_reg_02',\n",
       " 'ps_reg_03',\n",
       " 'ps_car_01_cat',\n",
       " 'ps_car_02_cat',\n",
       " 'ps_car_03_cat',\n",
       " 'ps_car_04_cat',\n",
       " 'ps_car_05_cat',\n",
       " 'ps_car_06_cat',\n",
       " 'ps_car_07_cat',\n",
       " 'ps_car_08_cat',\n",
       " 'ps_car_09_cat',\n",
       " 'ps_car_11_cat',\n",
       " 'ps_car_11',\n",
       " 'ps_car_12',\n",
       " 'ps_car_13',\n",
       " 'ps_car_14',\n",
       " 'ps_car_15',\n",
       " 'ps_calc_05',\n",
       " 'ps_calc_09',\n",
       " 'ps_reg_01_plus_ps_car_02_cat',\n",
       " 'ps_reg_01_plus_ps_car_04_cat',\n",
       " 'ps_car_03_cat_oh_nan',\n",
       " 'ps_car_03_cat_oh_0.0',\n",
       " 'ps_car_03_cat_oh_1.0',\n",
       " 'ps_car_07_cat_oh_1.0',\n",
       " 'ps_car_07_cat_oh_nan',\n",
       " 'ps_car_07_cat_oh_0.0',\n",
       " 'ps_car_02_cat_oh_1.0',\n",
       " 'ps_car_02_cat_oh_0.0',\n",
       " 'ps_car_02_cat_oh_nan',\n",
       " 'ps_ind_04_cat_oh_1.0',\n",
       " 'ps_ind_04_cat_oh_0.0',\n",
       " 'ps_ind_04_cat_oh_nan',\n",
       " 'ps_car_05_cat_oh_1.0',\n",
       " 'ps_car_05_cat_oh_nan',\n",
       " 'ps_car_05_cat_oh_0.0',\n",
       " 'ps_ind_15_avg',\n",
       " 'ps_car_14_avg',\n",
       " 'ps_car_09_cat_avg',\n",
       " 'ps_reg_01_plus_ps_car_04_cat_avg',\n",
       " 'ps_ind_05_cat_avg',\n",
       " 'ps_ind_14_avg',\n",
       " 'ps_car_06_cat_avg',\n",
       " 'ps_car_01_cat_avg',\n",
       " 'ps_car_11_avg',\n",
       " 'ps_reg_02_avg',\n",
       " 'ps_calc_05_avg',\n",
       " 'ps_ind_03_avg',\n",
       " 'ps_ind_02_cat_avg',\n",
       " 'ps_reg_01_avg',\n",
       " 'ps_reg_03_avg',\n",
       " 'ps_reg_01_plus_ps_car_02_cat_avg',\n",
       " 'ps_car_12_avg',\n",
       " 'ps_car_04_cat_avg',\n",
       " 'ps_ind_01_avg',\n",
       " 'ps_car_15_avg',\n",
       " 'ps_car_11_cat_avg',\n",
       " 'ps_calc_09_avg',\n",
       " 'ps_car_13_avg']"
      ]
     },
     "execution_count": 441,
     "metadata": {},
     "output_type": "execute_result"
    }
   ],
   "source": [
    "selected_features_te2 = selected_features_oh.copy()\n",
    "selected_features_te2.extend(new_te2_columns)\n",
    "for x in new_te2_columns: selected_features_te2.remove(x[:-4])\n",
    "selected_features_te2"
   ]
  },
  {
   "cell_type": "code",
   "execution_count": null,
   "metadata": {
    "collapsed": true
   },
   "outputs": [],
   "source": [
    "te2_train = te2_train.fillna(-1)\n",
    "te2_test = te2_test.fillna(-1)"
   ]
  },
  {
   "cell_type": "code",
   "execution_count": 444,
   "metadata": {
    "scrolled": false
   },
   "outputs": [
    {
     "name": "stdout",
     "output_type": "stream",
     "text": [
      "Fit RandomForestClassifier fold 1\n"
     ]
    },
    {
     "ename": "ValueError",
     "evalue": "Input contains NaN, infinity or a value too large for dtype('float32').",
     "output_type": "error",
     "traceback": [
      "\u001b[1;31m---------------------------------------------------------------------------\u001b[0m",
      "\u001b[1;31mValueError\u001b[0m                                Traceback (most recent call last)",
      "\u001b[1;32m<ipython-input-444-926e9fe0c9df>\u001b[0m in \u001b[0;36m<module>\u001b[1;34m()\u001b[0m\n\u001b[1;32m----> 1\u001b[1;33m \u001b[0mcross_val_model\u001b[0m\u001b[1;33m(\u001b[0m\u001b[0mte2_train\u001b[0m\u001b[1;33m[\u001b[0m\u001b[0mselected_features_te2\u001b[0m\u001b[1;33m]\u001b[0m\u001b[1;33m,\u001b[0m \u001b[0my\u001b[0m\u001b[1;33m,\u001b[0m \u001b[0mrf_model\u001b[0m\u001b[1;33m)\u001b[0m\u001b[1;33m\u001b[0m\u001b[0m\n\u001b[0m",
      "\u001b[1;32m<ipython-input-131-cc4ffbb2bbf4>\u001b[0m in \u001b[0;36mcross_val_model\u001b[1;34m(X, y, model, n_splits)\u001b[0m\n\u001b[0;32m     17\u001b[0m \u001b[1;33m\u001b[0m\u001b[0m\n\u001b[0;32m     18\u001b[0m         \u001b[0mprint\u001b[0m \u001b[1;33m(\u001b[0m\u001b[1;34m\"Fit %s fold %d\"\u001b[0m \u001b[1;33m%\u001b[0m \u001b[1;33m(\u001b[0m\u001b[0mstr\u001b[0m\u001b[1;33m(\u001b[0m\u001b[0mmodel\u001b[0m\u001b[1;33m)\u001b[0m\u001b[1;33m.\u001b[0m\u001b[0msplit\u001b[0m\u001b[1;33m(\u001b[0m\u001b[1;34m'('\u001b[0m\u001b[1;33m)\u001b[0m\u001b[1;33m[\u001b[0m\u001b[1;36m0\u001b[0m\u001b[1;33m]\u001b[0m\u001b[1;33m,\u001b[0m \u001b[0mj\u001b[0m\u001b[1;33m+\u001b[0m\u001b[1;36m1\u001b[0m\u001b[1;33m)\u001b[0m\u001b[1;33m)\u001b[0m\u001b[1;33m\u001b[0m\u001b[0m\n\u001b[1;32m---> 19\u001b[1;33m         \u001b[0mmodel\u001b[0m\u001b[1;33m.\u001b[0m\u001b[0mfit\u001b[0m\u001b[1;33m(\u001b[0m\u001b[0mX_train\u001b[0m\u001b[1;33m,\u001b[0m \u001b[0my_train\u001b[0m\u001b[1;33m)\u001b[0m\u001b[1;33m\u001b[0m\u001b[0m\n\u001b[0m\u001b[0;32m     20\u001b[0m         \u001b[0mcross_score\u001b[0m \u001b[1;33m=\u001b[0m \u001b[0mcross_val_score\u001b[0m\u001b[1;33m(\u001b[0m\u001b[0mmodel\u001b[0m\u001b[1;33m,\u001b[0m \u001b[0mX_holdout\u001b[0m\u001b[1;33m,\u001b[0m \u001b[0my_holdout\u001b[0m\u001b[1;33m,\u001b[0m \u001b[0mcv\u001b[0m\u001b[1;33m=\u001b[0m\u001b[1;36m3\u001b[0m\u001b[1;33m,\u001b[0m \u001b[0mscoring\u001b[0m\u001b[1;33m=\u001b[0m\u001b[1;34m'roc_auc'\u001b[0m\u001b[1;33m)\u001b[0m\u001b[1;33m\u001b[0m\u001b[0m\n\u001b[0;32m     21\u001b[0m         \u001b[0mprint\u001b[0m\u001b[1;33m(\u001b[0m\u001b[1;34m\"    cross_score: %.5f (%.5f)\"\u001b[0m \u001b[1;33m%\u001b[0m \u001b[1;33m(\u001b[0m\u001b[0mcross_score\u001b[0m\u001b[1;33m.\u001b[0m\u001b[0mmean\u001b[0m\u001b[1;33m(\u001b[0m\u001b[1;33m)\u001b[0m\u001b[1;33m,\u001b[0m \u001b[0mcross_score\u001b[0m\u001b[1;33m.\u001b[0m\u001b[0mmean\u001b[0m\u001b[1;33m(\u001b[0m\u001b[1;33m)\u001b[0m\u001b[1;33m*\u001b[0m\u001b[1;36m2\u001b[0m\u001b[1;33m-\u001b[0m\u001b[1;36m1\u001b[0m\u001b[1;33m)\u001b[0m\u001b[1;33m)\u001b[0m\u001b[1;33m\u001b[0m\u001b[0m\n",
      "\u001b[1;32mc:\\users\\peter\\anaconda3\\envs\\tflearn-gpu\\lib\\site-packages\\sklearn\\ensemble\\forest.py\u001b[0m in \u001b[0;36mfit\u001b[1;34m(self, X, y, sample_weight)\u001b[0m\n\u001b[0;32m    244\u001b[0m         \"\"\"\n\u001b[0;32m    245\u001b[0m         \u001b[1;31m# Validate or convert input data\u001b[0m\u001b[1;33m\u001b[0m\u001b[1;33m\u001b[0m\u001b[0m\n\u001b[1;32m--> 246\u001b[1;33m         \u001b[0mX\u001b[0m \u001b[1;33m=\u001b[0m \u001b[0mcheck_array\u001b[0m\u001b[1;33m(\u001b[0m\u001b[0mX\u001b[0m\u001b[1;33m,\u001b[0m \u001b[0maccept_sparse\u001b[0m\u001b[1;33m=\u001b[0m\u001b[1;34m\"csc\"\u001b[0m\u001b[1;33m,\u001b[0m \u001b[0mdtype\u001b[0m\u001b[1;33m=\u001b[0m\u001b[0mDTYPE\u001b[0m\u001b[1;33m)\u001b[0m\u001b[1;33m\u001b[0m\u001b[0m\n\u001b[0m\u001b[0;32m    247\u001b[0m         \u001b[0my\u001b[0m \u001b[1;33m=\u001b[0m \u001b[0mcheck_array\u001b[0m\u001b[1;33m(\u001b[0m\u001b[0my\u001b[0m\u001b[1;33m,\u001b[0m \u001b[0maccept_sparse\u001b[0m\u001b[1;33m=\u001b[0m\u001b[1;34m'csc'\u001b[0m\u001b[1;33m,\u001b[0m \u001b[0mensure_2d\u001b[0m\u001b[1;33m=\u001b[0m\u001b[1;32mFalse\u001b[0m\u001b[1;33m,\u001b[0m \u001b[0mdtype\u001b[0m\u001b[1;33m=\u001b[0m\u001b[1;32mNone\u001b[0m\u001b[1;33m)\u001b[0m\u001b[1;33m\u001b[0m\u001b[0m\n\u001b[0;32m    248\u001b[0m         \u001b[1;32mif\u001b[0m \u001b[0msample_weight\u001b[0m \u001b[1;32mis\u001b[0m \u001b[1;32mnot\u001b[0m \u001b[1;32mNone\u001b[0m\u001b[1;33m:\u001b[0m\u001b[1;33m\u001b[0m\u001b[0m\n",
      "\u001b[1;32mc:\\users\\peter\\anaconda3\\envs\\tflearn-gpu\\lib\\site-packages\\sklearn\\utils\\validation.py\u001b[0m in \u001b[0;36mcheck_array\u001b[1;34m(array, accept_sparse, dtype, order, copy, force_all_finite, ensure_2d, allow_nd, ensure_min_samples, ensure_min_features, warn_on_dtype, estimator)\u001b[0m\n\u001b[0;32m    420\u001b[0m                              % (array.ndim, estimator_name))\n\u001b[0;32m    421\u001b[0m         \u001b[1;32mif\u001b[0m \u001b[0mforce_all_finite\u001b[0m\u001b[1;33m:\u001b[0m\u001b[1;33m\u001b[0m\u001b[0m\n\u001b[1;32m--> 422\u001b[1;33m             \u001b[0m_assert_all_finite\u001b[0m\u001b[1;33m(\u001b[0m\u001b[0marray\u001b[0m\u001b[1;33m)\u001b[0m\u001b[1;33m\u001b[0m\u001b[0m\n\u001b[0m\u001b[0;32m    423\u001b[0m \u001b[1;33m\u001b[0m\u001b[0m\n\u001b[0;32m    424\u001b[0m     \u001b[0mshape_repr\u001b[0m \u001b[1;33m=\u001b[0m \u001b[0m_shape_repr\u001b[0m\u001b[1;33m(\u001b[0m\u001b[0marray\u001b[0m\u001b[1;33m.\u001b[0m\u001b[0mshape\u001b[0m\u001b[1;33m)\u001b[0m\u001b[1;33m\u001b[0m\u001b[0m\n",
      "\u001b[1;32mc:\\users\\peter\\anaconda3\\envs\\tflearn-gpu\\lib\\site-packages\\sklearn\\utils\\validation.py\u001b[0m in \u001b[0;36m_assert_all_finite\u001b[1;34m(X)\u001b[0m\n\u001b[0;32m     41\u001b[0m             and not np.isfinite(X).all()):\n\u001b[0;32m     42\u001b[0m         raise ValueError(\"Input contains NaN, infinity\"\n\u001b[1;32m---> 43\u001b[1;33m                          \" or a value too large for %r.\" % X.dtype)\n\u001b[0m\u001b[0;32m     44\u001b[0m \u001b[1;33m\u001b[0m\u001b[0m\n\u001b[0;32m     45\u001b[0m \u001b[1;33m\u001b[0m\u001b[0m\n",
      "\u001b[1;31mValueError\u001b[0m: Input contains NaN, infinity or a value too large for dtype('float32')."
     ]
    }
   ],
   "source": [
    "cross_val_model(te2_train[selected_features_te2], y, rf_model)"
   ]
  },
  {
   "cell_type": "code",
   "execution_count": 462,
   "metadata": {},
   "outputs": [
    {
     "name": "stdout",
     "output_type": "stream",
     "text": [
      "Fit XGBClassifier fold 1\n",
      "    cross_score: 0.65569 (0.31139)\n",
      "    [       166 secs elapsed]: cross_score: 0.65569 (0.31139)\n",
      "Fit XGBClassifier fold 2\n",
      "    cross_score: 0.65722 (0.31444)\n",
      "    [       353 secs elapsed]: cross_score: 0.65722 (0.31444)\n",
      "Fit XGBClassifier fold 3\n",
      "    cross_score: 0.66354 (0.32709)\n",
      "    [       536 secs elapsed]: cross_score: 0.66354 (0.32709)\n",
      "cross_score_mean: 0.65882 (0.31764)\n"
     ]
    }
   ],
   "source": [
    "cross_val_model(te2_train[selected_features_te2], y, xgb_model)"
   ]
  },
  {
   "cell_type": "code",
   "execution_count": 461,
   "metadata": {},
   "outputs": [
    {
     "name": "stdout",
     "output_type": "stream",
     "text": [
      "Fit LGBMClassifier fold 1\n",
      "    cross_score: 0.84796 (0.69593)\n",
      "    [        32 secs elapsed]: cross_score: 0.84796 (0.69593)\n",
      "Fit LGBMClassifier fold 2\n",
      "    cross_score: 0.84991 (0.69982)\n",
      "    [        63 secs elapsed]: cross_score: 0.84991 (0.69982)\n",
      "Fit LGBMClassifier fold 3\n",
      "    cross_score: 0.85076 (0.70152)\n",
      "    [        94 secs elapsed]: cross_score: 0.85076 (0.70152)\n",
      "cross_score_mean: 0.84955 (0.69909)\n"
     ]
    }
   ],
   "source": [
    "cross_val_model(te2_train[selected_features_te2], y, lgb_model)"
   ]
  },
  {
   "cell_type": "markdown",
   "metadata": {},
   "source": [
    "# Making a submission"
   ]
  },
  {
   "cell_type": "code",
   "execution_count": 454,
   "metadata": {},
   "outputs": [],
   "source": [
    "selected_features_te2 = list(list(set(selected_features_te2)))"
   ]
  },
  {
   "cell_type": "code",
   "execution_count": 455,
   "metadata": {},
   "outputs": [
    {
     "data": {
      "text/plain": [
       "XGBClassifier(base_score=0.5, colsample_bylevel=1, colsample_bytree=0.6,\n",
       "       gamma=0, learning_rate=0.02, max_delta_step=0, max_depth=4,\n",
       "       min_child_weight=100, missing=None, n_estimators=200, nthread=-1,\n",
       "       objective='binary:logistic', reg_alpha=6e-05, reg_lambda=7e-06,\n",
       "       scale_pos_weight=1, seed=0, silent=True, subsample=0.9)"
      ]
     },
     "execution_count": 455,
     "metadata": {},
     "output_type": "execute_result"
    }
   ],
   "source": [
    "xgb_model.fit(te2_train[selected_features_te2], y)"
   ]
  },
  {
   "cell_type": "code",
   "execution_count": 456,
   "metadata": {
    "collapsed": true
   },
   "outputs": [],
   "source": [
    "y_pred_xgb = xgb_model.predict_proba(te2_test[selected_features_te2])[:,1]"
   ]
  },
  {
   "cell_type": "code",
   "execution_count": 457,
   "metadata": {
    "collapsed": true
   },
   "outputs": [],
   "source": [
    "sub = pd.DataFrame()\n",
    "sub['id'] = id_test\n",
    "sub['target'] = y_pred_xgb\n",
    "sub.to_csv('xgb_feateng01.csv', index=False)"
   ]
  },
  {
   "cell_type": "code",
   "execution_count": null,
   "metadata": {
    "collapsed": true
   },
   "outputs": [],
   "source": []
  },
  {
   "cell_type": "code",
   "execution_count": 458,
   "metadata": {},
   "outputs": [
    {
     "data": {
      "text/plain": [
       "LGBMClassifier(bagging_fraction=0.7, bagging_freq=3, boosting_type='gbdt',\n",
       "        colsample_bytree=1.0, feature_fraction=0.8, learning_rate=0.05,\n",
       "        max_bin=255, max_depth=5, metric='binary_logloss',\n",
       "        min_child_samples=10, min_child_weight=5, min_split_gain=0.0,\n",
       "        n_estimators=200, n_jobs=-1, num_leaves=20, objective='binary',\n",
       "        random_state=0, reg_alpha=0.0, reg_lambda=0.0, silent=True,\n",
       "        sub_feature=0.8, subsample=1.0, subsample_for_bin=50000,\n",
       "        subsample_freq=1)"
      ]
     },
     "execution_count": 458,
     "metadata": {},
     "output_type": "execute_result"
    }
   ],
   "source": [
    "lgb_model.fit(te2_train[selected_features_te2], y)"
   ]
  },
  {
   "cell_type": "code",
   "execution_count": 459,
   "metadata": {},
   "outputs": [],
   "source": [
    "y_pred = lgb_model.predict_proba(te2_test[selected_features_te2])[:,1]"
   ]
  },
  {
   "cell_type": "code",
   "execution_count": 460,
   "metadata": {},
   "outputs": [],
   "source": [
    "sub = pd.DataFrame()\n",
    "sub['id'] = id_test\n",
    "sub['target'] = y_pred\n",
    "sub.to_csv('lgb_feateng01.csv', index=False)"
   ]
  },
  {
   "cell_type": "code",
   "execution_count": null,
   "metadata": {
    "collapsed": true
   },
   "outputs": [],
   "source": []
  },
  {
   "cell_type": "code",
   "execution_count": 465,
   "metadata": {},
   "outputs": [
    {
     "data": {
      "text/plain": [
       "['ps_ind_04_cat_oh_0.0',\n",
       " 'ps_car_12_avg',\n",
       " 'ps_reg_01_avg',\n",
       " 'ps_ind_08_bin',\n",
       " 'ps_ind_17_bin',\n",
       " 'ps_reg_01_plus_ps_car_04_cat',\n",
       " 'ps_car_03_cat_oh_0.0',\n",
       " 'ps_car_01_cat_avg',\n",
       " 'ps_ind_16_bin',\n",
       " 'ps_car_05_cat_oh_0.0',\n",
       " 'ps_ind_14_avg',\n",
       " 'ps_car_03_cat_oh_nan',\n",
       " 'ps_car_08_cat',\n",
       " 'ps_reg_02_avg',\n",
       " 'ps_car_11',\n",
       " 'ps_reg_02',\n",
       " 'ps_car_03_cat_oh_1.0',\n",
       " 'ps_car_11_cat_avg',\n",
       " 'ps_ind_12_bin',\n",
       " 'ps_reg_01_plus_ps_car_02_cat_avg',\n",
       " 'ps_reg_01_plus_ps_car_04_cat_avg',\n",
       " 'ps_car_11_avg',\n",
       " 'ps_car_02_cat_oh_nan',\n",
       " 'ps_ind_01',\n",
       " 'ps_car_02_cat_oh_1.0',\n",
       " 'ps_ind_03_avg',\n",
       " 'ps_ind_01_avg',\n",
       " 'ps_car_07_cat_oh_1.0',\n",
       " 'ps_ind_05_cat_avg',\n",
       " 'ps_calc_05_avg',\n",
       " 'ps_car_11_cat',\n",
       " 'ps_calc_09',\n",
       " 'ps_car_05_cat',\n",
       " 'ps_car_13',\n",
       " 'ps_ind_15',\n",
       " 'ps_car_14',\n",
       " 'ps_car_03_cat',\n",
       " 'ps_car_07_cat',\n",
       " 'ps_car_09_cat',\n",
       " 'ps_ind_09_bin',\n",
       " 'ps_car_07_cat_oh_nan',\n",
       " 'ps_car_07_cat_oh_0.0',\n",
       " 'ps_ind_04_cat',\n",
       " 'ps_ind_05_cat',\n",
       " 'ps_ind_14',\n",
       " 'ps_calc_09_avg',\n",
       " 'ps_ind_18_bin',\n",
       " 'ps_car_05_cat_oh_1.0',\n",
       " 'ps_car_06_cat',\n",
       " 'ps_car_06_cat_avg',\n",
       " 'ps_car_01_cat',\n",
       " 'ps_ind_04_cat_oh_nan',\n",
       " 'ps_car_14_avg',\n",
       " 'ps_ind_04_cat_oh_1.0',\n",
       " 'ps_reg_01',\n",
       " 'ps_car_04_cat_avg',\n",
       " 'ps_calc_05',\n",
       " 'ps_ind_03',\n",
       " 'ps_ind_02_cat',\n",
       " 'ps_car_13_avg',\n",
       " 'ps_car_09_cat_avg',\n",
       " 'ps_reg_03',\n",
       " 'ps_reg_01_plus_ps_car_02_cat',\n",
       " 'ps_car_12',\n",
       " 'ps_car_15_avg',\n",
       " 'ps_car_05_cat_oh_nan',\n",
       " 'ps_car_04_cat',\n",
       " 'ps_reg_03_avg',\n",
       " 'ps_car_15',\n",
       " 'ps_car_02_cat',\n",
       " 'ps_ind_06_bin',\n",
       " 'ps_ind_02_cat_avg',\n",
       " 'ps_ind_07_bin',\n",
       " 'ps_car_02_cat_oh_0.0',\n",
       " 'ps_ind_15_avg']"
      ]
     },
     "execution_count": 465,
     "metadata": {},
     "output_type": "execute_result"
    }
   ],
   "source": [
    "selected_features_te2"
   ]
  },
  {
   "cell_type": "code",
   "execution_count": 482,
   "metadata": {
    "collapsed": true
   },
   "outputs": [],
   "source": [
    "selected_features_te3 = selected_features_te2.copy()"
   ]
  },
  {
   "cell_type": "code",
   "execution_count": 474,
   "metadata": {},
   "outputs": [],
   "source": [
    "for c in ['ps_car_13_avg']:\n",
    "    if c in selected_features_te3:\n",
    "        selected_features_te3.remove(c)\n",
    "        selected_features_te3.append(c[:-4])"
   ]
  },
  {
   "cell_type": "code",
   "execution_count": 477,
   "metadata": {
    "scrolled": true
   },
   "outputs": [
    {
     "name": "stdout",
     "output_type": "stream",
     "text": [
      "Fit XGBClassifier fold 1\n",
      "    cross_score: 0.64143 (0.28286)\n",
      "    [       166 secs elapsed]: cross_score: 0.64143 (0.28286)\n",
      "Fit XGBClassifier fold 2\n",
      "    cross_score: 0.64622 (0.29243)\n",
      "    [       345 secs elapsed]: cross_score: 0.64622 (0.29243)\n",
      "Fit XGBClassifier fold 3\n",
      "    cross_score: 0.64926 (0.29852)\n",
      "    [       518 secs elapsed]: cross_score: 0.64926 (0.29852)\n",
      "cross_score_mean: 0.64564 (0.29127)\n"
     ]
    }
   ],
   "source": [
    "cross_val_model(te2_train[selected_features_te3], y, xgb_model)"
   ]
  },
  {
   "cell_type": "code",
   "execution_count": 476,
   "metadata": {
    "scrolled": false
   },
   "outputs": [
    {
     "name": "stdout",
     "output_type": "stream",
     "text": [
      "Fit LGBMClassifier fold 1\n",
      "    cross_score: 0.66807 (0.33614)\n",
      "    [        28 secs elapsed]: cross_score: 0.66807 (0.33614)\n",
      "Fit LGBMClassifier fold 2\n",
      "    cross_score: 0.67196 (0.34392)\n",
      "    [        63 secs elapsed]: cross_score: 0.67196 (0.34392)\n",
      "Fit LGBMClassifier fold 3\n",
      "    cross_score: 0.67146 (0.34292)\n",
      "    [        93 secs elapsed]: cross_score: 0.67146 (0.34292)\n",
      "cross_score_mean: 0.67050 (0.34099)\n"
     ]
    }
   ],
   "source": [
    "cross_val_model(te2_train[selected_features_te3], y, lgb_model)"
   ]
  },
  {
   "cell_type": "code",
   "execution_count": 483,
   "metadata": {
    "collapsed": true
   },
   "outputs": [],
   "source": [
    "selected_features_te3 = selected_features_te2.copy()\n",
    "for c in ['ps_car_13_avg', 'ps_car_14_avg', 'ps_car_12_avg' ]:\n",
    "    if c in selected_features_te3:\n",
    "        selected_features_te3.remove(c)\n",
    "        selected_features_te3.append(c[:-4])"
   ]
  },
  {
   "cell_type": "code",
   "execution_count": 490,
   "metadata": {
    "collapsed": true
   },
   "outputs": [],
   "source": [
    "selected_features_te3 = list(set(selected_features_te3))"
   ]
  },
  {
   "cell_type": "code",
   "execution_count": 493,
   "metadata": {},
   "outputs": [
    {
     "name": "stdout",
     "output_type": "stream",
     "text": [
      "Fit XGBClassifier fold 1\n",
      "    cross_score: 0.64254 (0.28508)\n",
      "    [       178 secs elapsed]: cross_score: 0.64254 (0.28508)\n",
      "Fit XGBClassifier fold 2\n",
      "    cross_score: 0.64588 (0.29177)\n",
      "    [       342 secs elapsed]: cross_score: 0.64588 (0.29177)\n",
      "Fit XGBClassifier fold 3\n",
      "    cross_score: 0.64915 (0.29829)\n",
      "    [       506 secs elapsed]: cross_score: 0.64915 (0.29829)\n",
      "cross_score_mean: 0.64586 (0.29171)\n"
     ]
    }
   ],
   "source": [
    "cross_val_model(te2_train[selected_features_te3], y, xgb_model)"
   ]
  },
  {
   "cell_type": "code",
   "execution_count": 492,
   "metadata": {
    "scrolled": false
   },
   "outputs": [
    {
     "name": "stdout",
     "output_type": "stream",
     "text": [
      "Fit LGBMClassifier fold 1\n",
      "    cross_score: 0.66720 (0.33441)\n",
      "    [        37 secs elapsed]: cross_score: 0.66720 (0.33441)\n",
      "Fit LGBMClassifier fold 2\n",
      "    cross_score: 0.67138 (0.34276)\n",
      "    [        67 secs elapsed]: cross_score: 0.67138 (0.34276)\n",
      "Fit LGBMClassifier fold 3\n",
      "    cross_score: 0.67029 (0.34058)\n",
      "    [        96 secs elapsed]: cross_score: 0.67029 (0.34058)\n",
      "cross_score_mean: 0.66962 (0.33925)\n"
     ]
    }
   ],
   "source": [
    "cross_val_model(te2_train[selected_features_te3], y, lgb_model)"
   ]
  },
  {
   "cell_type": "code",
   "execution_count": 491,
   "metadata": {
    "collapsed": true
   },
   "outputs": [],
   "source": [
    "lgb_model.fit(te2_train[selected_features_te3], y)\n",
    "y_pred = lgb_model.predict_proba(te2_test[selected_features_te3])[:,1]\n",
    "sub = pd.DataFrame()\n",
    "sub['id'] = id_test\n",
    "sub['target'] = y_pred\n",
    "sub.to_csv('lgb_feateng02.csv', index=False)"
   ]
  },
  {
   "cell_type": "code",
   "execution_count": 489,
   "metadata": {},
   "outputs": [],
   "source": [
    "xgb_model.fit(te2_train[selected_features_te3], y)\n",
    "y_pred = xgb_model.predict_proba(te2_test[selected_features_te3])[:,1]\n",
    "sub = pd.DataFrame()\n",
    "sub['id'] = id_test\n",
    "sub['target'] = y_pred\n",
    "sub.to_csv('xgb_feateng02.csv', index=False)"
   ]
  },
  {
   "cell_type": "code",
   "execution_count": null,
   "metadata": {
    "collapsed": true
   },
   "outputs": [],
   "source": []
  },
  {
   "cell_type": "code",
   "execution_count": 496,
   "metadata": {
    "collapsed": true
   },
   "outputs": [],
   "source": [
    "te2_train = te2_train.fillna(-1)\n",
    "te2_test = te2_test.fillna(-1)"
   ]
  },
  {
   "cell_type": "code",
   "execution_count": 506,
   "metadata": {
    "collapsed": true
   },
   "outputs": [],
   "source": [
    "selected_features_te3b = selected_features_te3.copy()\n",
    "selected_features_te3b.remove('ps_car_03_cat')"
   ]
  },
  {
   "cell_type": "code",
   "execution_count": 507,
   "metadata": {},
   "outputs": [
    {
     "name": "stdout",
     "output_type": "stream",
     "text": [
      "----- Training Time: 94.31579995155334ecs. -----\n"
     ]
    }
   ],
   "source": [
    "t0 = time()\n",
    "rf_model.fit(te2_train[selected_features_te3b], y)\n",
    "print(\"----- Training Time: %  secs. -----\" % (time()-t0))"
   ]
  },
  {
   "cell_type": "code",
   "execution_count": 508,
   "metadata": {},
   "outputs": [
    {
     "data": {
      "text/plain": [
       "['ps_ind_04_cat_oh_0.0',\n",
       " 'ps_reg_01_avg',\n",
       " 'ps_ind_08_bin',\n",
       " 'ps_ind_17_bin',\n",
       " 'ps_reg_01_plus_ps_car_04_cat',\n",
       " 'ps_car_03_cat_oh_0.0',\n",
       " 'ps_car_01_cat_avg',\n",
       " 'ps_ind_16_bin',\n",
       " 'ps_car_05_cat_oh_0.0',\n",
       " 'ps_ind_14_avg',\n",
       " 'ps_car_03_cat_oh_nan',\n",
       " 'ps_car_08_cat',\n",
       " 'ps_reg_02_avg',\n",
       " 'ps_car_11',\n",
       " 'ps_reg_02',\n",
       " 'ps_car_03_cat_oh_1.0',\n",
       " 'ps_car_11_cat_avg',\n",
       " 'ps_ind_12_bin',\n",
       " 'ps_reg_01_plus_ps_car_02_cat_avg',\n",
       " 'ps_reg_01_plus_ps_car_04_cat_avg',\n",
       " 'ps_car_11_avg',\n",
       " 'ps_car_02_cat_oh_nan',\n",
       " 'ps_ind_01',\n",
       " 'ps_car_02_cat_oh_1.0',\n",
       " 'ps_ind_03_avg',\n",
       " 'ps_ind_01_avg',\n",
       " 'ps_car_07_cat_oh_1.0',\n",
       " 'ps_ind_05_cat_avg',\n",
       " 'ps_calc_05_avg',\n",
       " 'ps_car_11_cat',\n",
       " 'ps_calc_09',\n",
       " 'ps_car_05_cat',\n",
       " 'ps_car_13',\n",
       " 'ps_ind_15',\n",
       " 'ps_car_14',\n",
       " 'ps_car_07_cat',\n",
       " 'ps_car_09_cat',\n",
       " 'ps_ind_09_bin',\n",
       " 'ps_car_07_cat_oh_nan',\n",
       " 'ps_car_07_cat_oh_0.0',\n",
       " 'ps_ind_04_cat',\n",
       " 'ps_ind_05_cat',\n",
       " 'ps_ind_14',\n",
       " 'ps_calc_09_avg',\n",
       " 'ps_ind_18_bin',\n",
       " 'ps_car_05_cat_oh_1.0',\n",
       " 'ps_car_06_cat',\n",
       " 'ps_car_06_cat_avg',\n",
       " 'ps_car_01_cat',\n",
       " 'ps_ind_04_cat_oh_nan',\n",
       " 'ps_car_04_cat_avg',\n",
       " 'ps_ind_04_cat_oh_1.0',\n",
       " 'ps_reg_01',\n",
       " 'ps_calc_05',\n",
       " 'ps_ind_03',\n",
       " 'ps_ind_02_cat',\n",
       " 'ps_car_09_cat_avg',\n",
       " 'ps_reg_03',\n",
       " 'ps_reg_01_plus_ps_car_02_cat',\n",
       " 'ps_car_12',\n",
       " 'ps_car_15_avg',\n",
       " 'ps_car_05_cat_oh_nan',\n",
       " 'ps_car_04_cat',\n",
       " 'ps_reg_03_avg',\n",
       " 'ps_car_15',\n",
       " 'ps_car_02_cat',\n",
       " 'ps_ind_06_bin',\n",
       " 'ps_ind_02_cat_avg',\n",
       " 'ps_ind_07_bin',\n",
       " 'ps_car_02_cat_oh_0.0',\n",
       " 'ps_ind_15_avg']"
      ]
     },
     "execution_count": 508,
     "metadata": {},
     "output_type": "execute_result"
    }
   ],
   "source": [
    "features = selected_features_te3b\n",
    "features"
   ]
  },
  {
   "cell_type": "code",
   "execution_count": 509,
   "metadata": {
    "collapsed": true
   },
   "outputs": [],
   "source": [
    "def get_feature_importance_df(feature_importances, \n",
    "                              column_names, \n",
    "                              top_n=25):\n",
    "    \"\"\"Get feature importance data frame.\n",
    " \n",
    "    Parameters\n",
    "    ----------\n",
    "    feature_importances : numpy ndarray\n",
    "        Feature importances computed by an ensemble \n",
    "            model like random forest or boosting\n",
    "    column_names : array-like\n",
    "        Names of the columns in the same order as feature \n",
    "            importances\n",
    "    top_n : integer\n",
    "        Number of top features\n",
    " \n",
    "    Returns\n",
    "    -------\n",
    "    df : a Pandas data frame\n",
    " \n",
    "    \"\"\"\n",
    "     \n",
    "    imp_dict = dict(zip(column_names, \n",
    "                        feature_importances))\n",
    "    top_features = sorted(imp_dict, \n",
    "                          key=imp_dict.get, \n",
    "                          reverse=True)[0:top_n]\n",
    "    top_importances = [imp_dict[feature] for feature \n",
    "                          in top_features]\n",
    "    df = pd.DataFrame(data={'feature': top_features, \n",
    "                            'importance': top_importances})\n",
    "    return df"
   ]
  },
  {
   "cell_type": "code",
   "execution_count": 510,
   "metadata": {
    "collapsed": true
   },
   "outputs": [],
   "source": [
    "feature_importance = get_feature_importance_df(rf_featimp.feature_importances_, features)"
   ]
  },
  {
   "cell_type": "code",
   "execution_count": 511,
   "metadata": {},
   "outputs": [
    {
     "data": {
      "text/html": [
       "<div>\n",
       "<style scoped>\n",
       "    .dataframe tbody tr th:only-of-type {\n",
       "        vertical-align: middle;\n",
       "    }\n",
       "\n",
       "    .dataframe tbody tr th {\n",
       "        vertical-align: top;\n",
       "    }\n",
       "\n",
       "    .dataframe thead th {\n",
       "        text-align: right;\n",
       "    }\n",
       "</style>\n",
       "<table border=\"1\" class=\"dataframe\">\n",
       "  <thead>\n",
       "    <tr style=\"text-align: right;\">\n",
       "      <th></th>\n",
       "      <th>feature</th>\n",
       "      <th>importance</th>\n",
       "    </tr>\n",
       "  </thead>\n",
       "  <tbody>\n",
       "    <tr>\n",
       "      <th>0</th>\n",
       "      <td>ps_car_07_cat</td>\n",
       "      <td>0.15</td>\n",
       "    </tr>\n",
       "    <tr>\n",
       "      <th>1</th>\n",
       "      <td>ps_car_03_cat_oh_0.0</td>\n",
       "      <td>0.11</td>\n",
       "    </tr>\n",
       "    <tr>\n",
       "      <th>2</th>\n",
       "      <td>ps_ind_12_bin</td>\n",
       "      <td>0.10</td>\n",
       "    </tr>\n",
       "    <tr>\n",
       "      <th>3</th>\n",
       "      <td>ps_car_02_cat_oh_nan</td>\n",
       "      <td>0.08</td>\n",
       "    </tr>\n",
       "    <tr>\n",
       "      <th>4</th>\n",
       "      <td>ps_calc_05_avg</td>\n",
       "      <td>0.05</td>\n",
       "    </tr>\n",
       "    <tr>\n",
       "      <th>5</th>\n",
       "      <td>ps_ind_01_avg</td>\n",
       "      <td>0.04</td>\n",
       "    </tr>\n",
       "    <tr>\n",
       "      <th>6</th>\n",
       "      <td>ps_ind_17_bin</td>\n",
       "      <td>0.04</td>\n",
       "    </tr>\n",
       "    <tr>\n",
       "      <th>7</th>\n",
       "      <td>ps_car_11_avg</td>\n",
       "      <td>0.04</td>\n",
       "    </tr>\n",
       "    <tr>\n",
       "      <th>8</th>\n",
       "      <td>ps_ind_16_bin</td>\n",
       "      <td>0.04</td>\n",
       "    </tr>\n",
       "    <tr>\n",
       "      <th>9</th>\n",
       "      <td>ps_car_01_cat_avg</td>\n",
       "      <td>0.03</td>\n",
       "    </tr>\n",
       "    <tr>\n",
       "      <th>10</th>\n",
       "      <td>ps_ind_03_avg</td>\n",
       "      <td>0.03</td>\n",
       "    </tr>\n",
       "    <tr>\n",
       "      <th>11</th>\n",
       "      <td>ps_ind_01</td>\n",
       "      <td>0.03</td>\n",
       "    </tr>\n",
       "    <tr>\n",
       "      <th>12</th>\n",
       "      <td>ps_reg_01_plus_ps_car_04_cat</td>\n",
       "      <td>0.02</td>\n",
       "    </tr>\n",
       "    <tr>\n",
       "      <th>13</th>\n",
       "      <td>ps_car_14</td>\n",
       "      <td>0.02</td>\n",
       "    </tr>\n",
       "    <tr>\n",
       "      <th>14</th>\n",
       "      <td>ps_car_11_cat_avg</td>\n",
       "      <td>0.02</td>\n",
       "    </tr>\n",
       "    <tr>\n",
       "      <th>15</th>\n",
       "      <td>ps_car_03_cat_oh_1.0</td>\n",
       "      <td>0.02</td>\n",
       "    </tr>\n",
       "    <tr>\n",
       "      <th>16</th>\n",
       "      <td>ps_ind_09_bin</td>\n",
       "      <td>0.02</td>\n",
       "    </tr>\n",
       "    <tr>\n",
       "      <th>17</th>\n",
       "      <td>ps_car_09_cat</td>\n",
       "      <td>0.01</td>\n",
       "    </tr>\n",
       "    <tr>\n",
       "      <th>18</th>\n",
       "      <td>ps_reg_01_plus_ps_car_04_cat_avg</td>\n",
       "      <td>0.01</td>\n",
       "    </tr>\n",
       "    <tr>\n",
       "      <th>19</th>\n",
       "      <td>ps_car_02_cat_oh_1.0</td>\n",
       "      <td>0.01</td>\n",
       "    </tr>\n",
       "    <tr>\n",
       "      <th>20</th>\n",
       "      <td>ps_ind_04_cat_oh_0.0</td>\n",
       "      <td>0.01</td>\n",
       "    </tr>\n",
       "    <tr>\n",
       "      <th>21</th>\n",
       "      <td>ps_ind_08_bin</td>\n",
       "      <td>0.01</td>\n",
       "    </tr>\n",
       "    <tr>\n",
       "      <th>22</th>\n",
       "      <td>ps_reg_01_avg</td>\n",
       "      <td>0.01</td>\n",
       "    </tr>\n",
       "    <tr>\n",
       "      <th>23</th>\n",
       "      <td>ps_ind_05_cat_avg</td>\n",
       "      <td>0.01</td>\n",
       "    </tr>\n",
       "    <tr>\n",
       "      <th>24</th>\n",
       "      <td>ps_car_13</td>\n",
       "      <td>0.01</td>\n",
       "    </tr>\n",
       "  </tbody>\n",
       "</table>\n",
       "</div>"
      ],
      "text/plain": [
       "                             feature  importance\n",
       "0                      ps_car_07_cat        0.15\n",
       "1               ps_car_03_cat_oh_0.0        0.11\n",
       "2                      ps_ind_12_bin        0.10\n",
       "3               ps_car_02_cat_oh_nan        0.08\n",
       "4                     ps_calc_05_avg        0.05\n",
       "5                      ps_ind_01_avg        0.04\n",
       "6                      ps_ind_17_bin        0.04\n",
       "7                      ps_car_11_avg        0.04\n",
       "8                      ps_ind_16_bin        0.04\n",
       "9                  ps_car_01_cat_avg        0.03\n",
       "10                     ps_ind_03_avg        0.03\n",
       "11                         ps_ind_01        0.03\n",
       "12      ps_reg_01_plus_ps_car_04_cat        0.02\n",
       "13                         ps_car_14        0.02\n",
       "14                 ps_car_11_cat_avg        0.02\n",
       "15              ps_car_03_cat_oh_1.0        0.02\n",
       "16                     ps_ind_09_bin        0.02\n",
       "17                     ps_car_09_cat        0.01\n",
       "18  ps_reg_01_plus_ps_car_04_cat_avg        0.01\n",
       "19              ps_car_02_cat_oh_1.0        0.01\n",
       "20              ps_ind_04_cat_oh_0.0        0.01\n",
       "21                     ps_ind_08_bin        0.01\n",
       "22                     ps_reg_01_avg        0.01\n",
       "23                 ps_ind_05_cat_avg        0.01\n",
       "24                         ps_car_13        0.01"
      ]
     },
     "execution_count": 511,
     "metadata": {},
     "output_type": "execute_result"
    }
   ],
   "source": [
    "feature_importance"
   ]
  },
  {
   "cell_type": "code",
   "execution_count": 512,
   "metadata": {},
   "outputs": [
    {
     "data": {
      "text/plain": [
       "[<matplotlib.text.Text at 0x2289a236358>,\n",
       " <matplotlib.text.Text at 0x22979bd3ba8>,\n",
       " <matplotlib.text.Text at 0x2289a23fb38>]"
      ]
     },
     "execution_count": 512,
     "metadata": {},
     "output_type": "execute_result"
    },
    {
     "data": {
      "application/pdf": "[encoded data removed]",
      "image/png": "[encoded data removed]",
      "text/plain": [
       "<matplotlib.figure.Figure at 0x2289a8d7ef0>"
      ]
     },
     "metadata": {},
     "output_type": "display_data"
    }
   ],
   "source": [
    "fig,ax = plt.subplots()\n",
    "fig.set_size_inches(20,10)\n",
    "g=sns.barplot(data=feature_importance,x=\"feature\",y=\"importance\",ax=ax,color=default_color,)\n",
    "for item in g.get_xticklabels():\n",
    "    item.set_rotation(45)\n",
    "ax.set(xlabel='Variable name', ylabel='Importance',title=\"Variable importances\")"
   ]
  },
  {
   "cell_type": "code",
   "execution_count": 524,
   "metadata": {},
   "outputs": [
    {
     "name": "stdout",
     "output_type": "stream",
     "text": [
      "Fit RandomForestClassifier fold 1\n"
     ]
    },
    {
     "ename": "KeyboardInterrupt",
     "evalue": "",
     "output_type": "error",
     "traceback": [
      "\u001b[1;31m---------------------------------------------------------------------------\u001b[0m",
      "\u001b[1;31mKeyboardInterrupt\u001b[0m                         Traceback (most recent call last)",
      "\u001b[1;32m<ipython-input-524-31eabd515d12>\u001b[0m in \u001b[0;36m<module>\u001b[1;34m()\u001b[0m\n\u001b[1;32m----> 1\u001b[1;33m \u001b[0mcross_val_model\u001b[0m\u001b[1;33m(\u001b[0m\u001b[0mte2_train\u001b[0m\u001b[1;33m[\u001b[0m\u001b[0mselected_features_te3b\u001b[0m\u001b[1;33m]\u001b[0m\u001b[1;33m,\u001b[0m \u001b[0my\u001b[0m\u001b[1;33m,\u001b[0m \u001b[0mrf_model\u001b[0m\u001b[1;33m)\u001b[0m\u001b[1;33m\u001b[0m\u001b[0m\n\u001b[0m",
      "\u001b[1;32m<ipython-input-131-cc4ffbb2bbf4>\u001b[0m in \u001b[0;36mcross_val_model\u001b[1;34m(X, y, model, n_splits)\u001b[0m\n\u001b[0;32m     18\u001b[0m         \u001b[0mprint\u001b[0m \u001b[1;33m(\u001b[0m\u001b[1;34m\"Fit %s fold %d\"\u001b[0m \u001b[1;33m%\u001b[0m \u001b[1;33m(\u001b[0m\u001b[0mstr\u001b[0m\u001b[1;33m(\u001b[0m\u001b[0mmodel\u001b[0m\u001b[1;33m)\u001b[0m\u001b[1;33m.\u001b[0m\u001b[0msplit\u001b[0m\u001b[1;33m(\u001b[0m\u001b[1;34m'('\u001b[0m\u001b[1;33m)\u001b[0m\u001b[1;33m[\u001b[0m\u001b[1;36m0\u001b[0m\u001b[1;33m]\u001b[0m\u001b[1;33m,\u001b[0m \u001b[0mj\u001b[0m\u001b[1;33m+\u001b[0m\u001b[1;36m1\u001b[0m\u001b[1;33m)\u001b[0m\u001b[1;33m)\u001b[0m\u001b[1;33m\u001b[0m\u001b[0m\n\u001b[0;32m     19\u001b[0m         \u001b[0mmodel\u001b[0m\u001b[1;33m.\u001b[0m\u001b[0mfit\u001b[0m\u001b[1;33m(\u001b[0m\u001b[0mX_train\u001b[0m\u001b[1;33m,\u001b[0m \u001b[0my_train\u001b[0m\u001b[1;33m)\u001b[0m\u001b[1;33m\u001b[0m\u001b[0m\n\u001b[1;32m---> 20\u001b[1;33m         \u001b[0mcross_score\u001b[0m \u001b[1;33m=\u001b[0m \u001b[0mcross_val_score\u001b[0m\u001b[1;33m(\u001b[0m\u001b[0mmodel\u001b[0m\u001b[1;33m,\u001b[0m \u001b[0mX_holdout\u001b[0m\u001b[1;33m,\u001b[0m \u001b[0my_holdout\u001b[0m\u001b[1;33m,\u001b[0m \u001b[0mcv\u001b[0m\u001b[1;33m=\u001b[0m\u001b[1;36m3\u001b[0m\u001b[1;33m,\u001b[0m \u001b[0mscoring\u001b[0m\u001b[1;33m=\u001b[0m\u001b[1;34m'roc_auc'\u001b[0m\u001b[1;33m)\u001b[0m\u001b[1;33m\u001b[0m\u001b[0m\n\u001b[0m\u001b[0;32m     21\u001b[0m         \u001b[0mprint\u001b[0m\u001b[1;33m(\u001b[0m\u001b[1;34m\"    cross_score: %.5f (%.5f)\"\u001b[0m \u001b[1;33m%\u001b[0m \u001b[1;33m(\u001b[0m\u001b[0mcross_score\u001b[0m\u001b[1;33m.\u001b[0m\u001b[0mmean\u001b[0m\u001b[1;33m(\u001b[0m\u001b[1;33m)\u001b[0m\u001b[1;33m,\u001b[0m \u001b[0mcross_score\u001b[0m\u001b[1;33m.\u001b[0m\u001b[0mmean\u001b[0m\u001b[1;33m(\u001b[0m\u001b[1;33m)\u001b[0m\u001b[1;33m*\u001b[0m\u001b[1;36m2\u001b[0m\u001b[1;33m-\u001b[0m\u001b[1;36m1\u001b[0m\u001b[1;33m)\u001b[0m\u001b[1;33m)\u001b[0m\u001b[1;33m\u001b[0m\u001b[0m\n\u001b[0;32m     22\u001b[0m         \u001b[0mprint\u001b[0m\u001b[1;33m(\u001b[0m\u001b[1;34m\"    [%10d secs elapsed]: cross_score: %.5f (%.5f)\"\u001b[0m \u001b[1;33m%\u001b[0m \u001b[1;33m(\u001b[0m\u001b[0mtime\u001b[0m\u001b[1;33m(\u001b[0m\u001b[1;33m)\u001b[0m\u001b[1;33m-\u001b[0m\u001b[0mt0\u001b[0m\u001b[1;33m,\u001b[0m \u001b[0mcross_score\u001b[0m\u001b[1;33m.\u001b[0m\u001b[0mmean\u001b[0m\u001b[1;33m(\u001b[0m\u001b[1;33m)\u001b[0m\u001b[1;33m,\u001b[0m \u001b[0mcross_score\u001b[0m\u001b[1;33m.\u001b[0m\u001b[0mmean\u001b[0m\u001b[1;33m(\u001b[0m\u001b[1;33m)\u001b[0m\u001b[1;33m*\u001b[0m\u001b[1;36m2\u001b[0m\u001b[1;33m-\u001b[0m\u001b[1;36m1\u001b[0m\u001b[1;33m)\u001b[0m\u001b[1;33m)\u001b[0m\u001b[1;33m\u001b[0m\u001b[0m\n",
      "\u001b[1;32mc:\\users\\peter\\anaconda3\\envs\\tflearn-gpu\\lib\\site-packages\\sklearn\\model_selection\\_validation.py\u001b[0m in \u001b[0;36mcross_val_score\u001b[1;34m(estimator, X, y, groups, scoring, cv, n_jobs, verbose, fit_params, pre_dispatch)\u001b[0m\n\u001b[0;32m    319\u001b[0m                                 \u001b[0mn_jobs\u001b[0m\u001b[1;33m=\u001b[0m\u001b[0mn_jobs\u001b[0m\u001b[1;33m,\u001b[0m \u001b[0mverbose\u001b[0m\u001b[1;33m=\u001b[0m\u001b[0mverbose\u001b[0m\u001b[1;33m,\u001b[0m\u001b[1;33m\u001b[0m\u001b[0m\n\u001b[0;32m    320\u001b[0m                                 \u001b[0mfit_params\u001b[0m\u001b[1;33m=\u001b[0m\u001b[0mfit_params\u001b[0m\u001b[1;33m,\u001b[0m\u001b[1;33m\u001b[0m\u001b[0m\n\u001b[1;32m--> 321\u001b[1;33m                                 pre_dispatch=pre_dispatch)\n\u001b[0m\u001b[0;32m    322\u001b[0m     \u001b[1;32mreturn\u001b[0m \u001b[0mcv_results\u001b[0m\u001b[1;33m[\u001b[0m\u001b[1;34m'test_score'\u001b[0m\u001b[1;33m]\u001b[0m\u001b[1;33m\u001b[0m\u001b[0m\n\u001b[0;32m    323\u001b[0m \u001b[1;33m\u001b[0m\u001b[0m\n",
      "\u001b[1;32mc:\\users\\peter\\anaconda3\\envs\\tflearn-gpu\\lib\\site-packages\\sklearn\\model_selection\\_validation.py\u001b[0m in \u001b[0;36mcross_validate\u001b[1;34m(estimator, X, y, groups, scoring, cv, n_jobs, verbose, fit_params, pre_dispatch, return_train_score)\u001b[0m\n\u001b[0;32m    193\u001b[0m             \u001b[0mfit_params\u001b[0m\u001b[1;33m,\u001b[0m \u001b[0mreturn_train_score\u001b[0m\u001b[1;33m=\u001b[0m\u001b[0mreturn_train_score\u001b[0m\u001b[1;33m,\u001b[0m\u001b[1;33m\u001b[0m\u001b[0m\n\u001b[0;32m    194\u001b[0m             return_times=True)\n\u001b[1;32m--> 195\u001b[1;33m         for train, test in cv.split(X, y, groups))\n\u001b[0m\u001b[0;32m    196\u001b[0m \u001b[1;33m\u001b[0m\u001b[0m\n\u001b[0;32m    197\u001b[0m     \u001b[1;32mif\u001b[0m \u001b[0mreturn_train_score\u001b[0m\u001b[1;33m:\u001b[0m\u001b[1;33m\u001b[0m\u001b[0m\n",
      "\u001b[1;32mc:\\users\\peter\\anaconda3\\envs\\tflearn-gpu\\lib\\site-packages\\sklearn\\externals\\joblib\\parallel.py\u001b[0m in \u001b[0;36m__call__\u001b[1;34m(self, iterable)\u001b[0m\n\u001b[0;32m    777\u001b[0m             \u001b[1;31m# was dispatched. In particular this covers the edge\u001b[0m\u001b[1;33m\u001b[0m\u001b[1;33m\u001b[0m\u001b[0m\n\u001b[0;32m    778\u001b[0m             \u001b[1;31m# case of Parallel used with an exhausted iterator.\u001b[0m\u001b[1;33m\u001b[0m\u001b[1;33m\u001b[0m\u001b[0m\n\u001b[1;32m--> 779\u001b[1;33m             \u001b[1;32mwhile\u001b[0m \u001b[0mself\u001b[0m\u001b[1;33m.\u001b[0m\u001b[0mdispatch_one_batch\u001b[0m\u001b[1;33m(\u001b[0m\u001b[0miterator\u001b[0m\u001b[1;33m)\u001b[0m\u001b[1;33m:\u001b[0m\u001b[1;33m\u001b[0m\u001b[0m\n\u001b[0m\u001b[0;32m    780\u001b[0m                 \u001b[0mself\u001b[0m\u001b[1;33m.\u001b[0m\u001b[0m_iterating\u001b[0m \u001b[1;33m=\u001b[0m \u001b[1;32mTrue\u001b[0m\u001b[1;33m\u001b[0m\u001b[0m\n\u001b[0;32m    781\u001b[0m             \u001b[1;32melse\u001b[0m\u001b[1;33m:\u001b[0m\u001b[1;33m\u001b[0m\u001b[0m\n",
      "\u001b[1;32mc:\\users\\peter\\anaconda3\\envs\\tflearn-gpu\\lib\\site-packages\\sklearn\\externals\\joblib\\parallel.py\u001b[0m in \u001b[0;36mdispatch_one_batch\u001b[1;34m(self, iterator)\u001b[0m\n\u001b[0;32m    623\u001b[0m                 \u001b[1;32mreturn\u001b[0m \u001b[1;32mFalse\u001b[0m\u001b[1;33m\u001b[0m\u001b[0m\n\u001b[0;32m    624\u001b[0m             \u001b[1;32melse\u001b[0m\u001b[1;33m:\u001b[0m\u001b[1;33m\u001b[0m\u001b[0m\n\u001b[1;32m--> 625\u001b[1;33m                 \u001b[0mself\u001b[0m\u001b[1;33m.\u001b[0m\u001b[0m_dispatch\u001b[0m\u001b[1;33m(\u001b[0m\u001b[0mtasks\u001b[0m\u001b[1;33m)\u001b[0m\u001b[1;33m\u001b[0m\u001b[0m\n\u001b[0m\u001b[0;32m    626\u001b[0m                 \u001b[1;32mreturn\u001b[0m \u001b[1;32mTrue\u001b[0m\u001b[1;33m\u001b[0m\u001b[0m\n\u001b[0;32m    627\u001b[0m \u001b[1;33m\u001b[0m\u001b[0m\n",
      "\u001b[1;32mc:\\users\\peter\\anaconda3\\envs\\tflearn-gpu\\lib\\site-packages\\sklearn\\externals\\joblib\\parallel.py\u001b[0m in \u001b[0;36m_dispatch\u001b[1;34m(self, batch)\u001b[0m\n\u001b[0;32m    586\u001b[0m         \u001b[0mdispatch_timestamp\u001b[0m \u001b[1;33m=\u001b[0m \u001b[0mtime\u001b[0m\u001b[1;33m.\u001b[0m\u001b[0mtime\u001b[0m\u001b[1;33m(\u001b[0m\u001b[1;33m)\u001b[0m\u001b[1;33m\u001b[0m\u001b[0m\n\u001b[0;32m    587\u001b[0m         \u001b[0mcb\u001b[0m \u001b[1;33m=\u001b[0m \u001b[0mBatchCompletionCallBack\u001b[0m\u001b[1;33m(\u001b[0m\u001b[0mdispatch_timestamp\u001b[0m\u001b[1;33m,\u001b[0m \u001b[0mlen\u001b[0m\u001b[1;33m(\u001b[0m\u001b[0mbatch\u001b[0m\u001b[1;33m)\u001b[0m\u001b[1;33m,\u001b[0m \u001b[0mself\u001b[0m\u001b[1;33m)\u001b[0m\u001b[1;33m\u001b[0m\u001b[0m\n\u001b[1;32m--> 588\u001b[1;33m         \u001b[0mjob\u001b[0m \u001b[1;33m=\u001b[0m \u001b[0mself\u001b[0m\u001b[1;33m.\u001b[0m\u001b[0m_backend\u001b[0m\u001b[1;33m.\u001b[0m\u001b[0mapply_async\u001b[0m\u001b[1;33m(\u001b[0m\u001b[0mbatch\u001b[0m\u001b[1;33m,\u001b[0m \u001b[0mcallback\u001b[0m\u001b[1;33m=\u001b[0m\u001b[0mcb\u001b[0m\u001b[1;33m)\u001b[0m\u001b[1;33m\u001b[0m\u001b[0m\n\u001b[0m\u001b[0;32m    589\u001b[0m         \u001b[0mself\u001b[0m\u001b[1;33m.\u001b[0m\u001b[0m_jobs\u001b[0m\u001b[1;33m.\u001b[0m\u001b[0mappend\u001b[0m\u001b[1;33m(\u001b[0m\u001b[0mjob\u001b[0m\u001b[1;33m)\u001b[0m\u001b[1;33m\u001b[0m\u001b[0m\n\u001b[0;32m    590\u001b[0m \u001b[1;33m\u001b[0m\u001b[0m\n",
      "\u001b[1;32mc:\\users\\peter\\anaconda3\\envs\\tflearn-gpu\\lib\\site-packages\\sklearn\\externals\\joblib\\_parallel_backends.py\u001b[0m in \u001b[0;36mapply_async\u001b[1;34m(self, func, callback)\u001b[0m\n\u001b[0;32m    109\u001b[0m     \u001b[1;32mdef\u001b[0m \u001b[0mapply_async\u001b[0m\u001b[1;33m(\u001b[0m\u001b[0mself\u001b[0m\u001b[1;33m,\u001b[0m \u001b[0mfunc\u001b[0m\u001b[1;33m,\u001b[0m \u001b[0mcallback\u001b[0m\u001b[1;33m=\u001b[0m\u001b[1;32mNone\u001b[0m\u001b[1;33m)\u001b[0m\u001b[1;33m:\u001b[0m\u001b[1;33m\u001b[0m\u001b[0m\n\u001b[0;32m    110\u001b[0m         \u001b[1;34m\"\"\"Schedule a func to be run\"\"\"\u001b[0m\u001b[1;33m\u001b[0m\u001b[0m\n\u001b[1;32m--> 111\u001b[1;33m         \u001b[0mresult\u001b[0m \u001b[1;33m=\u001b[0m \u001b[0mImmediateResult\u001b[0m\u001b[1;33m(\u001b[0m\u001b[0mfunc\u001b[0m\u001b[1;33m)\u001b[0m\u001b[1;33m\u001b[0m\u001b[0m\n\u001b[0m\u001b[0;32m    112\u001b[0m         \u001b[1;32mif\u001b[0m \u001b[0mcallback\u001b[0m\u001b[1;33m:\u001b[0m\u001b[1;33m\u001b[0m\u001b[0m\n\u001b[0;32m    113\u001b[0m             \u001b[0mcallback\u001b[0m\u001b[1;33m(\u001b[0m\u001b[0mresult\u001b[0m\u001b[1;33m)\u001b[0m\u001b[1;33m\u001b[0m\u001b[0m\n",
      "\u001b[1;32mc:\\users\\peter\\anaconda3\\envs\\tflearn-gpu\\lib\\site-packages\\sklearn\\externals\\joblib\\_parallel_backends.py\u001b[0m in \u001b[0;36m__init__\u001b[1;34m(self, batch)\u001b[0m\n\u001b[0;32m    330\u001b[0m         \u001b[1;31m# Don't delay the application, to avoid keeping the input\u001b[0m\u001b[1;33m\u001b[0m\u001b[1;33m\u001b[0m\u001b[0m\n\u001b[0;32m    331\u001b[0m         \u001b[1;31m# arguments in memory\u001b[0m\u001b[1;33m\u001b[0m\u001b[1;33m\u001b[0m\u001b[0m\n\u001b[1;32m--> 332\u001b[1;33m         \u001b[0mself\u001b[0m\u001b[1;33m.\u001b[0m\u001b[0mresults\u001b[0m \u001b[1;33m=\u001b[0m \u001b[0mbatch\u001b[0m\u001b[1;33m(\u001b[0m\u001b[1;33m)\u001b[0m\u001b[1;33m\u001b[0m\u001b[0m\n\u001b[0m\u001b[0;32m    333\u001b[0m \u001b[1;33m\u001b[0m\u001b[0m\n\u001b[0;32m    334\u001b[0m     \u001b[1;32mdef\u001b[0m \u001b[0mget\u001b[0m\u001b[1;33m(\u001b[0m\u001b[0mself\u001b[0m\u001b[1;33m)\u001b[0m\u001b[1;33m:\u001b[0m\u001b[1;33m\u001b[0m\u001b[0m\n",
      "\u001b[1;32mc:\\users\\peter\\anaconda3\\envs\\tflearn-gpu\\lib\\site-packages\\sklearn\\externals\\joblib\\parallel.py\u001b[0m in \u001b[0;36m__call__\u001b[1;34m(self)\u001b[0m\n\u001b[0;32m    129\u001b[0m \u001b[1;33m\u001b[0m\u001b[0m\n\u001b[0;32m    130\u001b[0m     \u001b[1;32mdef\u001b[0m \u001b[0m__call__\u001b[0m\u001b[1;33m(\u001b[0m\u001b[0mself\u001b[0m\u001b[1;33m)\u001b[0m\u001b[1;33m:\u001b[0m\u001b[1;33m\u001b[0m\u001b[0m\n\u001b[1;32m--> 131\u001b[1;33m         \u001b[1;32mreturn\u001b[0m \u001b[1;33m[\u001b[0m\u001b[0mfunc\u001b[0m\u001b[1;33m(\u001b[0m\u001b[1;33m*\u001b[0m\u001b[0margs\u001b[0m\u001b[1;33m,\u001b[0m \u001b[1;33m**\u001b[0m\u001b[0mkwargs\u001b[0m\u001b[1;33m)\u001b[0m \u001b[1;32mfor\u001b[0m \u001b[0mfunc\u001b[0m\u001b[1;33m,\u001b[0m \u001b[0margs\u001b[0m\u001b[1;33m,\u001b[0m \u001b[0mkwargs\u001b[0m \u001b[1;32min\u001b[0m \u001b[0mself\u001b[0m\u001b[1;33m.\u001b[0m\u001b[0mitems\u001b[0m\u001b[1;33m]\u001b[0m\u001b[1;33m\u001b[0m\u001b[0m\n\u001b[0m\u001b[0;32m    132\u001b[0m \u001b[1;33m\u001b[0m\u001b[0m\n\u001b[0;32m    133\u001b[0m     \u001b[1;32mdef\u001b[0m \u001b[0m__len__\u001b[0m\u001b[1;33m(\u001b[0m\u001b[0mself\u001b[0m\u001b[1;33m)\u001b[0m\u001b[1;33m:\u001b[0m\u001b[1;33m\u001b[0m\u001b[0m\n",
      "\u001b[1;32mc:\\users\\peter\\anaconda3\\envs\\tflearn-gpu\\lib\\site-packages\\sklearn\\externals\\joblib\\parallel.py\u001b[0m in \u001b[0;36m<listcomp>\u001b[1;34m(.0)\u001b[0m\n\u001b[0;32m    129\u001b[0m \u001b[1;33m\u001b[0m\u001b[0m\n\u001b[0;32m    130\u001b[0m     \u001b[1;32mdef\u001b[0m \u001b[0m__call__\u001b[0m\u001b[1;33m(\u001b[0m\u001b[0mself\u001b[0m\u001b[1;33m)\u001b[0m\u001b[1;33m:\u001b[0m\u001b[1;33m\u001b[0m\u001b[0m\n\u001b[1;32m--> 131\u001b[1;33m         \u001b[1;32mreturn\u001b[0m \u001b[1;33m[\u001b[0m\u001b[0mfunc\u001b[0m\u001b[1;33m(\u001b[0m\u001b[1;33m*\u001b[0m\u001b[0margs\u001b[0m\u001b[1;33m,\u001b[0m \u001b[1;33m**\u001b[0m\u001b[0mkwargs\u001b[0m\u001b[1;33m)\u001b[0m \u001b[1;32mfor\u001b[0m \u001b[0mfunc\u001b[0m\u001b[1;33m,\u001b[0m \u001b[0margs\u001b[0m\u001b[1;33m,\u001b[0m \u001b[0mkwargs\u001b[0m \u001b[1;32min\u001b[0m \u001b[0mself\u001b[0m\u001b[1;33m.\u001b[0m\u001b[0mitems\u001b[0m\u001b[1;33m]\u001b[0m\u001b[1;33m\u001b[0m\u001b[0m\n\u001b[0m\u001b[0;32m    132\u001b[0m \u001b[1;33m\u001b[0m\u001b[0m\n\u001b[0;32m    133\u001b[0m     \u001b[1;32mdef\u001b[0m \u001b[0m__len__\u001b[0m\u001b[1;33m(\u001b[0m\u001b[0mself\u001b[0m\u001b[1;33m)\u001b[0m\u001b[1;33m:\u001b[0m\u001b[1;33m\u001b[0m\u001b[0m\n",
      "\u001b[1;32mc:\\users\\peter\\anaconda3\\envs\\tflearn-gpu\\lib\\site-packages\\sklearn\\model_selection\\_validation.py\u001b[0m in \u001b[0;36m_fit_and_score\u001b[1;34m(estimator, X, y, scorer, train, test, verbose, parameters, fit_params, return_train_score, return_parameters, return_n_test_samples, return_times, error_score)\u001b[0m\n\u001b[0;32m    435\u001b[0m             \u001b[0mestimator\u001b[0m\u001b[1;33m.\u001b[0m\u001b[0mfit\u001b[0m\u001b[1;33m(\u001b[0m\u001b[0mX_train\u001b[0m\u001b[1;33m,\u001b[0m \u001b[1;33m**\u001b[0m\u001b[0mfit_params\u001b[0m\u001b[1;33m)\u001b[0m\u001b[1;33m\u001b[0m\u001b[0m\n\u001b[0;32m    436\u001b[0m         \u001b[1;32melse\u001b[0m\u001b[1;33m:\u001b[0m\u001b[1;33m\u001b[0m\u001b[0m\n\u001b[1;32m--> 437\u001b[1;33m             \u001b[0mestimator\u001b[0m\u001b[1;33m.\u001b[0m\u001b[0mfit\u001b[0m\u001b[1;33m(\u001b[0m\u001b[0mX_train\u001b[0m\u001b[1;33m,\u001b[0m \u001b[0my_train\u001b[0m\u001b[1;33m,\u001b[0m \u001b[1;33m**\u001b[0m\u001b[0mfit_params\u001b[0m\u001b[1;33m)\u001b[0m\u001b[1;33m\u001b[0m\u001b[0m\n\u001b[0m\u001b[0;32m    438\u001b[0m \u001b[1;33m\u001b[0m\u001b[0m\n\u001b[0;32m    439\u001b[0m     \u001b[1;32mexcept\u001b[0m \u001b[0mException\u001b[0m \u001b[1;32mas\u001b[0m \u001b[0me\u001b[0m\u001b[1;33m:\u001b[0m\u001b[1;33m\u001b[0m\u001b[0m\n",
      "\u001b[1;32mc:\\users\\peter\\anaconda3\\envs\\tflearn-gpu\\lib\\site-packages\\sklearn\\ensemble\\forest.py\u001b[0m in \u001b[0;36mfit\u001b[1;34m(self, X, y, sample_weight)\u001b[0m\n\u001b[0;32m    325\u001b[0m                     \u001b[0mt\u001b[0m\u001b[1;33m,\u001b[0m \u001b[0mself\u001b[0m\u001b[1;33m,\u001b[0m \u001b[0mX\u001b[0m\u001b[1;33m,\u001b[0m \u001b[0my\u001b[0m\u001b[1;33m,\u001b[0m \u001b[0msample_weight\u001b[0m\u001b[1;33m,\u001b[0m \u001b[0mi\u001b[0m\u001b[1;33m,\u001b[0m \u001b[0mlen\u001b[0m\u001b[1;33m(\u001b[0m\u001b[0mtrees\u001b[0m\u001b[1;33m)\u001b[0m\u001b[1;33m,\u001b[0m\u001b[1;33m\u001b[0m\u001b[0m\n\u001b[0;32m    326\u001b[0m                     verbose=self.verbose, class_weight=self.class_weight)\n\u001b[1;32m--> 327\u001b[1;33m                 for i, t in enumerate(trees))\n\u001b[0m\u001b[0;32m    328\u001b[0m \u001b[1;33m\u001b[0m\u001b[0m\n\u001b[0;32m    329\u001b[0m             \u001b[1;31m# Collect newly grown trees\u001b[0m\u001b[1;33m\u001b[0m\u001b[1;33m\u001b[0m\u001b[0m\n",
      "\u001b[1;32mc:\\users\\peter\\anaconda3\\envs\\tflearn-gpu\\lib\\site-packages\\sklearn\\externals\\joblib\\parallel.py\u001b[0m in \u001b[0;36m__call__\u001b[1;34m(self, iterable)\u001b[0m\n\u001b[0;32m    787\u001b[0m                 \u001b[1;31m# consumption.\u001b[0m\u001b[1;33m\u001b[0m\u001b[1;33m\u001b[0m\u001b[0m\n\u001b[0;32m    788\u001b[0m                 \u001b[0mself\u001b[0m\u001b[1;33m.\u001b[0m\u001b[0m_iterating\u001b[0m \u001b[1;33m=\u001b[0m \u001b[1;32mFalse\u001b[0m\u001b[1;33m\u001b[0m\u001b[0m\n\u001b[1;32m--> 789\u001b[1;33m             \u001b[0mself\u001b[0m\u001b[1;33m.\u001b[0m\u001b[0mretrieve\u001b[0m\u001b[1;33m(\u001b[0m\u001b[1;33m)\u001b[0m\u001b[1;33m\u001b[0m\u001b[0m\n\u001b[0m\u001b[0;32m    790\u001b[0m             \u001b[1;31m# Make sure that we get a last message telling us we are done\u001b[0m\u001b[1;33m\u001b[0m\u001b[1;33m\u001b[0m\u001b[0m\n\u001b[0;32m    791\u001b[0m             \u001b[0melapsed_time\u001b[0m \u001b[1;33m=\u001b[0m \u001b[0mtime\u001b[0m\u001b[1;33m.\u001b[0m\u001b[0mtime\u001b[0m\u001b[1;33m(\u001b[0m\u001b[1;33m)\u001b[0m \u001b[1;33m-\u001b[0m \u001b[0mself\u001b[0m\u001b[1;33m.\u001b[0m\u001b[0m_start_time\u001b[0m\u001b[1;33m\u001b[0m\u001b[0m\n",
      "\u001b[1;32mc:\\users\\peter\\anaconda3\\envs\\tflearn-gpu\\lib\\site-packages\\sklearn\\externals\\joblib\\parallel.py\u001b[0m in \u001b[0;36mretrieve\u001b[1;34m(self)\u001b[0m\n\u001b[0;32m    697\u001b[0m             \u001b[1;32mtry\u001b[0m\u001b[1;33m:\u001b[0m\u001b[1;33m\u001b[0m\u001b[0m\n\u001b[0;32m    698\u001b[0m                 \u001b[1;32mif\u001b[0m \u001b[0mgetattr\u001b[0m\u001b[1;33m(\u001b[0m\u001b[0mself\u001b[0m\u001b[1;33m.\u001b[0m\u001b[0m_backend\u001b[0m\u001b[1;33m,\u001b[0m \u001b[1;34m'supports_timeout'\u001b[0m\u001b[1;33m,\u001b[0m \u001b[1;32mFalse\u001b[0m\u001b[1;33m)\u001b[0m\u001b[1;33m:\u001b[0m\u001b[1;33m\u001b[0m\u001b[0m\n\u001b[1;32m--> 699\u001b[1;33m                     \u001b[0mself\u001b[0m\u001b[1;33m.\u001b[0m\u001b[0m_output\u001b[0m\u001b[1;33m.\u001b[0m\u001b[0mextend\u001b[0m\u001b[1;33m(\u001b[0m\u001b[0mjob\u001b[0m\u001b[1;33m.\u001b[0m\u001b[0mget\u001b[0m\u001b[1;33m(\u001b[0m\u001b[0mtimeout\u001b[0m\u001b[1;33m=\u001b[0m\u001b[0mself\u001b[0m\u001b[1;33m.\u001b[0m\u001b[0mtimeout\u001b[0m\u001b[1;33m)\u001b[0m\u001b[1;33m)\u001b[0m\u001b[1;33m\u001b[0m\u001b[0m\n\u001b[0m\u001b[0;32m    700\u001b[0m                 \u001b[1;32melse\u001b[0m\u001b[1;33m:\u001b[0m\u001b[1;33m\u001b[0m\u001b[0m\n\u001b[0;32m    701\u001b[0m                     \u001b[0mself\u001b[0m\u001b[1;33m.\u001b[0m\u001b[0m_output\u001b[0m\u001b[1;33m.\u001b[0m\u001b[0mextend\u001b[0m\u001b[1;33m(\u001b[0m\u001b[0mjob\u001b[0m\u001b[1;33m.\u001b[0m\u001b[0mget\u001b[0m\u001b[1;33m(\u001b[0m\u001b[1;33m)\u001b[0m\u001b[1;33m)\u001b[0m\u001b[1;33m\u001b[0m\u001b[0m\n",
      "\u001b[1;32mc:\\users\\peter\\anaconda3\\envs\\tflearn-gpu\\lib\\multiprocessing\\pool.py\u001b[0m in \u001b[0;36mget\u001b[1;34m(self, timeout)\u001b[0m\n\u001b[0;32m    600\u001b[0m \u001b[1;33m\u001b[0m\u001b[0m\n\u001b[0;32m    601\u001b[0m     \u001b[1;32mdef\u001b[0m \u001b[0mget\u001b[0m\u001b[1;33m(\u001b[0m\u001b[0mself\u001b[0m\u001b[1;33m,\u001b[0m \u001b[0mtimeout\u001b[0m\u001b[1;33m=\u001b[0m\u001b[1;32mNone\u001b[0m\u001b[1;33m)\u001b[0m\u001b[1;33m:\u001b[0m\u001b[1;33m\u001b[0m\u001b[0m\n\u001b[1;32m--> 602\u001b[1;33m         \u001b[0mself\u001b[0m\u001b[1;33m.\u001b[0m\u001b[0mwait\u001b[0m\u001b[1;33m(\u001b[0m\u001b[0mtimeout\u001b[0m\u001b[1;33m)\u001b[0m\u001b[1;33m\u001b[0m\u001b[0m\n\u001b[0m\u001b[0;32m    603\u001b[0m         \u001b[1;32mif\u001b[0m \u001b[1;32mnot\u001b[0m \u001b[0mself\u001b[0m\u001b[1;33m.\u001b[0m\u001b[0mready\u001b[0m\u001b[1;33m(\u001b[0m\u001b[1;33m)\u001b[0m\u001b[1;33m:\u001b[0m\u001b[1;33m\u001b[0m\u001b[0m\n\u001b[0;32m    604\u001b[0m             \u001b[1;32mraise\u001b[0m \u001b[0mTimeoutError\u001b[0m\u001b[1;33m\u001b[0m\u001b[0m\n",
      "\u001b[1;32mc:\\users\\peter\\anaconda3\\envs\\tflearn-gpu\\lib\\multiprocessing\\pool.py\u001b[0m in \u001b[0;36mwait\u001b[1;34m(self, timeout)\u001b[0m\n\u001b[0;32m    597\u001b[0m \u001b[1;33m\u001b[0m\u001b[0m\n\u001b[0;32m    598\u001b[0m     \u001b[1;32mdef\u001b[0m \u001b[0mwait\u001b[0m\u001b[1;33m(\u001b[0m\u001b[0mself\u001b[0m\u001b[1;33m,\u001b[0m \u001b[0mtimeout\u001b[0m\u001b[1;33m=\u001b[0m\u001b[1;32mNone\u001b[0m\u001b[1;33m)\u001b[0m\u001b[1;33m:\u001b[0m\u001b[1;33m\u001b[0m\u001b[0m\n\u001b[1;32m--> 599\u001b[1;33m         \u001b[0mself\u001b[0m\u001b[1;33m.\u001b[0m\u001b[0m_event\u001b[0m\u001b[1;33m.\u001b[0m\u001b[0mwait\u001b[0m\u001b[1;33m(\u001b[0m\u001b[0mtimeout\u001b[0m\u001b[1;33m)\u001b[0m\u001b[1;33m\u001b[0m\u001b[0m\n\u001b[0m\u001b[0;32m    600\u001b[0m \u001b[1;33m\u001b[0m\u001b[0m\n\u001b[0;32m    601\u001b[0m     \u001b[1;32mdef\u001b[0m \u001b[0mget\u001b[0m\u001b[1;33m(\u001b[0m\u001b[0mself\u001b[0m\u001b[1;33m,\u001b[0m \u001b[0mtimeout\u001b[0m\u001b[1;33m=\u001b[0m\u001b[1;32mNone\u001b[0m\u001b[1;33m)\u001b[0m\u001b[1;33m:\u001b[0m\u001b[1;33m\u001b[0m\u001b[0m\n",
      "\u001b[1;32mc:\\users\\peter\\anaconda3\\envs\\tflearn-gpu\\lib\\threading.py\u001b[0m in \u001b[0;36mwait\u001b[1;34m(self, timeout)\u001b[0m\n\u001b[0;32m    547\u001b[0m             \u001b[0msignaled\u001b[0m \u001b[1;33m=\u001b[0m \u001b[0mself\u001b[0m\u001b[1;33m.\u001b[0m\u001b[0m_flag\u001b[0m\u001b[1;33m\u001b[0m\u001b[0m\n\u001b[0;32m    548\u001b[0m             \u001b[1;32mif\u001b[0m \u001b[1;32mnot\u001b[0m \u001b[0msignaled\u001b[0m\u001b[1;33m:\u001b[0m\u001b[1;33m\u001b[0m\u001b[0m\n\u001b[1;32m--> 549\u001b[1;33m                 \u001b[0msignaled\u001b[0m \u001b[1;33m=\u001b[0m \u001b[0mself\u001b[0m\u001b[1;33m.\u001b[0m\u001b[0m_cond\u001b[0m\u001b[1;33m.\u001b[0m\u001b[0mwait\u001b[0m\u001b[1;33m(\u001b[0m\u001b[0mtimeout\u001b[0m\u001b[1;33m)\u001b[0m\u001b[1;33m\u001b[0m\u001b[0m\n\u001b[0m\u001b[0;32m    550\u001b[0m             \u001b[1;32mreturn\u001b[0m \u001b[0msignaled\u001b[0m\u001b[1;33m\u001b[0m\u001b[0m\n\u001b[0;32m    551\u001b[0m \u001b[1;33m\u001b[0m\u001b[0m\n",
      "\u001b[1;32mc:\\users\\peter\\anaconda3\\envs\\tflearn-gpu\\lib\\threading.py\u001b[0m in \u001b[0;36mwait\u001b[1;34m(self, timeout)\u001b[0m\n\u001b[0;32m    291\u001b[0m         \u001b[1;32mtry\u001b[0m\u001b[1;33m:\u001b[0m    \u001b[1;31m# restore state no matter what (e.g., KeyboardInterrupt)\u001b[0m\u001b[1;33m\u001b[0m\u001b[0m\n\u001b[0;32m    292\u001b[0m             \u001b[1;32mif\u001b[0m \u001b[0mtimeout\u001b[0m \u001b[1;32mis\u001b[0m \u001b[1;32mNone\u001b[0m\u001b[1;33m:\u001b[0m\u001b[1;33m\u001b[0m\u001b[0m\n\u001b[1;32m--> 293\u001b[1;33m                 \u001b[0mwaiter\u001b[0m\u001b[1;33m.\u001b[0m\u001b[0macquire\u001b[0m\u001b[1;33m(\u001b[0m\u001b[1;33m)\u001b[0m\u001b[1;33m\u001b[0m\u001b[0m\n\u001b[0m\u001b[0;32m    294\u001b[0m                 \u001b[0mgotit\u001b[0m \u001b[1;33m=\u001b[0m \u001b[1;32mTrue\u001b[0m\u001b[1;33m\u001b[0m\u001b[0m\n\u001b[0;32m    295\u001b[0m             \u001b[1;32melse\u001b[0m\u001b[1;33m:\u001b[0m\u001b[1;33m\u001b[0m\u001b[0m\n",
      "\u001b[1;31mKeyboardInterrupt\u001b[0m: "
     ]
    }
   ],
   "source": [
    "cross_val_model(te2_train[selected_features_te3b], y, rf_model)"
   ]
  },
  {
   "cell_type": "code",
   "execution_count": 523,
   "metadata": {
    "scrolled": true
   },
   "outputs": [
    {
     "name": "stdout",
     "output_type": "stream",
     "text": [
      "Fit XGBClassifier fold 1\n",
      "    cross_score: 0.64306 (0.28613)\n",
      "    [       150 secs elapsed]: cross_score: 0.64306 (0.28613)\n",
      "Fit XGBClassifier fold 2\n",
      "    cross_score: 0.64722 (0.29444)\n",
      "    [       323 secs elapsed]: cross_score: 0.64722 (0.29444)\n",
      "Fit XGBClassifier fold 3\n",
      "    cross_score: 0.64888 (0.29777)\n",
      "    [       480 secs elapsed]: cross_score: 0.64888 (0.29777)\n",
      "cross_score_mean: 0.64639 (0.29278)\n"
     ]
    }
   ],
   "source": [
    "cross_val_model(te2_train[selected_features_te3b], y, xgb_model)"
   ]
  },
  {
   "cell_type": "code",
   "execution_count": 515,
   "metadata": {
    "scrolled": false
   },
   "outputs": [
    {
     "name": "stdout",
     "output_type": "stream",
     "text": [
      "Fit LGBMClassifier fold 1\n",
      "    cross_score: 0.66771 (0.33543)\n",
      "    [        27 secs elapsed]: cross_score: 0.66771 (0.33543)\n",
      "Fit LGBMClassifier fold 2\n",
      "    cross_score: 0.67081 (0.34162)\n",
      "    [        54 secs elapsed]: cross_score: 0.67081 (0.34162)\n",
      "Fit LGBMClassifier fold 3\n",
      "    cross_score: 0.67036 (0.34072)\n",
      "    [        83 secs elapsed]: cross_score: 0.67036 (0.34072)\n",
      "cross_score_mean: 0.66963 (0.33926)\n"
     ]
    }
   ],
   "source": [
    "cross_val_model(te2_train[selected_features_te3b], y, lgb_model)"
   ]
  },
  {
   "cell_type": "code",
   "execution_count": 585,
   "metadata": {},
   "outputs": [],
   "source": [
    "selected_features_te3d = selected_features_te3b.copy()\n",
    "for c in ['ps_reg_03_avg', 'ps_car_04_cat', 'ps_calc_05', 'ps_calc_09', 'ps_car_01_cat', 'ps_car_02_cat', 'ps_car_05_cat'\n",
    "         , 'ps_car_06_cat', 'ps_car_07_cat', 'ps_car_09_cat', 'ps_reg_01_plus_ps_car_02_cat', 'ps_reg_01_plus_ps_car_04_cat'\n",
    "          , 'ps_ind_04_cat', 'ps_reg_02', 'ps_ind_03_avg', 'ps_car_11_avg', 'ps_car_15_avg', 'ps_car_11_cat']:\n",
    "    selected_features_te3d.remove(c)"
   ]
  },
  {
   "cell_type": "code",
   "execution_count": 586,
   "metadata": {},
   "outputs": [
    {
     "data": {
      "text/plain": [
       "['ps_calc_0 - ps_calc_05_avg',\n",
       " 'ps_calc_0 - ps_calc_09_avg',\n",
       " 'ps_car_01 - ps_car_01_cat_avg',\n",
       " 'ps_car_02 - ps_car_02_cat_oh_0.0',\n",
       " 'ps_car_02 - ps_car_02_cat_oh_1.0',\n",
       " 'ps_car_02 - ps_car_02_cat_oh_nan',\n",
       " 'ps_car_03 - ps_car_03_cat_oh_0.0',\n",
       " 'ps_car_03 - ps_car_03_cat_oh_1.0',\n",
       " 'ps_car_03 - ps_car_03_cat_oh_nan',\n",
       " 'ps_car_04 - ps_car_04_cat_avg',\n",
       " 'ps_car_05 - ps_car_05_cat_oh_0.0',\n",
       " 'ps_car_05 - ps_car_05_cat_oh_1.0',\n",
       " 'ps_car_05 - ps_car_05_cat_oh_nan',\n",
       " 'ps_car_06 - ps_car_06_cat_avg',\n",
       " 'ps_car_07 - ps_car_07_cat_oh_0.0',\n",
       " 'ps_car_07 - ps_car_07_cat_oh_1.0',\n",
       " 'ps_car_07 - ps_car_07_cat_oh_nan',\n",
       " 'ps_car_08 - ps_car_08_cat',\n",
       " 'ps_car_09 - ps_car_09_cat_avg',\n",
       " 'ps_car_11 - ps_car_11',\n",
       " 'ps_car_11 - ps_car_11_cat_avg',\n",
       " 'ps_car_12 - ps_car_12',\n",
       " 'ps_car_13 - ps_car_13',\n",
       " 'ps_car_14 - ps_car_14',\n",
       " 'ps_car_15 - ps_car_15',\n",
       " 'ps_ind_01 - ps_ind_01',\n",
       " 'ps_ind_01 - ps_ind_01_avg',\n",
       " 'ps_ind_02 - ps_ind_02_cat',\n",
       " 'ps_ind_02 - ps_ind_02_cat_avg',\n",
       " 'ps_ind_03 - ps_ind_03',\n",
       " 'ps_ind_04 - ps_ind_04_cat_oh_0.0',\n",
       " 'ps_ind_04 - ps_ind_04_cat_oh_1.0',\n",
       " 'ps_ind_04 - ps_ind_04_cat_oh_nan',\n",
       " 'ps_ind_05 - ps_ind_05_cat',\n",
       " 'ps_ind_05 - ps_ind_05_cat_avg',\n",
       " 'ps_ind_06 - ps_ind_06_bin',\n",
       " 'ps_ind_07 - ps_ind_07_bin',\n",
       " 'ps_ind_08 - ps_ind_08_bin',\n",
       " 'ps_ind_09 - ps_ind_09_bin',\n",
       " 'ps_ind_12 - ps_ind_12_bin',\n",
       " 'ps_ind_14 - ps_ind_14',\n",
       " 'ps_ind_14 - ps_ind_14_avg',\n",
       " 'ps_ind_15 - ps_ind_15',\n",
       " 'ps_ind_15 - ps_ind_15_avg',\n",
       " 'ps_ind_16 - ps_ind_16_bin',\n",
       " 'ps_ind_17 - ps_ind_17_bin',\n",
       " 'ps_ind_18 - ps_ind_18_bin',\n",
       " 'ps_reg_01 - ps_reg_01',\n",
       " 'ps_reg_01 - ps_reg_01_avg',\n",
       " 'ps_reg_01 - ps_reg_01_plus_ps_car_02_cat_avg',\n",
       " 'ps_reg_01 - ps_reg_01_plus_ps_car_04_cat_avg',\n",
       " 'ps_reg_02 - ps_reg_02_avg',\n",
       " 'ps_reg_03 - ps_reg_03']"
      ]
     },
     "execution_count": 586,
     "metadata": {},
     "output_type": "execute_result"
    }
   ],
   "source": [
    "sorted([x[:len('ps_ind_04')] + ' - ' + x for x in selected_features_te3d])"
   ]
  },
  {
   "cell_type": "code",
   "execution_count": 587,
   "metadata": {},
   "outputs": [
    {
     "name": "stdout",
     "output_type": "stream",
     "text": [
      "Fit LGBMClassifier fold 1\n",
      "    cross_score: 0.63613 (0.27226)\n",
      "    [        28 secs elapsed]: cross_score: 0.63613 (0.27226)\n",
      "Fit LGBMClassifier fold 2\n",
      "    cross_score: 0.63455 (0.26911)\n",
      "    [        50 secs elapsed]: cross_score: 0.63455 (0.26911)\n",
      "Fit LGBMClassifier fold 3\n",
      "    cross_score: 0.63831 (0.27661)\n",
      "    [        73 secs elapsed]: cross_score: 0.63831 (0.27661)\n",
      "cross_score_mean: 0.63633 (0.27266)\n"
     ]
    }
   ],
   "source": [
    "cross_val_model(te2_train[selected_features_te3d], y, lgb_model)"
   ]
  },
  {
   "cell_type": "code",
   "execution_count": 572,
   "metadata": {
    "scrolled": true
   },
   "outputs": [
    {
     "name": "stdout",
     "output_type": "stream",
     "text": [
      "Fit LGBMClassifier fold 1\n",
      "    cross_score: 0.66510 (0.33021)\n",
      "    [        20 secs elapsed]: cross_score: 0.66510 (0.33021)\n",
      "Fit LGBMClassifier fold 2\n",
      "    cross_score: 0.67052 (0.34105)\n",
      "    [        40 secs elapsed]: cross_score: 0.67052 (0.34105)\n",
      "Fit LGBMClassifier fold 3\n",
      "    cross_score: 0.67010 (0.34020)\n",
      "    [        64 secs elapsed]: cross_score: 0.67010 (0.34020)\n",
      "cross_score_mean: 0.66858 (0.33715)\n"
     ]
    }
   ],
   "source": [
    "cross_val_model(te2_train[selected_features_te3c], y, lgb_model)"
   ]
  },
  {
   "cell_type": "code",
   "execution_count": 580,
   "metadata": {},
   "outputs": [
    {
     "data": {
      "text/html": [
       "<div>\n",
       "<style scoped>\n",
       "    .dataframe tbody tr th:only-of-type {\n",
       "        vertical-align: middle;\n",
       "    }\n",
       "\n",
       "    .dataframe tbody tr th {\n",
       "        vertical-align: top;\n",
       "    }\n",
       "\n",
       "    .dataframe thead th {\n",
       "        text-align: right;\n",
       "    }\n",
       "</style>\n",
       "<table border=\"1\" class=\"dataframe\">\n",
       "  <thead>\n",
       "    <tr style=\"text-align: right;\">\n",
       "      <th></th>\n",
       "      <th>feature</th>\n",
       "      <th>importance</th>\n",
       "    </tr>\n",
       "  </thead>\n",
       "  <tbody>\n",
       "    <tr>\n",
       "      <th>0</th>\n",
       "      <td>ps_car_07_cat_oh_1.0</td>\n",
       "      <td>303</td>\n",
       "    </tr>\n",
       "    <tr>\n",
       "      <th>1</th>\n",
       "      <td>ps_ind_14</td>\n",
       "      <td>294</td>\n",
       "    </tr>\n",
       "    <tr>\n",
       "      <th>2</th>\n",
       "      <td>ps_car_05_cat_oh_1.0</td>\n",
       "      <td>261</td>\n",
       "    </tr>\n",
       "    <tr>\n",
       "      <th>3</th>\n",
       "      <td>ps_car_02_cat_oh_1.0</td>\n",
       "      <td>207</td>\n",
       "    </tr>\n",
       "    <tr>\n",
       "      <th>4</th>\n",
       "      <td>ps_reg_02</td>\n",
       "      <td>194</td>\n",
       "    </tr>\n",
       "    <tr>\n",
       "      <th>5</th>\n",
       "      <td>ps_calc_05_avg</td>\n",
       "      <td>172</td>\n",
       "    </tr>\n",
       "    <tr>\n",
       "      <th>6</th>\n",
       "      <td>ps_ind_05_cat_avg</td>\n",
       "      <td>150</td>\n",
       "    </tr>\n",
       "    <tr>\n",
       "      <th>7</th>\n",
       "      <td>ps_ind_12_bin</td>\n",
       "      <td>147</td>\n",
       "    </tr>\n",
       "    <tr>\n",
       "      <th>8</th>\n",
       "      <td>ps_car_08_cat</td>\n",
       "      <td>144</td>\n",
       "    </tr>\n",
       "    <tr>\n",
       "      <th>9</th>\n",
       "      <td>ps_car_03_cat_oh_0.0</td>\n",
       "      <td>141</td>\n",
       "    </tr>\n",
       "    <tr>\n",
       "      <th>10</th>\n",
       "      <td>ps_ind_17_bin</td>\n",
       "      <td>135</td>\n",
       "    </tr>\n",
       "    <tr>\n",
       "      <th>11</th>\n",
       "      <td>ps_calc_05</td>\n",
       "      <td>124</td>\n",
       "    </tr>\n",
       "    <tr>\n",
       "      <th>12</th>\n",
       "      <td>ps_reg_01_plus_ps_car_04_cat_avg</td>\n",
       "      <td>119</td>\n",
       "    </tr>\n",
       "    <tr>\n",
       "      <th>13</th>\n",
       "      <td>ps_car_11_cat_avg</td>\n",
       "      <td>116</td>\n",
       "    </tr>\n",
       "    <tr>\n",
       "      <th>14</th>\n",
       "      <td>ps_ind_01_avg</td>\n",
       "      <td>101</td>\n",
       "    </tr>\n",
       "    <tr>\n",
       "      <th>15</th>\n",
       "      <td>ps_ind_18_bin</td>\n",
       "      <td>89</td>\n",
       "    </tr>\n",
       "    <tr>\n",
       "      <th>16</th>\n",
       "      <td>ps_car_06_cat</td>\n",
       "      <td>86</td>\n",
       "    </tr>\n",
       "    <tr>\n",
       "      <th>17</th>\n",
       "      <td>ps_car_01_cat</td>\n",
       "      <td>77</td>\n",
       "    </tr>\n",
       "    <tr>\n",
       "      <th>18</th>\n",
       "      <td>ps_car_02_cat_oh_nan</td>\n",
       "      <td>68</td>\n",
       "    </tr>\n",
       "    <tr>\n",
       "      <th>19</th>\n",
       "      <td>ps_ind_01</td>\n",
       "      <td>65</td>\n",
       "    </tr>\n",
       "    <tr>\n",
       "      <th>20</th>\n",
       "      <td>ps_ind_09_bin</td>\n",
       "      <td>60</td>\n",
       "    </tr>\n",
       "    <tr>\n",
       "      <th>21</th>\n",
       "      <td>ps_ind_04_cat_oh_nan</td>\n",
       "      <td>54</td>\n",
       "    </tr>\n",
       "    <tr>\n",
       "      <th>22</th>\n",
       "      <td>ps_ind_05_cat</td>\n",
       "      <td>52</td>\n",
       "    </tr>\n",
       "    <tr>\n",
       "      <th>23</th>\n",
       "      <td>ps_car_11</td>\n",
       "      <td>49</td>\n",
       "    </tr>\n",
       "    <tr>\n",
       "      <th>24</th>\n",
       "      <td>ps_reg_01_avg</td>\n",
       "      <td>47</td>\n",
       "    </tr>\n",
       "  </tbody>\n",
       "</table>\n",
       "</div>"
      ],
      "text/plain": [
       "                             feature  importance\n",
       "0               ps_car_07_cat_oh_1.0         303\n",
       "1                          ps_ind_14         294\n",
       "2               ps_car_05_cat_oh_1.0         261\n",
       "3               ps_car_02_cat_oh_1.0         207\n",
       "4                          ps_reg_02         194\n",
       "5                     ps_calc_05_avg         172\n",
       "6                  ps_ind_05_cat_avg         150\n",
       "7                      ps_ind_12_bin         147\n",
       "8                      ps_car_08_cat         144\n",
       "9               ps_car_03_cat_oh_0.0         141\n",
       "10                     ps_ind_17_bin         135\n",
       "11                        ps_calc_05         124\n",
       "12  ps_reg_01_plus_ps_car_04_cat_avg         119\n",
       "13                 ps_car_11_cat_avg         116\n",
       "14                     ps_ind_01_avg         101\n",
       "15                     ps_ind_18_bin          89\n",
       "16                     ps_car_06_cat          86\n",
       "17                     ps_car_01_cat          77\n",
       "18              ps_car_02_cat_oh_nan          68\n",
       "19                         ps_ind_01          65\n",
       "20                     ps_ind_09_bin          60\n",
       "21              ps_ind_04_cat_oh_nan          54\n",
       "22                     ps_ind_05_cat          52\n",
       "23                         ps_car_11          49\n",
       "24                     ps_reg_01_avg          47"
      ]
     },
     "execution_count": 580,
     "metadata": {},
     "output_type": "execute_result"
    }
   ],
   "source": [
    "feature_importance = get_feature_importance_df(lgb_model.feature_importances_, features)\n",
    "feature_importance"
   ]
  },
  {
   "cell_type": "code",
   "execution_count": null,
   "metadata": {
    "collapsed": true
   },
   "outputs": [],
   "source": []
  },
  {
   "cell_type": "code",
   "execution_count": 581,
   "metadata": {},
   "outputs": [
    {
     "data": {
      "text/plain": [
       "LGBMClassifier(bagging_fraction=0.7, bagging_freq=3, boosting_type='gbdt',\n",
       "        colsample_bytree=1.0, feature_fraction=0.8, learning_rate=0.05,\n",
       "        max_bin=255, max_depth=5, metric='binary_logloss',\n",
       "        min_child_samples=10, min_child_weight=5, min_split_gain=0.0,\n",
       "        n_estimators=200, n_jobs=-1, num_leaves=20, objective='binary',\n",
       "        random_state=0, reg_alpha=0.0, reg_lambda=0.0, silent=True,\n",
       "        sub_feature=0.8, subsample=1.0, subsample_for_bin=50000,\n",
       "        subsample_freq=1)"
      ]
     },
     "execution_count": 581,
     "metadata": {},
     "output_type": "execute_result"
    }
   ],
   "source": [
    "lgb_model.fit(te2_train[selected_features_te3d], y)"
   ]
  },
  {
   "cell_type": "code",
   "execution_count": 582,
   "metadata": {
    "collapsed": true
   },
   "outputs": [],
   "source": [
    "y_pred = lgb_model.predict_proba(te2_test[selected_features_te3d])[:,1]"
   ]
  },
  {
   "cell_type": "code",
   "execution_count": 583,
   "metadata": {
    "collapsed": true
   },
   "outputs": [],
   "source": [
    "sub = pd.DataFrame()\n",
    "sub['id'] = id_test\n",
    "sub['target'] = y_pred\n",
    "sub.to_csv('lgb_feateng03d.csv', index=False)"
   ]
  },
  {
   "cell_type": "code",
   "execution_count": null,
   "metadata": {
    "collapsed": true
   },
   "outputs": [],
   "source": []
  },
  {
   "cell_type": "code",
   "execution_count": 517,
   "metadata": {},
   "outputs": [
    {
     "data": {
      "text/plain": [
       "XGBClassifier(base_score=0.5, colsample_bylevel=1, colsample_bytree=0.6,\n",
       "       gamma=0, learning_rate=0.02, max_delta_step=0, max_depth=4,\n",
       "       min_child_weight=100, missing=None, n_estimators=200, nthread=-1,\n",
       "       objective='binary:logistic', reg_alpha=6e-05, reg_lambda=7e-06,\n",
       "       scale_pos_weight=1, seed=0, silent=True, subsample=0.9)"
      ]
     },
     "execution_count": 517,
     "metadata": {},
     "output_type": "execute_result"
    }
   ],
   "source": [
    "xgb_model.fit(te2_train[selected_features_te3b], y)"
   ]
  },
  {
   "cell_type": "code",
   "execution_count": 518,
   "metadata": {
    "collapsed": true
   },
   "outputs": [],
   "source": [
    "y_pred_xgb = xgb_model.predict_proba(te2_test[selected_features_te3b])[:,1]"
   ]
  },
  {
   "cell_type": "code",
   "execution_count": 519,
   "metadata": {
    "collapsed": true
   },
   "outputs": [],
   "source": [
    "sub = pd.DataFrame()\n",
    "sub['id'] = id_test\n",
    "sub['target'] = y_pred_xgb\n",
    "sub.to_csv('xgb_feateng03b.csv', index=False)"
   ]
  },
  {
   "cell_type": "code",
   "execution_count": null,
   "metadata": {
    "collapsed": true
   },
   "outputs": [],
   "source": []
  },
  {
   "cell_type": "code",
   "execution_count": null,
   "metadata": {
    "collapsed": true
   },
   "outputs": [],
   "source": []
  }
 ],
 "metadata": {
  "kernelspec": {
   "display_name": "Python 3",
   "language": "python",
   "name": "python3"
  },
  "language_info": {
   "codemirror_mode": {
    "name": "ipython",
    "version": 3
   },
   "file_extension": ".py",
   "mimetype": "text/x-python",
   "name": "python",
   "nbconvert_exporter": "python",
   "pygments_lexer": "ipython3",
   "version": "3.5.3"
  }
 },
 "nbformat": 4,
 "nbformat_minor": 2
}
